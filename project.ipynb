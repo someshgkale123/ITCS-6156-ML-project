{
 "cells": [
  {
   "cell_type": "code",
   "execution_count": null,
   "metadata": {},
   "outputs": [],
   "source": []
  },
  {
   "cell_type": "code",
   "execution_count": 1,
   "metadata": {},
   "outputs": [
    {
     "name": "stderr",
     "output_type": "stream",
     "text": [
      "C:\\Users\\somes\\Anaconda3\\lib\\site-packages\\nltk\\twitter\\__init__.py:20: UserWarning: The twython library has not been installed. Some functionality from the twitter package will not be available.\n",
      "  warnings.warn(\"The twython library has not been installed. \"\n"
     ]
    }
   ],
   "source": [
    "import pandas as pd\n",
    "import matplotlib as plt\n",
    "\n",
    "import pandas as pd\n",
    "import matplotlib.pyplot as plt\n",
    "import numpy as np\n",
    "import re\n",
    "import seaborn as sns\n",
    "import string\n",
    "import html\n",
    "from nltk.sentiment.vader import SentimentIntensityAnalyzer\n",
    "from datetime import datetime\n",
    "from sklearn.preprocessing import normalize, MinMaxScaler\n",
    "from scipy.stats import spearmanr, pearsonr\n",
    "from nltk.corpus import stopwords\n",
    "from wordcloud import WordCloud, STOPWORDS\n",
    "from IPython.core.interactiveshell import InteractiveShell\n",
    "InteractiveShell.ast_node_interactivity = \"all\" # To see all the outputs in the notebook, not only the last one\n",
    "pd.set_option('display.max_colwidth', -1) # To see all text in reviews\n",
    "\n",
    "plt.style.use('ggplot')"
   ]
  },
  {
   "cell_type": "code",
   "execution_count": 2,
   "metadata": {},
   "outputs": [
    {
     "data": {
      "text/html": [
       "        <script type=\"text/javascript\">\n",
       "        window.PlotlyConfig = {MathJaxConfig: 'local'};\n",
       "        if (window.MathJax) {MathJax.Hub.Config({SVG: {font: \"STIX-Web\"}});}\n",
       "        if (typeof require !== 'undefined') {\n",
       "        require.undef(\"plotly\");\n",
       "        requirejs.config({\n",
       "            paths: {\n",
       "                'plotly': ['https://cdn.plot.ly/plotly-latest.min']\n",
       "            }\n",
       "        });\n",
       "        require(['plotly'], function(Plotly) {\n",
       "            window._Plotly = Plotly;\n",
       "        });\n",
       "        }\n",
       "        </script>\n",
       "        "
      ]
     },
     "metadata": {},
     "output_type": "display_data"
    }
   ],
   "source": [
    "import pandas as pd #Analysis \n",
    "import matplotlib.pyplot as plt #Visulization\n",
    "import seaborn as sns #Visulization\n",
    "import numpy as np #Analysis \n",
    "from scipy.stats import norm #Analysis \n",
    "from sklearn.preprocessing import StandardScaler #Analysis \n",
    "from scipy import stats #Analysis \n",
    "import warnings \n",
    "warnings.filterwarnings('ignore')\n",
    "%matplotlib inline\n",
    "import gc\n",
    "\n",
    "import os\n",
    "import string\n",
    "color = sns.color_palette()\n",
    "\n",
    "%matplotlib inline\n",
    "\n",
    "from plotly import tools\n",
    "import plotly.offline as py\n",
    "py.init_notebook_mode(connected=True)\n",
    "import plotly.graph_objs as go\n",
    "\n",
    "from sklearn import model_selection, preprocessing, metrics, ensemble, naive_bayes, linear_model\n",
    "from sklearn.feature_extraction.text import TfidfVectorizer, CountVectorizer\n",
    "from sklearn.decomposition import TruncatedSVD\n",
    "#import lightgbm as lgb\n",
    "\n",
    "pd.options.mode.chained_assignment = None\n",
    "pd.options.display.max_columns = 999"
   ]
  },
  {
   "cell_type": "code",
   "execution_count": 3,
   "metadata": {},
   "outputs": [],
   "source": [
    "df_train = pd.read_csv(\"drugsComTrain_raw.csv\", parse_dates=[\"date\"])\n",
    "df_test = pd.read_csv(\"drugsComTest_raw.csv\", parse_dates=[\"date\"])"
   ]
  },
  {
   "cell_type": "code",
   "execution_count": 4,
   "metadata": {},
   "outputs": [
    {
     "name": "stdout",
     "output_type": "stream",
     "text": [
      "Train shape : (161297, 7)\n",
      "Test shape : (53766, 7)\n"
     ]
    }
   ],
   "source": [
    "print(\"Train shape :\" ,df_train.shape)\n",
    "print(\"Test shape :\", df_test.shape)"
   ]
  },
  {
   "cell_type": "code",
   "execution_count": 5,
   "metadata": {},
   "outputs": [
    {
     "data": {
      "text/html": [
       "<div>\n",
       "<style scoped>\n",
       "    .dataframe tbody tr th:only-of-type {\n",
       "        vertical-align: middle;\n",
       "    }\n",
       "\n",
       "    .dataframe tbody tr th {\n",
       "        vertical-align: top;\n",
       "    }\n",
       "\n",
       "    .dataframe thead th {\n",
       "        text-align: right;\n",
       "    }\n",
       "</style>\n",
       "<table border=\"1\" class=\"dataframe\">\n",
       "  <thead>\n",
       "    <tr style=\"text-align: right;\">\n",
       "      <th></th>\n",
       "      <th>uniqueID</th>\n",
       "      <th>drugName</th>\n",
       "      <th>condition</th>\n",
       "      <th>review</th>\n",
       "      <th>rating</th>\n",
       "      <th>date</th>\n",
       "      <th>usefulCount</th>\n",
       "    </tr>\n",
       "  </thead>\n",
       "  <tbody>\n",
       "    <tr>\n",
       "      <th>0</th>\n",
       "      <td>206461</td>\n",
       "      <td>Valsartan</td>\n",
       "      <td>Left Ventricular Dysfunction</td>\n",
       "      <td>\"It has no side effect, I take it in combination of Bystolic 5 Mg and Fish Oil\"</td>\n",
       "      <td>9</td>\n",
       "      <td>2012-05-20</td>\n",
       "      <td>27</td>\n",
       "    </tr>\n",
       "    <tr>\n",
       "      <th>1</th>\n",
       "      <td>95260</td>\n",
       "      <td>Guanfacine</td>\n",
       "      <td>ADHD</td>\n",
       "      <td>\"My son is halfway through his fourth week of Intuniv. We became concerned when he began this last week, when he started taking the highest dose he will be on. For two days, he could hardly get out of bed, was very cranky, and slept for nearly 8 hours on a drive home from school vacation (very unusual for him.) I called his doctor on Monday morning and she said to stick it out a few days. See how he did at school, and with getting up in the morning. The last two days have been problem free. He is MUCH more agreeable than ever. He is less emotional (a good thing), less cranky. He is remembering all the things he should. Overall his behavior is better. \\r\\nWe have tried many different medications and so far this is the most effective.\"</td>\n",
       "      <td>8</td>\n",
       "      <td>2010-04-27</td>\n",
       "      <td>192</td>\n",
       "    </tr>\n",
       "    <tr>\n",
       "      <th>2</th>\n",
       "      <td>92703</td>\n",
       "      <td>Lybrel</td>\n",
       "      <td>Birth Control</td>\n",
       "      <td>\"I used to take another oral contraceptive, which had 21 pill cycle, and was very happy- very light periods, max 5 days, no other side effects. But it contained hormone gestodene, which is not available in US, so I switched to Lybrel, because the ingredients are similar. When my other pills ended, I started Lybrel immediately, on my first day of period, as the instructions said. And the period lasted for two weeks. When taking the second pack- same two weeks. And now, with third pack things got even worse- my third period lasted for two weeks and now it&amp;#039;s the end of the third week- I still have daily brown discharge.\\r\\nThe positive side is that I didn&amp;#039;t have any other side effects. The idea of being period free was so tempting... Alas.\"</td>\n",
       "      <td>5</td>\n",
       "      <td>2009-12-14</td>\n",
       "      <td>17</td>\n",
       "    </tr>\n",
       "    <tr>\n",
       "      <th>3</th>\n",
       "      <td>138000</td>\n",
       "      <td>Ortho Evra</td>\n",
       "      <td>Birth Control</td>\n",
       "      <td>\"This is my first time using any form of birth control. I&amp;#039;m glad I went with the patch, I have been on it for 8 months. At first It decreased my libido but that subsided. The only downside is that it made my periods longer (5-6 days to be exact) I used to only have periods for 3-4 days max also made my cramps intense for the first two days of my period, I never had cramps before using birth control. Other than that in happy with the patch\"</td>\n",
       "      <td>8</td>\n",
       "      <td>2015-11-03</td>\n",
       "      <td>10</td>\n",
       "    </tr>\n",
       "    <tr>\n",
       "      <th>4</th>\n",
       "      <td>35696</td>\n",
       "      <td>Buprenorphine / naloxone</td>\n",
       "      <td>Opiate Dependence</td>\n",
       "      <td>\"Suboxone has completely turned my life around.  I feel healthier, I&amp;#039;m excelling at my job and I always have money in my pocket and my savings account.  I had none of those before Suboxone and spent years abusing oxycontin.  My paycheck was already spent by the time I got it and I started resorting to scheming and stealing to fund my addiction.  All that is history.  If you&amp;#039;re ready to stop, there&amp;#039;s a good chance that suboxone will put you on the path of great life again.  I have found the side-effects to be minimal compared to oxycontin.  I&amp;#039;m actually sleeping better.   Slight constipation is about it for me.  It truly is amazing. The cost pales in comparison to what I spent on oxycontin.\"</td>\n",
       "      <td>9</td>\n",
       "      <td>2016-11-27</td>\n",
       "      <td>37</td>\n",
       "    </tr>\n",
       "  </tbody>\n",
       "</table>\n",
       "</div>"
      ],
      "text/plain": [
       "   uniqueID                  drugName                     condition  \\\n",
       "0  206461    Valsartan                 Left Ventricular Dysfunction   \n",
       "1  95260     Guanfacine                ADHD                           \n",
       "2  92703     Lybrel                    Birth Control                  \n",
       "3  138000    Ortho Evra                Birth Control                  \n",
       "4  35696     Buprenorphine / naloxone  Opiate Dependence              \n",
       "\n",
       "                                                                                                                                                                                                                                                                                                                                                                                                                                                                                                                                                                                                                                                                                                                                                                                  review  \\\n",
       "0  \"It has no side effect, I take it in combination of Bystolic 5 Mg and Fish Oil\"                                                                                                                                                                                                                                                                                                                                                                                                                                                                                                                                                                                                                                                                                                         \n",
       "1  \"My son is halfway through his fourth week of Intuniv. We became concerned when he began this last week, when he started taking the highest dose he will be on. For two days, he could hardly get out of bed, was very cranky, and slept for nearly 8 hours on a drive home from school vacation (very unusual for him.) I called his doctor on Monday morning and she said to stick it out a few days. See how he did at school, and with getting up in the morning. The last two days have been problem free. He is MUCH more agreeable than ever. He is less emotional (a good thing), less cranky. He is remembering all the things he should. Overall his behavior is better. \\r\\nWe have tried many different medications and so far this is the most effective.\"                 \n",
       "2  \"I used to take another oral contraceptive, which had 21 pill cycle, and was very happy- very light periods, max 5 days, no other side effects. But it contained hormone gestodene, which is not available in US, so I switched to Lybrel, because the ingredients are similar. When my other pills ended, I started Lybrel immediately, on my first day of period, as the instructions said. And the period lasted for two weeks. When taking the second pack- same two weeks. And now, with third pack things got even worse- my third period lasted for two weeks and now it&#039;s the end of the third week- I still have daily brown discharge.\\r\\nThe positive side is that I didn&#039;t have any other side effects. The idea of being period free was so tempting... Alas.\"   \n",
       "3  \"This is my first time using any form of birth control. I&#039;m glad I went with the patch, I have been on it for 8 months. At first It decreased my libido but that subsided. The only downside is that it made my periods longer (5-6 days to be exact) I used to only have periods for 3-4 days max also made my cramps intense for the first two days of my period, I never had cramps before using birth control. Other than that in happy with the patch\"                                                                                                                                                                                                                                                                                                                        \n",
       "4  \"Suboxone has completely turned my life around.  I feel healthier, I&#039;m excelling at my job and I always have money in my pocket and my savings account.  I had none of those before Suboxone and spent years abusing oxycontin.  My paycheck was already spent by the time I got it and I started resorting to scheming and stealing to fund my addiction.  All that is history.  If you&#039;re ready to stop, there&#039;s a good chance that suboxone will put you on the path of great life again.  I have found the side-effects to be minimal compared to oxycontin.  I&#039;m actually sleeping better.   Slight constipation is about it for me.  It truly is amazing. The cost pales in comparison to what I spent on oxycontin.\"                                         \n",
       "\n",
       "   rating       date  usefulCount  \n",
       "0  9      2012-05-20  27           \n",
       "1  8      2010-04-27  192          \n",
       "2  5      2009-12-14  17           \n",
       "3  8      2015-11-03  10           \n",
       "4  9      2016-11-27  37           "
      ]
     },
     "execution_count": 5,
     "metadata": {},
     "output_type": "execute_result"
    }
   ],
   "source": [
    "df_train.head()"
   ]
  },
  {
   "cell_type": "markdown",
   "metadata": {},
   "source": [
    "## data understanding"
   ]
  },
  {
   "cell_type": "code",
   "execution_count": 6,
   "metadata": {},
   "outputs": [
    {
     "name": "stdout",
     "output_type": "stream",
     "text": [
      "unique values count of train :  161297\n",
      "length of train :  161297\n"
     ]
    }
   ],
   "source": [
    "print(\"unique values count of train : \" ,len(set(df_train['uniqueID'].values)))\n",
    "print(\"length of train : \" ,df_train.shape[0])\n"
   ]
  },
  {
   "cell_type": "code",
   "execution_count": 7,
   "metadata": {},
   "outputs": [],
   "source": [
    "df_all = pd.concat([df_train,df_test])"
   ]
  },
  {
   "cell_type": "code",
   "execution_count": 8,
   "metadata": {},
   "outputs": [
    {
     "data": {
      "image/png": "[encoded data removed]",
      "text/plain": [
       "<matplotlib.figure.Figure at 0x1aa3a4ae240>"
      ]
     },
     "metadata": {},
     "output_type": "display_data"
    }
   ],
   "source": [
    "# Top 10 most reviewed drug names\n",
    "plot = df_all.drugName.value_counts().nlargest(10).plot(kind='bar', title=\"Top 10 reviewed drugs\", figsize=(12,6))"
   ]
  },
  {
   "cell_type": "code",
   "execution_count": 9,
   "metadata": {},
   "outputs": [
    {
     "data": {
      "image/png": "[encoded data removed]",
      "text/plain": [
       "<matplotlib.figure.Figure at 0x1aa3aa4ed30>"
      ]
     },
     "metadata": {},
     "output_type": "display_data"
    }
   ],
   "source": [
    "plot = df_all.condition.value_counts().nlargest(10).plot(kind='bar', title=\"Top 10 conditions in reviews\", figsize=(12,6))"
   ]
  },
  {
   "cell_type": "code",
   "execution_count": 10,
   "metadata": {},
   "outputs": [
    {
     "name": "stdout",
     "output_type": "stream",
     "text": [
      "Significant number of reviews: More than 30.0 reviews\n"
     ]
    },
    {
     "data": {
      "image/png": "[encoded data removed]",
      "text/plain": [
       "<matplotlib.figure.Figure at 0x1aa3b05add8>"
      ]
     },
     "metadata": {},
     "output_type": "display_data"
    },
    {
     "data": {
      "image/png": "[encoded data removed]",
      "text/plain": [
       "<matplotlib.figure.Figure at 0x1aa3bb80a90>"
      ]
     },
     "metadata": {},
     "output_type": "display_data"
    }
   ],
   "source": [
    "reviews_per_drug = df_all.groupby([\"drugName\"]).agg({\n",
    "    \"uniqueID\": pd.Series.nunique\n",
    "})\n",
    "drugs_rating = df_all.groupby('drugName').agg({\n",
    "    'rating': np.mean,\n",
    "    'uniqueID': pd.Series.nunique\n",
    "})\n",
    "\n",
    "print(\"Significant number of reviews: More than\", reviews_per_drug.quantile(q=0.75).values[0], \"reviews\")\n",
    "\n",
    "# We only use the drugs which number of reviews is higher than a threshold\n",
    "drugs_rating = drugs_rating[drugs_rating['uniqueID'] > int(reviews_per_drug.quantile(q=0.75))]\n",
    "\n",
    "# Top 10\n",
    "top_drugs_rating = drugs_rating.nlargest(20, 'rating')\n",
    "plot = top_drugs_rating.plot(y='rating', kind='bar', figsize = (16, 3))\n",
    "dummy = plt.title(\"Top 10 'significant' drugs with best rating\") # Assigned to variable to prevent output\n",
    "dummy = plt.ylim(9, 10) # Assigned to variable to prevent output\n",
    "\n",
    "# Bottom 10\n",
    "bottom_drugs_rating = drugs_rating.nsmallest(20, 'rating')\n",
    "plot = bottom_drugs_rating.plot(y='rating', kind='bar', figsize = (16, 3))\n",
    "dummy = plt.title(\"Top 10 'significant' drugs with worst rating\") # Assigned to variable to prevent output\n",
    "dummy = plt.ylim(1, 5) # Assigned to variable to prevent output"
   ]
  },
  {
   "cell_type": "code",
   "execution_count": 11,
   "metadata": {},
   "outputs": [
    {
     "name": "stdout",
     "output_type": "stream",
     "text": [
      "Number of pairs (Drug, Condition): 9446\n",
      "Significant number of reviews: More than 10.0 reviews\n"
     ]
    },
    {
     "data": {
      "image/png": "[encoded data removed]",
      "text/plain": [
       "<matplotlib.figure.Figure at 0x1aa3b044940>"
      ]
     },
     "metadata": {},
     "output_type": "display_data"
    },
    {
     "data": {
      "image/png": "[encoded data removed]",
      "text/plain": [
       "<matplotlib.figure.Figure at 0x1aa3c6fe400>"
      ]
     },
     "metadata": {},
     "output_type": "display_data"
    }
   ],
   "source": [
    "drugs_condition_rating = df_all.groupby(['drugName', 'condition']).agg({\n",
    "    'rating': np.mean,\n",
    "    'uniqueID': pd.Series.nunique\n",
    "})\n",
    "\n",
    "print(\"Number of pairs (Drug, Condition):\", len(drugs_condition_rating))\n",
    "\n",
    "print(\"Significant number of reviews: More than\", drugs_condition_rating['uniqueID'].quantile(q=0.75), \"reviews\")\n",
    "\n",
    "drugs_condition_rating = drugs_condition_rating[drugs_condition_rating['uniqueID'] > int(drugs_condition_rating['uniqueID'].quantile(q=0.75))]\n",
    "# drugs_condition_rating.sort_values('rating', ascending=False)\n",
    "top_drugs_condition_rating = drugs_condition_rating.nlargest(20, 'rating')\n",
    "plot = top_drugs_condition_rating.plot(y='rating', kind='bar', figsize = (16, 3))\n",
    "dummy = plt.title(\"Top 10 (Drug - Condition) with best rating\") # Assigned to variable to prevent output\n",
    "dummy = plt.ylim(9.5, 10) # Assigned to variable to prevent output\n",
    "\n",
    "bottom_drugs_condition_rating = drugs_condition_rating.nsmallest(20, 'rating')\n",
    "plot = bottom_drugs_condition_rating.plot(y='rating', kind='bar', figsize = (16, 3))\n",
    "dummy = plt.title(\"Top 10 (Drug - Condition) with worst rating\") # Assigned to variable to prevent output\n",
    "dummy = plt.ylim(1, 4) # Assigned to vari"
   ]
  },
  {
   "cell_type": "code",
   "execution_count": 12,
   "metadata": {},
   "outputs": [],
   "source": [
    "#df_all[\"date_format\"] = df_all[\"date\"].apply( lambda x: datetime.strptime(x, '%d-%b-%y')) # Get date as a date object\n",
    "# df_all[\"month\"]= df_all[\"date_format\"].apply(lambda x: x.strftime('%m')) # Extract date month\n",
    "# df_all[\"year\"] = df_all[\"date_format\"].apply(lambda x: x.strftime('%Y')) # Extract date year\n",
    "# df_all[\"weekday\"] = df_all[\"date_format\"].apply(lambda x: x.strftime('%w')) # Extract date weekday\n",
    "\n"
   ]
  },
  {
   "cell_type": "code",
   "execution_count": null,
   "metadata": {},
   "outputs": [],
   "source": []
  },
  {
   "cell_type": "code",
   "execution_count": null,
   "metadata": {},
   "outputs": [],
   "source": []
  },
  {
   "cell_type": "code",
   "execution_count": 13,
   "metadata": {},
   "outputs": [
    {
     "data": {
      "text/plain": [
       "<matplotlib.axes._subplots.AxesSubplot at 0x1aa3aa04b70>"
      ]
     },
     "execution_count": 13,
     "metadata": {},
     "output_type": "execute_result"
    },
    {
     "data": {
      "text/plain": [
       "Text(0.5,1,'Top30 : The number of drugs per condition.')"
      ]
     },
     "execution_count": 13,
     "metadata": {},
     "output_type": "execute_result"
    },
    {
     "data": {
      "image/png": "[encoded data removed]",
      "text/plain": [
       "<matplotlib.figure.Figure at 0x1aa3aa6fbe0>"
      ]
     },
     "metadata": {},
     "output_type": "display_data"
    }
   ],
   "source": [
    "condition_dn = df_all.groupby(['condition'])['drugName'].nunique().sort_values(ascending=False)\n",
    "condition_dn[0:30].plot(kind=\"bar\", figsize = (15,7), fontsize = 12)\n",
    "plt.title(\"Top30 : The number of drugs per condition.\", fontsize = 20)"
   ]
  },
  {
   "cell_type": "code",
   "execution_count": 14,
   "metadata": {},
   "outputs": [
    {
     "data": {
      "text/html": [
       "<div>\n",
       "<style scoped>\n",
       "    .dataframe tbody tr th:only-of-type {\n",
       "        vertical-align: middle;\n",
       "    }\n",
       "\n",
       "    .dataframe tbody tr th {\n",
       "        vertical-align: top;\n",
       "    }\n",
       "\n",
       "    .dataframe thead th {\n",
       "        text-align: right;\n",
       "    }\n",
       "</style>\n",
       "<table border=\"1\" class=\"dataframe\">\n",
       "  <thead>\n",
       "    <tr style=\"text-align: right;\">\n",
       "      <th></th>\n",
       "      <th>uniqueID</th>\n",
       "      <th>drugName</th>\n",
       "      <th>condition</th>\n",
       "      <th>review</th>\n",
       "      <th>rating</th>\n",
       "      <th>date</th>\n",
       "      <th>usefulCount</th>\n",
       "    </tr>\n",
       "  </thead>\n",
       "  <tbody>\n",
       "    <tr>\n",
       "      <th>243</th>\n",
       "      <td>81588</td>\n",
       "      <td>Yaz</td>\n",
       "      <td>3&lt;/span&gt; users found this comment helpful.</td>\n",
       "      <td>\"I took Yaz for a little over 2 years.  From around the age of 16 to 18.  I gained a little bit of weight, not much but EXTREMELY hard to lose.  Also, I experienced mood swings frequently.  Sometimes getting extremely upset and feeling the need to cry.  But the reason I stopped taking Yaz was because I started to get EXTREMELY BAD migraines/headaches.  These headaches would come VERY frequently.  I would say averaging around 2-5 days a week.  MIgraines run in my family but funny thing is I never experienced them before the pill.  Also, nothing would help these headaches.  I took everything from Tylenol to Excedrin Migraine.  Nothing helped.  Hoped this helped! good luck!\"</td>\n",
       "      <td>3</td>\n",
       "      <td>2010-06-01</td>\n",
       "      <td>3</td>\n",
       "    </tr>\n",
       "    <tr>\n",
       "      <th>1864</th>\n",
       "      <td>124318</td>\n",
       "      <td>Skyla</td>\n",
       "      <td>3&lt;/span&gt; users found this comment helpful.</td>\n",
       "      <td>\"Never pregnant,28,retroverted small (6cm) uterus.  My regular Period = severe cramping,vomiting,heavy bleeding,miss work. Skyla recommended to decrease cramping w/ low hormone side effect risk. Negative past experience with other hormonal BCs (nuvaring:extreme fatigue,combo pills:visual migraines,POPs:super depressed &amp;amp; anxious). Insertion was extremely painful but quick.  Barely noticeable cramps for 2 days, pain-free after (but vag dryness).  After 1 wk, started having excruciating pain caused by laying/sitting(back,stomach,pelvic,upper thigh cramps that woke me from sleep every 3-4 hours,lasting several hours);600mg ibuprofen no help, slow walking did. 4 Days of this,removed (mild pain &amp;amp; quick).  Relief was immediate.  PPGyno said this was a first in her experience\"</td>\n",
       "      <td>1</td>\n",
       "      <td>2015-12-16</td>\n",
       "      <td>3</td>\n",
       "    </tr>\n",
       "    <tr>\n",
       "      <th>3322</th>\n",
       "      <td>202848</td>\n",
       "      <td>ProAir HFA</td>\n",
       "      <td>3&lt;/span&gt; users found this comment helpful.</td>\n",
       "      <td>\"I get chest colds and asthmatic symptoms in the beginning of the winter for my entire life. This inhaler works better for me than the older ones I&amp;#039;m glad I have it even if I only need it once or twice a year..this is by far the best inhaler I have ever used\"</td>\n",
       "      <td>9</td>\n",
       "      <td>2015-12-12</td>\n",
       "      <td>3</td>\n",
       "    </tr>\n",
       "  </tbody>\n",
       "</table>\n",
       "</div>"
      ],
      "text/plain": [
       "      uniqueID    drugName                                   condition  \\\n",
       "243   81588     Yaz         3</span> users found this comment helpful.   \n",
       "1864  124318    Skyla       3</span> users found this comment helpful.   \n",
       "3322  202848    ProAir HFA  3</span> users found this comment helpful.   \n",
       "\n",
       "                                                                                                                                                                                                                                                                                                                                                                                                                                                                                                                                                                                                                                                                                                                                                                                                                   review  \\\n",
       "243   \"I took Yaz for a little over 2 years.  From around the age of 16 to 18.  I gained a little bit of weight, not much but EXTREMELY hard to lose.  Also, I experienced mood swings frequently.  Sometimes getting extremely upset and feeling the need to cry.  But the reason I stopped taking Yaz was because I started to get EXTREMELY BAD migraines/headaches.  These headaches would come VERY frequently.  I would say averaging around 2-5 days a week.  MIgraines run in my family but funny thing is I never experienced them before the pill.  Also, nothing would help these headaches.  I took everything from Tylenol to Excedrin Migraine.  Nothing helped.  Hoped this helped! good luck!\"                                                                                                              \n",
       "1864  \"Never pregnant,28,retroverted small (6cm) uterus.  My regular Period = severe cramping,vomiting,heavy bleeding,miss work. Skyla recommended to decrease cramping w/ low hormone side effect risk. Negative past experience with other hormonal BCs (nuvaring:extreme fatigue,combo pills:visual migraines,POPs:super depressed &amp; anxious). Insertion was extremely painful but quick.  Barely noticeable cramps for 2 days, pain-free after (but vag dryness).  After 1 wk, started having excruciating pain caused by laying/sitting(back,stomach,pelvic,upper thigh cramps that woke me from sleep every 3-4 hours,lasting several hours);600mg ibuprofen no help, slow walking did. 4 Days of this,removed (mild pain &amp; quick).  Relief was immediate.  PPGyno said this was a first in her experience\"   \n",
       "3322  \"I get chest colds and asthmatic symptoms in the beginning of the winter for my entire life. This inhaler works better for me than the older ones I&#039;m glad I have it even if I only need it once or twice a year..this is by far the best inhaler I have ever used\"                                                                                                                                                                                                                                                                                                                                                                                                                                                                                                                                              \n",
       "\n",
       "      rating       date  usefulCount  \n",
       "243   3      2010-06-01  3            \n",
       "1864  1      2015-12-16  3            \n",
       "3322  9      2015-12-12  3            "
      ]
     },
     "execution_count": 14,
     "metadata": {},
     "output_type": "execute_result"
    }
   ],
   "source": [
    "df_all[df_all['condition']=='3</span> users found this comment helpful.'].head(3)"
   ]
  },
  {
   "cell_type": "code",
   "execution_count": 15,
   "metadata": {},
   "outputs": [
    {
     "data": {
      "text/plain": [
       "<matplotlib.axes._subplots.AxesSubplot at 0x1aa3c865cc0>"
      ]
     },
     "execution_count": 15,
     "metadata": {},
     "output_type": "execute_result"
    },
    {
     "data": {
      "text/plain": [
       "Text(0.5,0,'')"
      ]
     },
     "execution_count": 15,
     "metadata": {},
     "output_type": "execute_result"
    },
    {
     "data": {
      "text/plain": [
       "Text(0,0.5,'')"
      ]
     },
     "execution_count": 15,
     "metadata": {},
     "output_type": "execute_result"
    },
    {
     "data": {
      "text/plain": [
       "Text(0.5,1,'Bottom20 : The number of drugs per condition.')"
      ]
     },
     "execution_count": 15,
     "metadata": {},
     "output_type": "execute_result"
    },
    {
     "data": {
      "image/png": "[encoded data removed]",
      "text/plain": [
       "<matplotlib.figure.Figure at 0x1aa3cc74518>"
      ]
     },
     "metadata": {},
     "output_type": "display_data"
    }
   ],
   "source": [
    "condition_dn = df_all.groupby(['condition'])['drugName'].nunique().sort_values(ascending=False)\n",
    "\n",
    "condition_dn[condition_dn.shape[0]-20:condition_dn.shape[0]].plot(kind=\"bar\", figsize = (14,6), fontsize = 10)\n",
    "plt.xlabel(\"\", fontsize = 20)\n",
    "plt.ylabel(\"\", fontsize = 20)\n",
    "plt.title(\"Bottom20 : The number of drugs per condition.\", fontsize = 20)"
   ]
  },
  {
   "cell_type": "code",
   "execution_count": null,
   "metadata": {},
   "outputs": [],
   "source": []
  },
  {
   "cell_type": "code",
   "execution_count": null,
   "metadata": {},
   "outputs": [],
   "source": []
  },
  {
   "cell_type": "code",
   "execution_count": 16,
   "metadata": {},
   "outputs": [
    {
     "data": {
      "text/plain": [
       "'\"My son is halfway through his fourth week of Intuniv. We became concerned when he began this last week, when he started taking the highest dose he will be on. For two days, he could hardly get out of bed, was very cranky, and slept for nearly 8 hours on a drive home from school vacation (very unusual for him.) I called his doctor on Monday morning and she said to stick it out a few days. See how he did at school, and with getting up in the morning. The last two days have been problem free. He is MUCH more agreeable than ever. He is less emotional (a good thing), less cranky. He is remembering all the things he should. Overall his behavior is better. \\r\\nWe have tried many different medications and so far this is the most effective.\"'"
      ]
     },
     "execution_count": 16,
     "metadata": {},
     "output_type": "execute_result"
    }
   ],
   "source": [
    "df_train['review'][1]"
   ]
  },
  {
   "cell_type": "code",
   "execution_count": 17,
   "metadata": {},
   "outputs": [
    {
     "data": {
      "text/plain": [
       "'\"I used to take another oral contraceptive, which had 21 pill cycle, and was very happy- very light periods, max 5 days, no other side effects. But it contained hormone gestodene, which is not available in US, so I switched to Lybrel, because the ingredients are similar. When my other pills ended, I started Lybrel immediately, on my first day of period, as the instructions said. And the period lasted for two weeks. When taking the second pack- same two weeks. And now, with third pack things got even worse- my third period lasted for two weeks and now it&#039;s the end of the third week- I still have daily brown discharge.\\r\\nThe positive side is that I didn&#039;t have any other side effects. The idea of being period free was so tempting... Alas.\"'"
      ]
     },
     "execution_count": 17,
     "metadata": {},
     "output_type": "execute_result"
    }
   ],
   "source": [
    "df_train['review'][2]"
   ]
  },
  {
   "cell_type": "code",
   "execution_count": 18,
   "metadata": {},
   "outputs": [],
   "source": [
    "from collections import defaultdict\n",
    "df_all_6_10 = df_all[df_all[\"rating\"]>5]\n",
    "df_all_1_5 = df_all[df_all[\"rating\"]<6]"
   ]
  },
  {
   "cell_type": "code",
   "execution_count": 19,
   "metadata": {
    "scrolled": false
   },
   "outputs": [
    {
     "name": "stderr",
     "output_type": "stream",
     "text": [
      "C:\\Users\\somes\\Anaconda3\\lib\\site-packages\\plotly\\tools.py:465: DeprecationWarning:\n",
      "\n",
      "plotly.tools.make_subplots is deprecated, please use plotly.subplots.make_subplots instead\n",
      "\n"
     ]
    },
    {
     "data": {
      "text/plain": [
       "Layout({\n",
       "    'annotations': [{'font': {'size': 16},\n",
       "                     'showarrow': False,\n",
       "                     'text': 'Frequent words of rating 1 to 5',\n",
       "                     'x': 0.225,\n",
       "                     'xanchor': 'center',\n",
       "                     'xref': 'paper',\n",
       "                     'y': 1.0,\n",
       "                     'yanchor': 'bottom',\n",
       "                     'yref': 'paper'},\n",
       "                    {'font': {'size': 16},\n",
       "                     'showarrow': False,\n",
       "                     'text': 'Frequent words of rating 6 to 10',\n",
       "                     'x': 0.775,\n",
       "                     'xanchor': 'center',\n",
       "                     'xref': 'paper',\n",
       "                     'y': 1.0,\n",
       "                     'yanchor': 'bottom',\n",
       "                     'yref': 'paper'}],\n",
       "    'height': 1200,\n",
       "    'paper_bgcolor': 'rgb(233,233,233)',\n",
       "    'template': '...',\n",
       "    'title': {'text': 'Word Count Plots'},\n",
       "    'width': 900,\n",
       "    'xaxis': {'anchor': 'y', 'domain': [0.0, 0.45]},\n",
       "    'xaxis2': {'anchor': 'y2', 'domain': [0.55, 1.0]},\n",
       "    'yaxis': {'anchor': 'x', 'domain': [0.0, 1.0]},\n",
       "    'yaxis2': {'anchor': 'x2', 'domain': [0.0, 1.0]}\n",
       "})"
      ]
     },
     "execution_count": 19,
     "metadata": {},
     "output_type": "execute_result"
    },
    {
     "data": {
      "application/vnd.plotly.v1+json": {
       "config": {
        "linkText": "Export to plot.ly",
        "plotlyServerURL": "https://plot.ly",
        "showLink": false
       },
       "data": [
        {
         "marker": {
          "color": "blue"
         },
         "orientation": "h",
         "showlegend": false,
         "type": "bar",
         "x": [
          7041,
          7333,
          7410,
          7753,
          7789,
          7834,
          7839,
          7977,
          8126,
          8176,
          8330,
          8486,
          8557,
          8590,
          8609,
          8703,
          8748,
          8832,
          8911,
          9001,
          9203,
          9858,
          9891,
          10100,
          10322,
          10339,
          10457,
          10581,
          10611,
          10759,
          10840,
          12111,
          12113,
          12147,
          12171,
          12341,
          12510,
          12678,
          12703,
          13431,
          13758,
          14298,
          14413,
          14563,
          15353,
          16795,
          17008,
          20804,
          21329,
          26189
         ],
         "xaxis": "x",
         "y": [
          "control",
          "go",
          "every",
          "medication",
          "really",
          "weight",
          "going",
          "years",
          "two",
          "it.",
          "made",
          "birth",
          "week",
          "month",
          "didn&#039;t",
          "don&#039;t",
          "bad",
          "even",
          "went",
          "weeks",
          "period",
          "effects",
          "felt",
          "time",
          "it&#039;s",
          "one",
          "pill",
          "doctor",
          "will",
          "still",
          "back",
          "3",
          "never",
          "pain",
          "days",
          "took",
          "got",
          "feel",
          "2",
          "take",
          "months",
          "day",
          "i&#039;ve",
          "now",
          "first",
          "started",
          "side",
          "taking",
          "i&#039;m",
          "\"i"
         ],
         "yaxis": "y"
        },
        {
         "marker": {
          "color": "blue"
         },
         "orientation": "h",
         "showlegend": false,
         "type": "bar",
         "x": [
          15884,
          16095,
          16260,
          16346,
          16463,
          16466,
          17006,
          17068,
          17080,
          17343,
          18785,
          18806,
          18849,
          19028,
          19071,
          19401,
          19642,
          19664,
          20629,
          20720,
          20730,
          20880,
          22875,
          22930,
          23073,
          23083,
          23182,
          23240,
          24655,
          24716,
          25567,
          26004,
          26083,
          26561,
          27169,
          27905,
          29502,
          30410,
          31774,
          33698,
          33921,
          35318,
          36350,
          38293,
          40461,
          42518,
          43695,
          46237,
          51586,
          65806
         ],
         "xaxis": "x2",
         "y": [
          "life",
          "even",
          "month",
          "medicine",
          "didn&#039;t",
          "little",
          "tried",
          "felt",
          "never",
          "bad",
          "medication",
          "week",
          "two",
          "period",
          "pill",
          "every",
          "weeks",
          "went",
          "much",
          "it.",
          "still",
          "weight",
          "doctor",
          "got",
          "don&#039;t",
          "back",
          "really",
          "took",
          "will",
          "time",
          "one",
          "days",
          "3",
          "months",
          "it&#039;s",
          "effects",
          "2",
          "pain",
          "i&#039;ve",
          "years",
          "feel",
          "day",
          "started",
          "now",
          "first",
          "i&#039;m",
          "take",
          "taking",
          "side",
          "\"i"
         ],
         "yaxis": "y2"
        }
       ],
       "layout": {
        "annotations": [
         {
          "font": {
           "size": 16
          },
          "showarrow": false,
          "text": "Frequent words of rating 1 to 5",
          "x": 0.225,
          "xanchor": "center",
          "xref": "paper",
          "y": 1,
          "yanchor": "bottom",
          "yref": "paper"
         },
         {
          "font": {
           "size": 16
          },
          "showarrow": false,
          "text": "Frequent words of rating 6 to 10",
          "x": 0.775,
          "xanchor": "center",
          "xref": "paper",
          "y": 1,
          "yanchor": "bottom",
          "yref": "paper"
         }
        ],
        "height": 1200,
        "paper_bgcolor": "rgb(233,233,233)",
        "template": {
         "data": {
          "bar": [
           {
            "error_x": {
             "color": "#2a3f5f"
            },
            "error_y": {
             "color": "#2a3f5f"
            },
            "marker": {
             "line": {
              "color": "#E5ECF6",
              "width": 0.5
             }
            },
            "type": "bar"
           }
          ],
          "barpolar": [
           {
            "marker": {
             "line": {
              "color": "#E5ECF6",
              "width": 0.5
             }
            },
            "type": "barpolar"
           }
          ],
          "carpet": [
           {
            "aaxis": {
             "endlinecolor": "#2a3f5f",
             "gridcolor": "white",
             "linecolor": "white",
             "minorgridcolor": "white",
             "startlinecolor": "#2a3f5f"
            },
            "baxis": {
             "endlinecolor": "#2a3f5f",
             "gridcolor": "white",
             "linecolor": "white",
             "minorgridcolor": "white",
             "startlinecolor": "#2a3f5f"
            },
            "type": "carpet"
           }
          ],
          "choropleth": [
           {
            "colorbar": {
             "outlinewidth": 0,
             "ticks": ""
            },
            "type": "choropleth"
           }
          ],
          "contour": [
           {
            "colorbar": {
             "outlinewidth": 0,
             "ticks": ""
            },
            "colorscale": [
             [
              0,
              "#0d0887"
             ],
             [
              0.1111111111111111,
              "#46039f"
             ],
             [
              0.2222222222222222,
              "#7201a8"
             ],
             [
              0.3333333333333333,
              "#9c179e"
             ],
             [
              0.4444444444444444,
              "#bd3786"
             ],
             [
              0.5555555555555556,
              "#d8576b"
             ],
             [
              0.6666666666666666,
              "#ed7953"
             ],
             [
              0.7777777777777778,
              "#fb9f3a"
             ],
             [
              0.8888888888888888,
              "#fdca26"
             ],
             [
              1,
              "#f0f921"
             ]
            ],
            "type": "contour"
           }
          ],
          "contourcarpet": [
           {
            "colorbar": {
             "outlinewidth": 0,
             "ticks": ""
            },
            "type": "contourcarpet"
           }
          ],
          "heatmap": [
           {
            "colorbar": {
             "outlinewidth": 0,
             "ticks": ""
            },
            "colorscale": [
             [
              0,
              "#0d0887"
             ],
             [
              0.1111111111111111,
              "#46039f"
             ],
             [
              0.2222222222222222,
              "#7201a8"
             ],
             [
              0.3333333333333333,
              "#9c179e"
             ],
             [
              0.4444444444444444,
              "#bd3786"
             ],
             [
              0.5555555555555556,
              "#d8576b"
             ],
             [
              0.6666666666666666,
              "#ed7953"
             ],
             [
              0.7777777777777778,
              "#fb9f3a"
             ],
             [
              0.8888888888888888,
              "#fdca26"
             ],
             [
              1,
              "#f0f921"
             ]
            ],
            "type": "heatmap"
           }
          ],
          "heatmapgl": [
           {
            "colorbar": {
             "outlinewidth": 0,
             "ticks": ""
            },
            "colorscale": [
             [
              0,
              "#0d0887"
             ],
             [
              0.1111111111111111,
              "#46039f"
             ],
             [
              0.2222222222222222,
              "#7201a8"
             ],
             [
              0.3333333333333333,
              "#9c179e"
             ],
             [
              0.4444444444444444,
              "#bd3786"
             ],
             [
              0.5555555555555556,
              "#d8576b"
             ],
             [
              0.6666666666666666,
              "#ed7953"
             ],
             [
              0.7777777777777778,
              "#fb9f3a"
             ],
             [
              0.8888888888888888,
              "#fdca26"
             ],
             [
              1,
              "#f0f921"
             ]
            ],
            "type": "heatmapgl"
           }
          ],
          "histogram": [
           {
            "marker": {
             "colorbar": {
              "outlinewidth": 0,
              "ticks": ""
             }
            },
            "type": "histogram"
           }
          ],
          "histogram2d": [
           {
            "colorbar": {
             "outlinewidth": 0,
             "ticks": ""
            },
            "colorscale": [
             [
              0,
              "#0d0887"
             ],
             [
              0.1111111111111111,
              "#46039f"
             ],
             [
              0.2222222222222222,
              "#7201a8"
             ],
             [
              0.3333333333333333,
              "#9c179e"
             ],
             [
              0.4444444444444444,
              "#bd3786"
             ],
             [
              0.5555555555555556,
              "#d8576b"
             ],
             [
              0.6666666666666666,
              "#ed7953"
             ],
             [
              0.7777777777777778,
              "#fb9f3a"
             ],
             [
              0.8888888888888888,
              "#fdca26"
             ],
             [
              1,
              "#f0f921"
             ]
            ],
            "type": "histogram2d"
           }
          ],
          "histogram2dcontour": [
           {
            "colorbar": {
             "outlinewidth": 0,
             "ticks": ""
            },
            "colorscale": [
             [
              0,
              "#0d0887"
             ],
             [
              0.1111111111111111,
              "#46039f"
             ],
             [
              0.2222222222222222,
              "#7201a8"
             ],
             [
              0.3333333333333333,
              "#9c179e"
             ],
             [
              0.4444444444444444,
              "#bd3786"
             ],
             [
              0.5555555555555556,
              "#d8576b"
             ],
             [
              0.6666666666666666,
              "#ed7953"
             ],
             [
              0.7777777777777778,
              "#fb9f3a"
             ],
             [
              0.8888888888888888,
              "#fdca26"
             ],
             [
              1,
              "#f0f921"
             ]
            ],
            "type": "histogram2dcontour"
           }
          ],
          "mesh3d": [
           {
            "colorbar": {
             "outlinewidth": 0,
             "ticks": ""
            },
            "type": "mesh3d"
           }
          ],
          "parcoords": [
           {
            "line": {
             "colorbar": {
              "outlinewidth": 0,
              "ticks": ""
             }
            },
            "type": "parcoords"
           }
          ],
          "scatter": [
           {
            "marker": {
             "colorbar": {
              "outlinewidth": 0,
              "ticks": ""
             }
            },
            "type": "scatter"
           }
          ],
          "scatter3d": [
           {
            "line": {
             "colorbar": {
              "outlinewidth": 0,
              "ticks": ""
             }
            },
            "marker": {
             "colorbar": {
              "outlinewidth": 0,
              "ticks": ""
             }
            },
            "type": "scatter3d"
           }
          ],
          "scattercarpet": [
           {
            "marker": {
             "colorbar": {
              "outlinewidth": 0,
              "ticks": ""
             }
            },
            "type": "scattercarpet"
           }
          ],
          "scattergeo": [
           {
            "marker": {
             "colorbar": {
              "outlinewidth": 0,
              "ticks": ""
             }
            },
            "type": "scattergeo"
           }
          ],
          "scattergl": [
           {
            "marker": {
             "colorbar": {
              "outlinewidth": 0,
              "ticks": ""
             }
            },
            "type": "scattergl"
           }
          ],
          "scattermapbox": [
           {
            "marker": {
             "colorbar": {
              "outlinewidth": 0,
              "ticks": ""
             }
            },
            "type": "scattermapbox"
           }
          ],
          "scatterpolar": [
           {
            "marker": {
             "colorbar": {
              "outlinewidth": 0,
              "ticks": ""
             }
            },
            "type": "scatterpolar"
           }
          ],
          "scatterpolargl": [
           {
            "marker": {
             "colorbar": {
              "outlinewidth": 0,
              "ticks": ""
             }
            },
            "type": "scatterpolargl"
           }
          ],
          "scatterternary": [
           {
            "marker": {
             "colorbar": {
              "outlinewidth": 0,
              "ticks": ""
             }
            },
            "type": "scatterternary"
           }
          ],
          "surface": [
           {
            "colorbar": {
             "outlinewidth": 0,
             "ticks": ""
            },
            "colorscale": [
             [
              0,
              "#0d0887"
             ],
             [
              0.1111111111111111,
              "#46039f"
             ],
             [
              0.2222222222222222,
              "#7201a8"
             ],
             [
              0.3333333333333333,
              "#9c179e"
             ],
             [
              0.4444444444444444,
              "#bd3786"
             ],
             [
              0.5555555555555556,
              "#d8576b"
             ],
             [
              0.6666666666666666,
              "#ed7953"
             ],
             [
              0.7777777777777778,
              "#fb9f3a"
             ],
             [
              0.8888888888888888,
              "#fdca26"
             ],
             [
              1,
              "#f0f921"
             ]
            ],
            "type": "surface"
           }
          ],
          "table": [
           {
            "cells": {
             "fill": {
              "color": "#EBF0F8"
             },
             "line": {
              "color": "white"
             }
            },
            "header": {
             "fill": {
              "color": "#C8D4E3"
             },
             "line": {
              "color": "white"
             }
            },
            "type": "table"
           }
          ]
         },
         "layout": {
          "annotationdefaults": {
           "arrowcolor": "#2a3f5f",
           "arrowhead": 0,
           "arrowwidth": 1
          },
          "colorscale": {
           "diverging": [
            [
             0,
             "#8e0152"
            ],
            [
             0.1,
             "#c51b7d"
            ],
            [
             0.2,
             "#de77ae"
            ],
            [
             0.3,
             "#f1b6da"
            ],
            [
             0.4,
             "#fde0ef"
            ],
            [
             0.5,
             "#f7f7f7"
            ],
            [
             0.6,
             "#e6f5d0"
            ],
            [
             0.7,
             "#b8e186"
            ],
            [
             0.8,
             "#7fbc41"
            ],
            [
             0.9,
             "#4d9221"
            ],
            [
             1,
             "#276419"
            ]
           ],
           "sequential": [
            [
             0,
             "#0d0887"
            ],
            [
             0.1111111111111111,
             "#46039f"
            ],
            [
             0.2222222222222222,
             "#7201a8"
            ],
            [
             0.3333333333333333,
             "#9c179e"
            ],
            [
             0.4444444444444444,
             "#bd3786"
            ],
            [
             0.5555555555555556,
             "#d8576b"
            ],
            [
             0.6666666666666666,
             "#ed7953"
            ],
            [
             0.7777777777777778,
             "#fb9f3a"
            ],
            [
             0.8888888888888888,
             "#fdca26"
            ],
            [
             1,
             "#f0f921"
            ]
           ],
           "sequentialminus": [
            [
             0,
             "#0d0887"
            ],
            [
             0.1111111111111111,
             "#46039f"
            ],
            [
             0.2222222222222222,
             "#7201a8"
            ],
            [
             0.3333333333333333,
             "#9c179e"
            ],
            [
             0.4444444444444444,
             "#bd3786"
            ],
            [
             0.5555555555555556,
             "#d8576b"
            ],
            [
             0.6666666666666666,
             "#ed7953"
            ],
            [
             0.7777777777777778,
             "#fb9f3a"
            ],
            [
             0.8888888888888888,
             "#fdca26"
            ],
            [
             1,
             "#f0f921"
            ]
           ]
          },
          "colorway": [
           "#636efa",
           "#EF553B",
           "#00cc96",
           "#ab63fa",
           "#FFA15A",
           "#19d3f3",
           "#FF6692",
           "#B6E880",
           "#FF97FF",
           "#FECB52"
          ],
          "font": {
           "color": "#2a3f5f"
          },
          "geo": {
           "bgcolor": "white",
           "lakecolor": "white",
           "landcolor": "#E5ECF6",
           "showlakes": true,
           "showland": true,
           "subunitcolor": "white"
          },
          "hoverlabel": {
           "align": "left"
          },
          "hovermode": "closest",
          "mapbox": {
           "style": "light"
          },
          "paper_bgcolor": "white",
          "plot_bgcolor": "#E5ECF6",
          "polar": {
           "angularaxis": {
            "gridcolor": "white",
            "linecolor": "white",
            "ticks": ""
           },
           "bgcolor": "#E5ECF6",
           "radialaxis": {
            "gridcolor": "white",
            "linecolor": "white",
            "ticks": ""
           }
          },
          "scene": {
           "xaxis": {
            "backgroundcolor": "#E5ECF6",
            "gridcolor": "white",
            "gridwidth": 2,
            "linecolor": "white",
            "showbackground": true,
            "ticks": "",
            "zerolinecolor": "white"
           },
           "yaxis": {
            "backgroundcolor": "#E5ECF6",
            "gridcolor": "white",
            "gridwidth": 2,
            "linecolor": "white",
            "showbackground": true,
            "ticks": "",
            "zerolinecolor": "white"
           },
           "zaxis": {
            "backgroundcolor": "#E5ECF6",
            "gridcolor": "white",
            "gridwidth": 2,
            "linecolor": "white",
            "showbackground": true,
            "ticks": "",
            "zerolinecolor": "white"
           }
          },
          "shapedefaults": {
           "line": {
            "color": "#2a3f5f"
           }
          },
          "ternary": {
           "aaxis": {
            "gridcolor": "white",
            "linecolor": "white",
            "ticks": ""
           },
           "baxis": {
            "gridcolor": "white",
            "linecolor": "white",
            "ticks": ""
           },
           "bgcolor": "#E5ECF6",
           "caxis": {
            "gridcolor": "white",
            "linecolor": "white",
            "ticks": ""
           }
          },
          "title": {
           "x": 0.05
          },
          "xaxis": {
           "automargin": true,
           "gridcolor": "white",
           "linecolor": "white",
           "ticks": "",
           "zerolinecolor": "white",
           "zerolinewidth": 2
          },
          "yaxis": {
           "automargin": true,
           "gridcolor": "white",
           "linecolor": "white",
           "ticks": "",
           "zerolinecolor": "white",
           "zerolinewidth": 2
          }
         }
        },
        "title": {
         "text": "Word Count Plots"
        },
        "width": 900,
        "xaxis": {
         "anchor": "y",
         "domain": [
          0,
          0.45
         ]
        },
        "xaxis2": {
         "anchor": "y2",
         "domain": [
          0.55,
          1
         ]
        },
        "yaxis": {
         "anchor": "x",
         "domain": [
          0,
          1
         ]
        },
        "yaxis2": {
         "anchor": "x2",
         "domain": [
          0,
          1
         ]
        }
       }
      },
      "text/html": [
       "<div>\n",
       "        \n",
       "        \n",
       "            <div id=\"b97b3f8f-fee2-4aa6-93f1-0f0a14079f46\" class=\"plotly-graph-div\" style=\"height:1200px; width:900px;\"></div>\n",
       "            <script type=\"text/javascript\">\n",
       "                require([\"plotly\"], function(Plotly) {\n",
       "                    window.PLOTLYENV=window.PLOTLYENV || {};\n",
       "                    \n",
       "                if (document.getElementById(\"b97b3f8f-fee2-4aa6-93f1-0f0a14079f46\")) {\n",
       "                    Plotly.newPlot(\n",
       "                        'b97b3f8f-fee2-4aa6-93f1-0f0a14079f46',\n",
       "                        [{\"marker\": {\"color\": \"blue\"}, \"orientation\": \"h\", \"showlegend\": false, \"type\": \"bar\", \"x\": [7041, 7333, 7410, 7753, 7789, 7834, 7839, 7977, 8126, 8176, 8330, 8486, 8557, 8590, 8609, 8703, 8748, 8832, 8911, 9001, 9203, 9858, 9891, 10100, 10322, 10339, 10457, 10581, 10611, 10759, 10840, 12111, 12113, 12147, 12171, 12341, 12510, 12678, 12703, 13431, 13758, 14298, 14413, 14563, 15353, 16795, 17008, 20804, 21329, 26189], \"xaxis\": \"x\", \"y\": [\"control\", \"go\", \"every\", \"medication\", \"really\", \"weight\", \"going\", \"years\", \"two\", \"it.\", \"made\", \"birth\", \"week\", \"month\", \"didn&#039;t\", \"don&#039;t\", \"bad\", \"even\", \"went\", \"weeks\", \"period\", \"effects\", \"felt\", \"time\", \"it&#039;s\", \"one\", \"pill\", \"doctor\", \"will\", \"still\", \"back\", \"3\", \"never\", \"pain\", \"days\", \"took\", \"got\", \"feel\", \"2\", \"take\", \"months\", \"day\", \"i&#039;ve\", \"now\", \"first\", \"started\", \"side\", \"taking\", \"i&#039;m\", \"\\\"i\"], \"yaxis\": \"y\"}, {\"marker\": {\"color\": \"blue\"}, \"orientation\": \"h\", \"showlegend\": false, \"type\": \"bar\", \"x\": [15884, 16095, 16260, 16346, 16463, 16466, 17006, 17068, 17080, 17343, 18785, 18806, 18849, 19028, 19071, 19401, 19642, 19664, 20629, 20720, 20730, 20880, 22875, 22930, 23073, 23083, 23182, 23240, 24655, 24716, 25567, 26004, 26083, 26561, 27169, 27905, 29502, 30410, 31774, 33698, 33921, 35318, 36350, 38293, 40461, 42518, 43695, 46237, 51586, 65806], \"xaxis\": \"x2\", \"y\": [\"life\", \"even\", \"month\", \"medicine\", \"didn&#039;t\", \"little\", \"tried\", \"felt\", \"never\", \"bad\", \"medication\", \"week\", \"two\", \"period\", \"pill\", \"every\", \"weeks\", \"went\", \"much\", \"it.\", \"still\", \"weight\", \"doctor\", \"got\", \"don&#039;t\", \"back\", \"really\", \"took\", \"will\", \"time\", \"one\", \"days\", \"3\", \"months\", \"it&#039;s\", \"effects\", \"2\", \"pain\", \"i&#039;ve\", \"years\", \"feel\", \"day\", \"started\", \"now\", \"first\", \"i&#039;m\", \"take\", \"taking\", \"side\", \"\\\"i\"], \"yaxis\": \"y2\"}],\n",
       "                        {\"annotations\": [{\"font\": {\"size\": 16}, \"showarrow\": false, \"text\": \"Frequent words of rating 1 to 5\", \"x\": 0.225, \"xanchor\": \"center\", \"xref\": \"paper\", \"y\": 1.0, \"yanchor\": \"bottom\", \"yref\": \"paper\"}, {\"font\": {\"size\": 16}, \"showarrow\": false, \"text\": \"Frequent words of rating 6 to 10\", \"x\": 0.775, \"xanchor\": \"center\", \"xref\": \"paper\", \"y\": 1.0, \"yanchor\": \"bottom\", \"yref\": \"paper\"}], \"height\": 1200, \"paper_bgcolor\": \"rgb(233,233,233)\", \"template\": {\"data\": {\"bar\": [{\"error_x\": {\"color\": \"#2a3f5f\"}, \"error_y\": {\"color\": \"#2a3f5f\"}, \"marker\": {\"line\": {\"color\": \"#E5ECF6\", \"width\": 0.5}}, \"type\": \"bar\"}], \"barpolar\": [{\"marker\": {\"line\": {\"color\": \"#E5ECF6\", \"width\": 0.5}}, \"type\": \"barpolar\"}], \"carpet\": [{\"aaxis\": {\"endlinecolor\": \"#2a3f5f\", \"gridcolor\": \"white\", \"linecolor\": \"white\", \"minorgridcolor\": \"white\", \"startlinecolor\": \"#2a3f5f\"}, \"baxis\": {\"endlinecolor\": \"#2a3f5f\", \"gridcolor\": \"white\", \"linecolor\": \"white\", \"minorgridcolor\": \"white\", \"startlinecolor\": \"#2a3f5f\"}, \"type\": \"carpet\"}], \"choropleth\": [{\"colorbar\": {\"outlinewidth\": 0, \"ticks\": \"\"}, \"type\": \"choropleth\"}], \"contour\": [{\"colorbar\": {\"outlinewidth\": 0, \"ticks\": \"\"}, \"colorscale\": [[0.0, \"#0d0887\"], [0.1111111111111111, \"#46039f\"], [0.2222222222222222, \"#7201a8\"], [0.3333333333333333, \"#9c179e\"], [0.4444444444444444, \"#bd3786\"], [0.5555555555555556, \"#d8576b\"], [0.6666666666666666, \"#ed7953\"], [0.7777777777777778, \"#fb9f3a\"], [0.8888888888888888, \"#fdca26\"], [1.0, \"#f0f921\"]], \"type\": \"contour\"}], \"contourcarpet\": [{\"colorbar\": {\"outlinewidth\": 0, \"ticks\": \"\"}, \"type\": \"contourcarpet\"}], \"heatmap\": [{\"colorbar\": {\"outlinewidth\": 0, \"ticks\": \"\"}, \"colorscale\": [[0.0, \"#0d0887\"], [0.1111111111111111, \"#46039f\"], [0.2222222222222222, \"#7201a8\"], [0.3333333333333333, \"#9c179e\"], [0.4444444444444444, \"#bd3786\"], [0.5555555555555556, \"#d8576b\"], [0.6666666666666666, \"#ed7953\"], [0.7777777777777778, \"#fb9f3a\"], [0.8888888888888888, \"#fdca26\"], [1.0, \"#f0f921\"]], \"type\": \"heatmap\"}], \"heatmapgl\": [{\"colorbar\": {\"outlinewidth\": 0, \"ticks\": \"\"}, \"colorscale\": [[0.0, \"#0d0887\"], [0.1111111111111111, \"#46039f\"], [0.2222222222222222, \"#7201a8\"], [0.3333333333333333, \"#9c179e\"], [0.4444444444444444, \"#bd3786\"], [0.5555555555555556, \"#d8576b\"], [0.6666666666666666, \"#ed7953\"], [0.7777777777777778, \"#fb9f3a\"], [0.8888888888888888, \"#fdca26\"], [1.0, \"#f0f921\"]], \"type\": \"heatmapgl\"}], \"histogram\": [{\"marker\": {\"colorbar\": {\"outlinewidth\": 0, \"ticks\": \"\"}}, \"type\": \"histogram\"}], \"histogram2d\": [{\"colorbar\": {\"outlinewidth\": 0, \"ticks\": \"\"}, \"colorscale\": [[0.0, \"#0d0887\"], [0.1111111111111111, \"#46039f\"], [0.2222222222222222, \"#7201a8\"], [0.3333333333333333, \"#9c179e\"], [0.4444444444444444, \"#bd3786\"], [0.5555555555555556, \"#d8576b\"], [0.6666666666666666, \"#ed7953\"], [0.7777777777777778, \"#fb9f3a\"], [0.8888888888888888, \"#fdca26\"], [1.0, \"#f0f921\"]], \"type\": \"histogram2d\"}], \"histogram2dcontour\": [{\"colorbar\": {\"outlinewidth\": 0, \"ticks\": \"\"}, \"colorscale\": [[0.0, \"#0d0887\"], [0.1111111111111111, \"#46039f\"], [0.2222222222222222, \"#7201a8\"], [0.3333333333333333, \"#9c179e\"], [0.4444444444444444, \"#bd3786\"], [0.5555555555555556, \"#d8576b\"], [0.6666666666666666, \"#ed7953\"], [0.7777777777777778, \"#fb9f3a\"], [0.8888888888888888, \"#fdca26\"], [1.0, \"#f0f921\"]], \"type\": \"histogram2dcontour\"}], \"mesh3d\": [{\"colorbar\": {\"outlinewidth\": 0, \"ticks\": \"\"}, \"type\": \"mesh3d\"}], \"parcoords\": [{\"line\": {\"colorbar\": {\"outlinewidth\": 0, \"ticks\": \"\"}}, \"type\": \"parcoords\"}], \"scatter\": [{\"marker\": {\"colorbar\": {\"outlinewidth\": 0, \"ticks\": \"\"}}, \"type\": \"scatter\"}], \"scatter3d\": [{\"line\": {\"colorbar\": {\"outlinewidth\": 0, \"ticks\": \"\"}}, \"marker\": {\"colorbar\": {\"outlinewidth\": 0, \"ticks\": \"\"}}, \"type\": \"scatter3d\"}], \"scattercarpet\": [{\"marker\": {\"colorbar\": {\"outlinewidth\": 0, \"ticks\": \"\"}}, \"type\": \"scattercarpet\"}], \"scattergeo\": [{\"marker\": {\"colorbar\": {\"outlinewidth\": 0, \"ticks\": \"\"}}, \"type\": \"scattergeo\"}], \"scattergl\": [{\"marker\": {\"colorbar\": {\"outlinewidth\": 0, \"ticks\": \"\"}}, \"type\": \"scattergl\"}], \"scattermapbox\": [{\"marker\": {\"colorbar\": {\"outlinewidth\": 0, \"ticks\": \"\"}}, \"type\": \"scattermapbox\"}], \"scatterpolar\": [{\"marker\": {\"colorbar\": {\"outlinewidth\": 0, \"ticks\": \"\"}}, \"type\": \"scatterpolar\"}], \"scatterpolargl\": [{\"marker\": {\"colorbar\": {\"outlinewidth\": 0, \"ticks\": \"\"}}, \"type\": \"scatterpolargl\"}], \"scatterternary\": [{\"marker\": {\"colorbar\": {\"outlinewidth\": 0, \"ticks\": \"\"}}, \"type\": \"scatterternary\"}], \"surface\": [{\"colorbar\": {\"outlinewidth\": 0, \"ticks\": \"\"}, \"colorscale\": [[0.0, \"#0d0887\"], [0.1111111111111111, \"#46039f\"], [0.2222222222222222, \"#7201a8\"], [0.3333333333333333, \"#9c179e\"], [0.4444444444444444, \"#bd3786\"], [0.5555555555555556, \"#d8576b\"], [0.6666666666666666, \"#ed7953\"], [0.7777777777777778, \"#fb9f3a\"], [0.8888888888888888, \"#fdca26\"], [1.0, \"#f0f921\"]], \"type\": \"surface\"}], \"table\": [{\"cells\": {\"fill\": {\"color\": \"#EBF0F8\"}, \"line\": {\"color\": \"white\"}}, \"header\": {\"fill\": {\"color\": \"#C8D4E3\"}, \"line\": {\"color\": \"white\"}}, \"type\": \"table\"}]}, \"layout\": {\"annotationdefaults\": {\"arrowcolor\": \"#2a3f5f\", \"arrowhead\": 0, \"arrowwidth\": 1}, \"colorscale\": {\"diverging\": [[0, \"#8e0152\"], [0.1, \"#c51b7d\"], [0.2, \"#de77ae\"], [0.3, \"#f1b6da\"], [0.4, \"#fde0ef\"], [0.5, \"#f7f7f7\"], [0.6, \"#e6f5d0\"], [0.7, \"#b8e186\"], [0.8, \"#7fbc41\"], [0.9, \"#4d9221\"], [1, \"#276419\"]], \"sequential\": [[0.0, \"#0d0887\"], [0.1111111111111111, \"#46039f\"], [0.2222222222222222, \"#7201a8\"], [0.3333333333333333, \"#9c179e\"], [0.4444444444444444, \"#bd3786\"], [0.5555555555555556, \"#d8576b\"], [0.6666666666666666, \"#ed7953\"], [0.7777777777777778, \"#fb9f3a\"], [0.8888888888888888, \"#fdca26\"], [1.0, \"#f0f921\"]], \"sequentialminus\": [[0.0, \"#0d0887\"], [0.1111111111111111, \"#46039f\"], [0.2222222222222222, \"#7201a8\"], [0.3333333333333333, \"#9c179e\"], [0.4444444444444444, \"#bd3786\"], [0.5555555555555556, \"#d8576b\"], [0.6666666666666666, \"#ed7953\"], [0.7777777777777778, \"#fb9f3a\"], [0.8888888888888888, \"#fdca26\"], [1.0, \"#f0f921\"]]}, \"colorway\": [\"#636efa\", \"#EF553B\", \"#00cc96\", \"#ab63fa\", \"#FFA15A\", \"#19d3f3\", \"#FF6692\", \"#B6E880\", \"#FF97FF\", \"#FECB52\"], \"font\": {\"color\": \"#2a3f5f\"}, \"geo\": {\"bgcolor\": \"white\", \"lakecolor\": \"white\", \"landcolor\": \"#E5ECF6\", \"showlakes\": true, \"showland\": true, \"subunitcolor\": \"white\"}, \"hoverlabel\": {\"align\": \"left\"}, \"hovermode\": \"closest\", \"mapbox\": {\"style\": \"light\"}, \"paper_bgcolor\": \"white\", \"plot_bgcolor\": \"#E5ECF6\", \"polar\": {\"angularaxis\": {\"gridcolor\": \"white\", \"linecolor\": \"white\", \"ticks\": \"\"}, \"bgcolor\": \"#E5ECF6\", \"radialaxis\": {\"gridcolor\": \"white\", \"linecolor\": \"white\", \"ticks\": \"\"}}, \"scene\": {\"xaxis\": {\"backgroundcolor\": \"#E5ECF6\", \"gridcolor\": \"white\", \"gridwidth\": 2, \"linecolor\": \"white\", \"showbackground\": true, \"ticks\": \"\", \"zerolinecolor\": \"white\"}, \"yaxis\": {\"backgroundcolor\": \"#E5ECF6\", \"gridcolor\": \"white\", \"gridwidth\": 2, \"linecolor\": \"white\", \"showbackground\": true, \"ticks\": \"\", \"zerolinecolor\": \"white\"}, \"zaxis\": {\"backgroundcolor\": \"#E5ECF6\", \"gridcolor\": \"white\", \"gridwidth\": 2, \"linecolor\": \"white\", \"showbackground\": true, \"ticks\": \"\", \"zerolinecolor\": \"white\"}}, \"shapedefaults\": {\"line\": {\"color\": \"#2a3f5f\"}}, \"ternary\": {\"aaxis\": {\"gridcolor\": \"white\", \"linecolor\": \"white\", \"ticks\": \"\"}, \"baxis\": {\"gridcolor\": \"white\", \"linecolor\": \"white\", \"ticks\": \"\"}, \"bgcolor\": \"#E5ECF6\", \"caxis\": {\"gridcolor\": \"white\", \"linecolor\": \"white\", \"ticks\": \"\"}}, \"title\": {\"x\": 0.05}, \"xaxis\": {\"automargin\": true, \"gridcolor\": \"white\", \"linecolor\": \"white\", \"ticks\": \"\", \"zerolinecolor\": \"white\", \"zerolinewidth\": 2}, \"yaxis\": {\"automargin\": true, \"gridcolor\": \"white\", \"linecolor\": \"white\", \"ticks\": \"\", \"zerolinecolor\": \"white\", \"zerolinewidth\": 2}}}, \"title\": {\"text\": \"Word Count Plots\"}, \"width\": 900, \"xaxis\": {\"anchor\": \"y\", \"domain\": [0.0, 0.45]}, \"xaxis2\": {\"anchor\": \"y2\", \"domain\": [0.55, 1.0]}, \"yaxis\": {\"anchor\": \"x\", \"domain\": [0.0, 1.0]}, \"yaxis2\": {\"anchor\": \"x2\", \"domain\": [0.0, 1.0]}},\n",
       "                        {\"responsive\": true}\n",
       "                    ).then(function(){\n",
       "                            \n",
       "var gd = document.getElementById('b97b3f8f-fee2-4aa6-93f1-0f0a14079f46');\n",
       "var x = new MutationObserver(function (mutations, observer) {{\n",
       "        var display = window.getComputedStyle(gd).display;\n",
       "        if (!display || display === 'none') {{\n",
       "            console.log([gd, 'removed!']);\n",
       "            Plotly.purge(gd);\n",
       "            observer.disconnect();\n",
       "        }}\n",
       "}});\n",
       "\n",
       "// Listen for the removal of the full notebook cells\n",
       "var notebookContainer = gd.closest('#notebook-container');\n",
       "if (notebookContainer) {{\n",
       "    x.observe(notebookContainer, {childList: true});\n",
       "}}\n",
       "\n",
       "// Listen for the clearing of the current output cell\n",
       "var outputEl = gd.closest('.output');\n",
       "if (outputEl) {{\n",
       "    x.observe(outputEl, {childList: true});\n",
       "}}\n",
       "\n",
       "                        })\n",
       "                };\n",
       "                });\n",
       "            </script>\n",
       "        </div>"
      ]
     },
     "metadata": {},
     "output_type": "display_data"
    }
   ],
   "source": [
    "from wordcloud import WordCloud, STOPWORDS\n",
    "\n",
    "\n",
    "## custom function for ngram generation ##\n",
    "def generate_ngrams(text, n_gram=1):\n",
    "    token = [token for token in text.lower().split(\" \") if token != \"\" if token not in STOPWORDS]\n",
    "    ngrams = zip(*[token[i:] for i in range(n_gram)])\n",
    "    return [\" \".join(ngram) for ngram in ngrams]\n",
    "\n",
    "## custom function for horizontal bar chart ##\n",
    "def horizontal_bar_chart(df, color):\n",
    "    trace = go.Bar(\n",
    "        y=df[\"word\"].values[::-1],\n",
    "        x=df[\"wordcount\"].values[::-1],\n",
    "        showlegend=False,\n",
    "        orientation = 'h',\n",
    "        marker=dict(\n",
    "            color=color,\n",
    "        ),\n",
    "    )\n",
    "    return trace\n",
    "\n",
    "## Get the bar chart from rating  8 to 10 review ##\n",
    "freq_dict = defaultdict(int)\n",
    "for sent in df_all_1_5[\"review\"]:\n",
    "    for word in generate_ngrams(sent):\n",
    "        freq_dict[word] += 1\n",
    "fd_sorted = pd.DataFrame(sorted(freq_dict.items(), key=lambda x: x[1])[::-1])\n",
    "fd_sorted.columns = [\"word\", \"wordcount\"]\n",
    "trace0 = horizontal_bar_chart(fd_sorted.head(50), 'blue')\n",
    "\n",
    "## Get the bar chart from rating  4 to 7 review ##\n",
    "freq_dict = defaultdict(int)\n",
    "for sent in df_all_6_10[\"review\"]:\n",
    "    for word in generate_ngrams(sent):\n",
    "        freq_dict[word] += 1\n",
    "fd_sorted = pd.DataFrame(sorted(freq_dict.items(), key=lambda x: x[1])[::-1])\n",
    "fd_sorted.columns = [\"word\", \"wordcount\"]\n",
    "trace1 = horizontal_bar_chart(fd_sorted.head(50), 'blue')\n",
    "\n",
    "# Creating two subplots\n",
    "fig = tools.make_subplots(rows=1, cols=2, vertical_spacing=0.04,\n",
    "                          subplot_titles=[\"Frequent words of rating 1 to 5\", \n",
    "                                          \"Frequent words of rating 6 to 10\"])\n",
    "fig.append_trace(trace0, 1, 1)\n",
    "fig.append_trace(trace1, 1, 2)\n",
    "fig['layout'].update(height=1200, width=900, paper_bgcolor='rgb(233,233,233)', title=\"Word Count Plots\")\n",
    "py.iplot(fig, filename='word-plots')"
   ]
  },
  {
   "cell_type": "code",
   "execution_count": 20,
   "metadata": {
    "scrolled": false
   },
   "outputs": [
    {
     "name": "stderr",
     "output_type": "stream",
     "text": [
      "C:\\Users\\somes\\Anaconda3\\lib\\site-packages\\plotly\\tools.py:465: DeprecationWarning:\n",
      "\n",
      "plotly.tools.make_subplots is deprecated, please use plotly.subplots.make_subplots instead\n",
      "\n"
     ]
    },
    {
     "data": {
      "text/plain": [
       "Layout({\n",
       "    'annotations': [{'font': {'size': 16},\n",
       "                     'showarrow': False,\n",
       "                     'text': 'Frequent biagrams of rating 1 to 5',\n",
       "                     'x': 0.2125,\n",
       "                     'xanchor': 'center',\n",
       "                     'xref': 'paper',\n",
       "                     'y': 1.0,\n",
       "                     'yanchor': 'bottom',\n",
       "                     'yref': 'paper'},\n",
       "                    {'font': {'size': 16},\n",
       "                     'showarrow': False,\n",
       "                     'text': 'Frequent biagrams of rating 6 to 10',\n",
       "                     'x': 0.7875,\n",
       "                     'xanchor': 'center',\n",
       "                     'xref': 'paper',\n",
       "                     'y': 1.0,\n",
       "                     'yanchor': 'bottom',\n",
       "                     'yref': 'paper'}],\n",
       "    'height': 1200,\n",
       "    'paper_bgcolor': 'rgb(233,233,233)',\n",
       "    'template': '...',\n",
       "    'title': {'text': 'Bigram Count Plots'},\n",
       "    'width': 1000,\n",
       "    'xaxis': {'anchor': 'y', 'domain': [0.0, 0.425]},\n",
       "    'xaxis2': {'anchor': 'y2', 'domain': [0.575, 1.0]},\n",
       "    'yaxis': {'anchor': 'x', 'domain': [0.0, 1.0]},\n",
       "    'yaxis2': {'anchor': 'x2', 'domain': [0.0, 1.0]}\n",
       "})"
      ]
     },
     "execution_count": 20,
     "metadata": {},
     "output_type": "execute_result"
    },
    {
     "data": {
      "application/vnd.plotly.v1+json": {
       "config": {
        "linkText": "Export to plot.ly",
        "plotlyServerURL": "https://plot.ly",
        "showLink": false
       },
       "data": [
        {
         "marker": {
          "color": "orange"
         },
         "orientation": "h",
         "showlegend": false,
         "type": "bar",
         "x": [
          829,
          830,
          838,
          849,
          850,
          865,
          883,
          888,
          891,
          892,
          900,
          908,
          908,
          910,
          976,
          979,
          993,
          995,
          1031,
          1040,
          1047,
          1048,
          1055,
          1060,
          1189,
          1199,
          1283,
          1316,
          1328,
          1336,
          1348,
          1350,
          1363,
          1371,
          1433,
          1493,
          1542,
          1552,
          1672,
          1749,
          1906,
          1909,
          2020,
          2055,
          2065,
          2149,
          2486,
          2501,
          5812,
          8774
         ],
         "xaxis": "x",
         "y": [
          "two days",
          "first day",
          "doctor prescribed",
          "mood swings.",
          "even though",
          "side effects,",
          "taking pill",
          "weight gain,",
          "5 days",
          "two months",
          "made feel",
          "really bad",
          "first month",
          "2 years",
          "will never",
          "go back",
          "4 months",
          "i&#039;m still",
          "\"i prescribed",
          "2 days",
          "i&#039;ve never",
          "taking it.",
          "now i&#039;m",
          "\"i taking",
          "first time",
          "birth control.",
          "\"i got",
          "mood swings,",
          "3 weeks",
          "3 days",
          "don&#039;t know",
          "stop taking",
          "blood pressure",
          "two weeks",
          "i&#039;m going",
          "2 months",
          "weight gain",
          "side effect",
          "6 months",
          "sex drive",
          "2 weeks",
          "\"i took",
          "stopped taking",
          "3 months",
          "mood swings",
          "\"i started",
          "side effects.",
          "started taking",
          "birth control",
          "side effects"
         ],
         "yaxis": "y"
        },
        {
         "marker": {
          "color": "orange"
         },
         "orientation": "h",
         "showlegend": false,
         "type": "bar",
         "x": [
          1707,
          1717,
          1718,
          1741,
          1768,
          1781,
          1805,
          1849,
          1850,
          1850,
          1875,
          1886,
          1918,
          1929,
          2022,
          2026,
          2091,
          2103,
          2121,
          2194,
          2224,
          2225,
          2289,
          2488,
          2517,
          2544,
          2578,
          2579,
          2656,
          2665,
          2725,
          2744,
          2824,
          2836,
          2880,
          2897,
          2942,
          3189,
          3391,
          3631,
          3720,
          3817,
          3984,
          4142,
          5573,
          5932,
          6810,
          8111,
          8813,
          25377
         ],
         "xaxis": "x2",
         "y": [
          "weight loss",
          "\"i&#039;ve taking",
          "really bad",
          "5 years",
          "\"i took",
          "every day",
          "months ago",
          "4 months",
          "birth control.",
          "i&#039;ve tried",
          "plan b",
          "\"i got",
          "months now",
          "first day",
          "side effects.\"",
          "first month",
          "weight gain,",
          "don&#039;t know",
          "2 days",
          "panic attacks",
          "now i&#039;m",
          "3 years",
          "first week",
          "highly recommend",
          "much better",
          "years old",
          "doctor prescribed",
          "3 weeks",
          "blood pressure",
          "year old",
          "years ago",
          "3 days",
          "2 years",
          "two weeks",
          "mood swings",
          "sex drive",
          "2 months",
          "6 months",
          "side effects,",
          "weight gain",
          "\"i taking",
          "3 months",
          "2 weeks",
          "first time",
          "\"i started",
          "side effect",
          "started taking",
          "side effects.",
          "birth control",
          "side effects"
         ],
         "yaxis": "y2"
        }
       ],
       "layout": {
        "annotations": [
         {
          "font": {
           "size": 16
          },
          "showarrow": false,
          "text": "Frequent biagrams of rating 1 to 5",
          "x": 0.2125,
          "xanchor": "center",
          "xref": "paper",
          "y": 1,
          "yanchor": "bottom",
          "yref": "paper"
         },
         {
          "font": {
           "size": 16
          },
          "showarrow": false,
          "text": "Frequent biagrams of rating 6 to 10",
          "x": 0.7875,
          "xanchor": "center",
          "xref": "paper",
          "y": 1,
          "yanchor": "bottom",
          "yref": "paper"
         }
        ],
        "height": 1200,
        "paper_bgcolor": "rgb(233,233,233)",
        "template": {
         "data": {
          "bar": [
           {
            "error_x": {
             "color": "#2a3f5f"
            },
            "error_y": {
             "color": "#2a3f5f"
            },
            "marker": {
             "line": {
              "color": "#E5ECF6",
              "width": 0.5
             }
            },
            "type": "bar"
           }
          ],
          "barpolar": [
           {
            "marker": {
             "line": {
              "color": "#E5ECF6",
              "width": 0.5
             }
            },
            "type": "barpolar"
           }
          ],
          "carpet": [
           {
            "aaxis": {
             "endlinecolor": "#2a3f5f",
             "gridcolor": "white",
             "linecolor": "white",
             "minorgridcolor": "white",
             "startlinecolor": "#2a3f5f"
            },
            "baxis": {
             "endlinecolor": "#2a3f5f",
             "gridcolor": "white",
             "linecolor": "white",
             "minorgridcolor": "white",
             "startlinecolor": "#2a3f5f"
            },
            "type": "carpet"
           }
          ],
          "choropleth": [
           {
            "colorbar": {
             "outlinewidth": 0,
             "ticks": ""
            },
            "type": "choropleth"
           }
          ],
          "contour": [
           {
            "colorbar": {
             "outlinewidth": 0,
             "ticks": ""
            },
            "colorscale": [
             [
              0,
              "#0d0887"
             ],
             [
              0.1111111111111111,
              "#46039f"
             ],
             [
              0.2222222222222222,
              "#7201a8"
             ],
             [
              0.3333333333333333,
              "#9c179e"
             ],
             [
              0.4444444444444444,
              "#bd3786"
             ],
             [
              0.5555555555555556,
              "#d8576b"
             ],
             [
              0.6666666666666666,
              "#ed7953"
             ],
             [
              0.7777777777777778,
              "#fb9f3a"
             ],
             [
              0.8888888888888888,
              "#fdca26"
             ],
             [
              1,
              "#f0f921"
             ]
            ],
            "type": "contour"
           }
          ],
          "contourcarpet": [
           {
            "colorbar": {
             "outlinewidth": 0,
             "ticks": ""
            },
            "type": "contourcarpet"
           }
          ],
          "heatmap": [
           {
            "colorbar": {
             "outlinewidth": 0,
             "ticks": ""
            },
            "colorscale": [
             [
              0,
              "#0d0887"
             ],
             [
              0.1111111111111111,
              "#46039f"
             ],
             [
              0.2222222222222222,
              "#7201a8"
             ],
             [
              0.3333333333333333,
              "#9c179e"
             ],
             [
              0.4444444444444444,
              "#bd3786"
             ],
             [
              0.5555555555555556,
              "#d8576b"
             ],
             [
              0.6666666666666666,
              "#ed7953"
             ],
             [
              0.7777777777777778,
              "#fb9f3a"
             ],
             [
              0.8888888888888888,
              "#fdca26"
             ],
             [
              1,
              "#f0f921"
             ]
            ],
            "type": "heatmap"
           }
          ],
          "heatmapgl": [
           {
            "colorbar": {
             "outlinewidth": 0,
             "ticks": ""
            },
            "colorscale": [
             [
              0,
              "#0d0887"
             ],
             [
              0.1111111111111111,
              "#46039f"
             ],
             [
              0.2222222222222222,
              "#7201a8"
             ],
             [
              0.3333333333333333,
              "#9c179e"
             ],
             [
              0.4444444444444444,
              "#bd3786"
             ],
             [
              0.5555555555555556,
              "#d8576b"
             ],
             [
              0.6666666666666666,
              "#ed7953"
             ],
             [
              0.7777777777777778,
              "#fb9f3a"
             ],
             [
              0.8888888888888888,
              "#fdca26"
             ],
             [
              1,
              "#f0f921"
             ]
            ],
            "type": "heatmapgl"
           }
          ],
          "histogram": [
           {
            "marker": {
             "colorbar": {
              "outlinewidth": 0,
              "ticks": ""
             }
            },
            "type": "histogram"
           }
          ],
          "histogram2d": [
           {
            "colorbar": {
             "outlinewidth": 0,
             "ticks": ""
            },
            "colorscale": [
             [
              0,
              "#0d0887"
             ],
             [
              0.1111111111111111,
              "#46039f"
             ],
             [
              0.2222222222222222,
              "#7201a8"
             ],
             [
              0.3333333333333333,
              "#9c179e"
             ],
             [
              0.4444444444444444,
              "#bd3786"
             ],
             [
              0.5555555555555556,
              "#d8576b"
             ],
             [
              0.6666666666666666,
              "#ed7953"
             ],
             [
              0.7777777777777778,
              "#fb9f3a"
             ],
             [
              0.8888888888888888,
              "#fdca26"
             ],
             [
              1,
              "#f0f921"
             ]
            ],
            "type": "histogram2d"
           }
          ],
          "histogram2dcontour": [
           {
            "colorbar": {
             "outlinewidth": 0,
             "ticks": ""
            },
            "colorscale": [
             [
              0,
              "#0d0887"
             ],
             [
              0.1111111111111111,
              "#46039f"
             ],
             [
              0.2222222222222222,
              "#7201a8"
             ],
             [
              0.3333333333333333,
              "#9c179e"
             ],
             [
              0.4444444444444444,
              "#bd3786"
             ],
             [
              0.5555555555555556,
              "#d8576b"
             ],
             [
              0.6666666666666666,
              "#ed7953"
             ],
             [
              0.7777777777777778,
              "#fb9f3a"
             ],
             [
              0.8888888888888888,
              "#fdca26"
             ],
             [
              1,
              "#f0f921"
             ]
            ],
            "type": "histogram2dcontour"
           }
          ],
          "mesh3d": [
           {
            "colorbar": {
             "outlinewidth": 0,
             "ticks": ""
            },
            "type": "mesh3d"
           }
          ],
          "parcoords": [
           {
            "line": {
             "colorbar": {
              "outlinewidth": 0,
              "ticks": ""
             }
            },
            "type": "parcoords"
           }
          ],
          "scatter": [
           {
            "marker": {
             "colorbar": {
              "outlinewidth": 0,
              "ticks": ""
             }
            },
            "type": "scatter"
           }
          ],
          "scatter3d": [
           {
            "line": {
             "colorbar": {
              "outlinewidth": 0,
              "ticks": ""
             }
            },
            "marker": {
             "colorbar": {
              "outlinewidth": 0,
              "ticks": ""
             }
            },
            "type": "scatter3d"
           }
          ],
          "scattercarpet": [
           {
            "marker": {
             "colorbar": {
              "outlinewidth": 0,
              "ticks": ""
             }
            },
            "type": "scattercarpet"
           }
          ],
          "scattergeo": [
           {
            "marker": {
             "colorbar": {
              "outlinewidth": 0,
              "ticks": ""
             }
            },
            "type": "scattergeo"
           }
          ],
          "scattergl": [
           {
            "marker": {
             "colorbar": {
              "outlinewidth": 0,
              "ticks": ""
             }
            },
            "type": "scattergl"
           }
          ],
          "scattermapbox": [
           {
            "marker": {
             "colorbar": {
              "outlinewidth": 0,
              "ticks": ""
             }
            },
            "type": "scattermapbox"
           }
          ],
          "scatterpolar": [
           {
            "marker": {
             "colorbar": {
              "outlinewidth": 0,
              "ticks": ""
             }
            },
            "type": "scatterpolar"
           }
          ],
          "scatterpolargl": [
           {
            "marker": {
             "colorbar": {
              "outlinewidth": 0,
              "ticks": ""
             }
            },
            "type": "scatterpolargl"
           }
          ],
          "scatterternary": [
           {
            "marker": {
             "colorbar": {
              "outlinewidth": 0,
              "ticks": ""
             }
            },
            "type": "scatterternary"
           }
          ],
          "surface": [
           {
            "colorbar": {
             "outlinewidth": 0,
             "ticks": ""
            },
            "colorscale": [
             [
              0,
              "#0d0887"
             ],
             [
              0.1111111111111111,
              "#46039f"
             ],
             [
              0.2222222222222222,
              "#7201a8"
             ],
             [
              0.3333333333333333,
              "#9c179e"
             ],
             [
              0.4444444444444444,
              "#bd3786"
             ],
             [
              0.5555555555555556,
              "#d8576b"
             ],
             [
              0.6666666666666666,
              "#ed7953"
             ],
             [
              0.7777777777777778,
              "#fb9f3a"
             ],
             [
              0.8888888888888888,
              "#fdca26"
             ],
             [
              1,
              "#f0f921"
             ]
            ],
            "type": "surface"
           }
          ],
          "table": [
           {
            "cells": {
             "fill": {
              "color": "#EBF0F8"
             },
             "line": {
              "color": "white"
             }
            },
            "header": {
             "fill": {
              "color": "#C8D4E3"
             },
             "line": {
              "color": "white"
             }
            },
            "type": "table"
           }
          ]
         },
         "layout": {
          "annotationdefaults": {
           "arrowcolor": "#2a3f5f",
           "arrowhead": 0,
           "arrowwidth": 1
          },
          "colorscale": {
           "diverging": [
            [
             0,
             "#8e0152"
            ],
            [
             0.1,
             "#c51b7d"
            ],
            [
             0.2,
             "#de77ae"
            ],
            [
             0.3,
             "#f1b6da"
            ],
            [
             0.4,
             "#fde0ef"
            ],
            [
             0.5,
             "#f7f7f7"
            ],
            [
             0.6,
             "#e6f5d0"
            ],
            [
             0.7,
             "#b8e186"
            ],
            [
             0.8,
             "#7fbc41"
            ],
            [
             0.9,
             "#4d9221"
            ],
            [
             1,
             "#276419"
            ]
           ],
           "sequential": [
            [
             0,
             "#0d0887"
            ],
            [
             0.1111111111111111,
             "#46039f"
            ],
            [
             0.2222222222222222,
             "#7201a8"
            ],
            [
             0.3333333333333333,
             "#9c179e"
            ],
            [
             0.4444444444444444,
             "#bd3786"
            ],
            [
             0.5555555555555556,
             "#d8576b"
            ],
            [
             0.6666666666666666,
             "#ed7953"
            ],
            [
             0.7777777777777778,
             "#fb9f3a"
            ],
            [
             0.8888888888888888,
             "#fdca26"
            ],
            [
             1,
             "#f0f921"
            ]
           ],
           "sequentialminus": [
            [
             0,
             "#0d0887"
            ],
            [
             0.1111111111111111,
             "#46039f"
            ],
            [
             0.2222222222222222,
             "#7201a8"
            ],
            [
             0.3333333333333333,
             "#9c179e"
            ],
            [
             0.4444444444444444,
             "#bd3786"
            ],
            [
             0.5555555555555556,
             "#d8576b"
            ],
            [
             0.6666666666666666,
             "#ed7953"
            ],
            [
             0.7777777777777778,
             "#fb9f3a"
            ],
            [
             0.8888888888888888,
             "#fdca26"
            ],
            [
             1,
             "#f0f921"
            ]
           ]
          },
          "colorway": [
           "#636efa",
           "#EF553B",
           "#00cc96",
           "#ab63fa",
           "#FFA15A",
           "#19d3f3",
           "#FF6692",
           "#B6E880",
           "#FF97FF",
           "#FECB52"
          ],
          "font": {
           "color": "#2a3f5f"
          },
          "geo": {
           "bgcolor": "white",
           "lakecolor": "white",
           "landcolor": "#E5ECF6",
           "showlakes": true,
           "showland": true,
           "subunitcolor": "white"
          },
          "hoverlabel": {
           "align": "left"
          },
          "hovermode": "closest",
          "mapbox": {
           "style": "light"
          },
          "paper_bgcolor": "white",
          "plot_bgcolor": "#E5ECF6",
          "polar": {
           "angularaxis": {
            "gridcolor": "white",
            "linecolor": "white",
            "ticks": ""
           },
           "bgcolor": "#E5ECF6",
           "radialaxis": {
            "gridcolor": "white",
            "linecolor": "white",
            "ticks": ""
           }
          },
          "scene": {
           "xaxis": {
            "backgroundcolor": "#E5ECF6",
            "gridcolor": "white",
            "gridwidth": 2,
            "linecolor": "white",
            "showbackground": true,
            "ticks": "",
            "zerolinecolor": "white"
           },
           "yaxis": {
            "backgroundcolor": "#E5ECF6",
            "gridcolor": "white",
            "gridwidth": 2,
            "linecolor": "white",
            "showbackground": true,
            "ticks": "",
            "zerolinecolor": "white"
           },
           "zaxis": {
            "backgroundcolor": "#E5ECF6",
            "gridcolor": "white",
            "gridwidth": 2,
            "linecolor": "white",
            "showbackground": true,
            "ticks": "",
            "zerolinecolor": "white"
           }
          },
          "shapedefaults": {
           "line": {
            "color": "#2a3f5f"
           }
          },
          "ternary": {
           "aaxis": {
            "gridcolor": "white",
            "linecolor": "white",
            "ticks": ""
           },
           "baxis": {
            "gridcolor": "white",
            "linecolor": "white",
            "ticks": ""
           },
           "bgcolor": "#E5ECF6",
           "caxis": {
            "gridcolor": "white",
            "linecolor": "white",
            "ticks": ""
           }
          },
          "title": {
           "x": 0.05
          },
          "xaxis": {
           "automargin": true,
           "gridcolor": "white",
           "linecolor": "white",
           "ticks": "",
           "zerolinecolor": "white",
           "zerolinewidth": 2
          },
          "yaxis": {
           "automargin": true,
           "gridcolor": "white",
           "linecolor": "white",
           "ticks": "",
           "zerolinecolor": "white",
           "zerolinewidth": 2
          }
         }
        },
        "title": {
         "text": "Bigram Count Plots"
        },
        "width": 1000,
        "xaxis": {
         "anchor": "y",
         "domain": [
          0,
          0.425
         ]
        },
        "xaxis2": {
         "anchor": "y2",
         "domain": [
          0.575,
          1
         ]
        },
        "yaxis": {
         "anchor": "x",
         "domain": [
          0,
          1
         ]
        },
        "yaxis2": {
         "anchor": "x2",
         "domain": [
          0,
          1
         ]
        }
       }
      },
      "text/html": [
       "<div>\n",
       "        \n",
       "        \n",
       "            <div id=\"04e5bc72-406f-4c34-9cec-b62ad129e12f\" class=\"plotly-graph-div\" style=\"height:1200px; width:1000px;\"></div>\n",
       "            <script type=\"text/javascript\">\n",
       "                require([\"plotly\"], function(Plotly) {\n",
       "                    window.PLOTLYENV=window.PLOTLYENV || {};\n",
       "                    \n",
       "                if (document.getElementById(\"04e5bc72-406f-4c34-9cec-b62ad129e12f\")) {\n",
       "                    Plotly.newPlot(\n",
       "                        '04e5bc72-406f-4c34-9cec-b62ad129e12f',\n",
       "                        [{\"marker\": {\"color\": \"orange\"}, \"orientation\": \"h\", \"showlegend\": false, \"type\": \"bar\", \"x\": [829, 830, 838, 849, 850, 865, 883, 888, 891, 892, 900, 908, 908, 910, 976, 979, 993, 995, 1031, 1040, 1047, 1048, 1055, 1060, 1189, 1199, 1283, 1316, 1328, 1336, 1348, 1350, 1363, 1371, 1433, 1493, 1542, 1552, 1672, 1749, 1906, 1909, 2020, 2055, 2065, 2149, 2486, 2501, 5812, 8774], \"xaxis\": \"x\", \"y\": [\"two days\", \"first day\", \"doctor prescribed\", \"mood swings.\", \"even though\", \"side effects,\", \"taking pill\", \"weight gain,\", \"5 days\", \"two months\", \"made feel\", \"really bad\", \"first month\", \"2 years\", \"will never\", \"go back\", \"4 months\", \"i&#039;m still\", \"\\\"i prescribed\", \"2 days\", \"i&#039;ve never\", \"taking it.\", \"now i&#039;m\", \"\\\"i taking\", \"first time\", \"birth control.\", \"\\\"i got\", \"mood swings,\", \"3 weeks\", \"3 days\", \"don&#039;t know\", \"stop taking\", \"blood pressure\", \"two weeks\", \"i&#039;m going\", \"2 months\", \"weight gain\", \"side effect\", \"6 months\", \"sex drive\", \"2 weeks\", \"\\\"i took\", \"stopped taking\", \"3 months\", \"mood swings\", \"\\\"i started\", \"side effects.\", \"started taking\", \"birth control\", \"side effects\"], \"yaxis\": \"y\"}, {\"marker\": {\"color\": \"orange\"}, \"orientation\": \"h\", \"showlegend\": false, \"type\": \"bar\", \"x\": [1707, 1717, 1718, 1741, 1768, 1781, 1805, 1849, 1850, 1850, 1875, 1886, 1918, 1929, 2022, 2026, 2091, 2103, 2121, 2194, 2224, 2225, 2289, 2488, 2517, 2544, 2578, 2579, 2656, 2665, 2725, 2744, 2824, 2836, 2880, 2897, 2942, 3189, 3391, 3631, 3720, 3817, 3984, 4142, 5573, 5932, 6810, 8111, 8813, 25377], \"xaxis\": \"x2\", \"y\": [\"weight loss\", \"\\\"i&#039;ve taking\", \"really bad\", \"5 years\", \"\\\"i took\", \"every day\", \"months ago\", \"4 months\", \"birth control.\", \"i&#039;ve tried\", \"plan b\", \"\\\"i got\", \"months now\", \"first day\", \"side effects.\\\"\", \"first month\", \"weight gain,\", \"don&#039;t know\", \"2 days\", \"panic attacks\", \"now i&#039;m\", \"3 years\", \"first week\", \"highly recommend\", \"much better\", \"years old\", \"doctor prescribed\", \"3 weeks\", \"blood pressure\", \"year old\", \"years ago\", \"3 days\", \"2 years\", \"two weeks\", \"mood swings\", \"sex drive\", \"2 months\", \"6 months\", \"side effects,\", \"weight gain\", \"\\\"i taking\", \"3 months\", \"2 weeks\", \"first time\", \"\\\"i started\", \"side effect\", \"started taking\", \"side effects.\", \"birth control\", \"side effects\"], \"yaxis\": \"y2\"}],\n",
       "                        {\"annotations\": [{\"font\": {\"size\": 16}, \"showarrow\": false, \"text\": \"Frequent biagrams of rating 1 to 5\", \"x\": 0.2125, \"xanchor\": \"center\", \"xref\": \"paper\", \"y\": 1.0, \"yanchor\": \"bottom\", \"yref\": \"paper\"}, {\"font\": {\"size\": 16}, \"showarrow\": false, \"text\": \"Frequent biagrams of rating 6 to 10\", \"x\": 0.7875, \"xanchor\": \"center\", \"xref\": \"paper\", \"y\": 1.0, \"yanchor\": \"bottom\", \"yref\": \"paper\"}], \"height\": 1200, \"paper_bgcolor\": \"rgb(233,233,233)\", \"template\": {\"data\": {\"bar\": [{\"error_x\": {\"color\": \"#2a3f5f\"}, \"error_y\": {\"color\": \"#2a3f5f\"}, \"marker\": {\"line\": {\"color\": \"#E5ECF6\", \"width\": 0.5}}, \"type\": \"bar\"}], \"barpolar\": [{\"marker\": {\"line\": {\"color\": \"#E5ECF6\", \"width\": 0.5}}, \"type\": \"barpolar\"}], \"carpet\": [{\"aaxis\": {\"endlinecolor\": \"#2a3f5f\", \"gridcolor\": \"white\", \"linecolor\": \"white\", \"minorgridcolor\": \"white\", \"startlinecolor\": \"#2a3f5f\"}, \"baxis\": {\"endlinecolor\": \"#2a3f5f\", \"gridcolor\": \"white\", \"linecolor\": \"white\", \"minorgridcolor\": \"white\", \"startlinecolor\": \"#2a3f5f\"}, \"type\": \"carpet\"}], \"choropleth\": [{\"colorbar\": {\"outlinewidth\": 0, \"ticks\": \"\"}, \"type\": \"choropleth\"}], \"contour\": [{\"colorbar\": {\"outlinewidth\": 0, \"ticks\": \"\"}, \"colorscale\": [[0.0, \"#0d0887\"], [0.1111111111111111, \"#46039f\"], [0.2222222222222222, \"#7201a8\"], [0.3333333333333333, \"#9c179e\"], [0.4444444444444444, \"#bd3786\"], [0.5555555555555556, \"#d8576b\"], [0.6666666666666666, \"#ed7953\"], [0.7777777777777778, \"#fb9f3a\"], [0.8888888888888888, \"#fdca26\"], [1.0, \"#f0f921\"]], \"type\": \"contour\"}], \"contourcarpet\": [{\"colorbar\": {\"outlinewidth\": 0, \"ticks\": \"\"}, \"type\": \"contourcarpet\"}], \"heatmap\": [{\"colorbar\": {\"outlinewidth\": 0, \"ticks\": \"\"}, \"colorscale\": [[0.0, \"#0d0887\"], [0.1111111111111111, \"#46039f\"], [0.2222222222222222, \"#7201a8\"], [0.3333333333333333, \"#9c179e\"], [0.4444444444444444, \"#bd3786\"], [0.5555555555555556, \"#d8576b\"], [0.6666666666666666, \"#ed7953\"], [0.7777777777777778, \"#fb9f3a\"], [0.8888888888888888, \"#fdca26\"], [1.0, \"#f0f921\"]], \"type\": \"heatmap\"}], \"heatmapgl\": [{\"colorbar\": {\"outlinewidth\": 0, \"ticks\": \"\"}, \"colorscale\": [[0.0, \"#0d0887\"], [0.1111111111111111, \"#46039f\"], [0.2222222222222222, \"#7201a8\"], [0.3333333333333333, \"#9c179e\"], [0.4444444444444444, \"#bd3786\"], [0.5555555555555556, \"#d8576b\"], [0.6666666666666666, \"#ed7953\"], [0.7777777777777778, \"#fb9f3a\"], [0.8888888888888888, \"#fdca26\"], [1.0, \"#f0f921\"]], \"type\": \"heatmapgl\"}], \"histogram\": [{\"marker\": {\"colorbar\": {\"outlinewidth\": 0, \"ticks\": \"\"}}, \"type\": \"histogram\"}], \"histogram2d\": [{\"colorbar\": {\"outlinewidth\": 0, \"ticks\": \"\"}, \"colorscale\": [[0.0, \"#0d0887\"], [0.1111111111111111, \"#46039f\"], [0.2222222222222222, \"#7201a8\"], [0.3333333333333333, \"#9c179e\"], [0.4444444444444444, \"#bd3786\"], [0.5555555555555556, \"#d8576b\"], [0.6666666666666666, \"#ed7953\"], [0.7777777777777778, \"#fb9f3a\"], [0.8888888888888888, \"#fdca26\"], [1.0, \"#f0f921\"]], \"type\": \"histogram2d\"}], \"histogram2dcontour\": [{\"colorbar\": {\"outlinewidth\": 0, \"ticks\": \"\"}, \"colorscale\": [[0.0, \"#0d0887\"], [0.1111111111111111, \"#46039f\"], [0.2222222222222222, \"#7201a8\"], [0.3333333333333333, \"#9c179e\"], [0.4444444444444444, \"#bd3786\"], [0.5555555555555556, \"#d8576b\"], [0.6666666666666666, \"#ed7953\"], [0.7777777777777778, \"#fb9f3a\"], [0.8888888888888888, \"#fdca26\"], [1.0, \"#f0f921\"]], \"type\": \"histogram2dcontour\"}], \"mesh3d\": [{\"colorbar\": {\"outlinewidth\": 0, \"ticks\": \"\"}, \"type\": \"mesh3d\"}], \"parcoords\": [{\"line\": {\"colorbar\": {\"outlinewidth\": 0, \"ticks\": \"\"}}, \"type\": \"parcoords\"}], \"scatter\": [{\"marker\": {\"colorbar\": {\"outlinewidth\": 0, \"ticks\": \"\"}}, \"type\": \"scatter\"}], \"scatter3d\": [{\"line\": {\"colorbar\": {\"outlinewidth\": 0, \"ticks\": \"\"}}, \"marker\": {\"colorbar\": {\"outlinewidth\": 0, \"ticks\": \"\"}}, \"type\": \"scatter3d\"}], \"scattercarpet\": [{\"marker\": {\"colorbar\": {\"outlinewidth\": 0, \"ticks\": \"\"}}, \"type\": \"scattercarpet\"}], \"scattergeo\": [{\"marker\": {\"colorbar\": {\"outlinewidth\": 0, \"ticks\": \"\"}}, \"type\": \"scattergeo\"}], \"scattergl\": [{\"marker\": {\"colorbar\": {\"outlinewidth\": 0, \"ticks\": \"\"}}, \"type\": \"scattergl\"}], \"scattermapbox\": [{\"marker\": {\"colorbar\": {\"outlinewidth\": 0, \"ticks\": \"\"}}, \"type\": \"scattermapbox\"}], \"scatterpolar\": [{\"marker\": {\"colorbar\": {\"outlinewidth\": 0, \"ticks\": \"\"}}, \"type\": \"scatterpolar\"}], \"scatterpolargl\": [{\"marker\": {\"colorbar\": {\"outlinewidth\": 0, \"ticks\": \"\"}}, \"type\": \"scatterpolargl\"}], \"scatterternary\": [{\"marker\": {\"colorbar\": {\"outlinewidth\": 0, \"ticks\": \"\"}}, \"type\": \"scatterternary\"}], \"surface\": [{\"colorbar\": {\"outlinewidth\": 0, \"ticks\": \"\"}, \"colorscale\": [[0.0, \"#0d0887\"], [0.1111111111111111, \"#46039f\"], [0.2222222222222222, \"#7201a8\"], [0.3333333333333333, \"#9c179e\"], [0.4444444444444444, \"#bd3786\"], [0.5555555555555556, \"#d8576b\"], [0.6666666666666666, \"#ed7953\"], [0.7777777777777778, \"#fb9f3a\"], [0.8888888888888888, \"#fdca26\"], [1.0, \"#f0f921\"]], \"type\": \"surface\"}], \"table\": [{\"cells\": {\"fill\": {\"color\": \"#EBF0F8\"}, \"line\": {\"color\": \"white\"}}, \"header\": {\"fill\": {\"color\": \"#C8D4E3\"}, \"line\": {\"color\": \"white\"}}, \"type\": \"table\"}]}, \"layout\": {\"annotationdefaults\": {\"arrowcolor\": \"#2a3f5f\", \"arrowhead\": 0, \"arrowwidth\": 1}, \"colorscale\": {\"diverging\": [[0, \"#8e0152\"], [0.1, \"#c51b7d\"], [0.2, \"#de77ae\"], [0.3, \"#f1b6da\"], [0.4, \"#fde0ef\"], [0.5, \"#f7f7f7\"], [0.6, \"#e6f5d0\"], [0.7, \"#b8e186\"], [0.8, \"#7fbc41\"], [0.9, \"#4d9221\"], [1, \"#276419\"]], \"sequential\": [[0.0, \"#0d0887\"], [0.1111111111111111, \"#46039f\"], [0.2222222222222222, \"#7201a8\"], [0.3333333333333333, \"#9c179e\"], [0.4444444444444444, \"#bd3786\"], [0.5555555555555556, \"#d8576b\"], [0.6666666666666666, \"#ed7953\"], [0.7777777777777778, \"#fb9f3a\"], [0.8888888888888888, \"#fdca26\"], [1.0, \"#f0f921\"]], \"sequentialminus\": [[0.0, \"#0d0887\"], [0.1111111111111111, \"#46039f\"], [0.2222222222222222, \"#7201a8\"], [0.3333333333333333, \"#9c179e\"], [0.4444444444444444, \"#bd3786\"], [0.5555555555555556, \"#d8576b\"], [0.6666666666666666, \"#ed7953\"], [0.7777777777777778, \"#fb9f3a\"], [0.8888888888888888, \"#fdca26\"], [1.0, \"#f0f921\"]]}, \"colorway\": [\"#636efa\", \"#EF553B\", \"#00cc96\", \"#ab63fa\", \"#FFA15A\", \"#19d3f3\", \"#FF6692\", \"#B6E880\", \"#FF97FF\", \"#FECB52\"], \"font\": {\"color\": \"#2a3f5f\"}, \"geo\": {\"bgcolor\": \"white\", \"lakecolor\": \"white\", \"landcolor\": \"#E5ECF6\", \"showlakes\": true, \"showland\": true, \"subunitcolor\": \"white\"}, \"hoverlabel\": {\"align\": \"left\"}, \"hovermode\": \"closest\", \"mapbox\": {\"style\": \"light\"}, \"paper_bgcolor\": \"white\", \"plot_bgcolor\": \"#E5ECF6\", \"polar\": {\"angularaxis\": {\"gridcolor\": \"white\", \"linecolor\": \"white\", \"ticks\": \"\"}, \"bgcolor\": \"#E5ECF6\", \"radialaxis\": {\"gridcolor\": \"white\", \"linecolor\": \"white\", \"ticks\": \"\"}}, \"scene\": {\"xaxis\": {\"backgroundcolor\": \"#E5ECF6\", \"gridcolor\": \"white\", \"gridwidth\": 2, \"linecolor\": \"white\", \"showbackground\": true, \"ticks\": \"\", \"zerolinecolor\": \"white\"}, \"yaxis\": {\"backgroundcolor\": \"#E5ECF6\", \"gridcolor\": \"white\", \"gridwidth\": 2, \"linecolor\": \"white\", \"showbackground\": true, \"ticks\": \"\", \"zerolinecolor\": \"white\"}, \"zaxis\": {\"backgroundcolor\": \"#E5ECF6\", \"gridcolor\": \"white\", \"gridwidth\": 2, \"linecolor\": \"white\", \"showbackground\": true, \"ticks\": \"\", \"zerolinecolor\": \"white\"}}, \"shapedefaults\": {\"line\": {\"color\": \"#2a3f5f\"}}, \"ternary\": {\"aaxis\": {\"gridcolor\": \"white\", \"linecolor\": \"white\", \"ticks\": \"\"}, \"baxis\": {\"gridcolor\": \"white\", \"linecolor\": \"white\", \"ticks\": \"\"}, \"bgcolor\": \"#E5ECF6\", \"caxis\": {\"gridcolor\": \"white\", \"linecolor\": \"white\", \"ticks\": \"\"}}, \"title\": {\"x\": 0.05}, \"xaxis\": {\"automargin\": true, \"gridcolor\": \"white\", \"linecolor\": \"white\", \"ticks\": \"\", \"zerolinecolor\": \"white\", \"zerolinewidth\": 2}, \"yaxis\": {\"automargin\": true, \"gridcolor\": \"white\", \"linecolor\": \"white\", \"ticks\": \"\", \"zerolinecolor\": \"white\", \"zerolinewidth\": 2}}}, \"title\": {\"text\": \"Bigram Count Plots\"}, \"width\": 1000, \"xaxis\": {\"anchor\": \"y\", \"domain\": [0.0, 0.425]}, \"xaxis2\": {\"anchor\": \"y2\", \"domain\": [0.575, 1.0]}, \"yaxis\": {\"anchor\": \"x\", \"domain\": [0.0, 1.0]}, \"yaxis2\": {\"anchor\": \"x2\", \"domain\": [0.0, 1.0]}},\n",
       "                        {\"responsive\": true}\n",
       "                    ).then(function(){\n",
       "                            \n",
       "var gd = document.getElementById('04e5bc72-406f-4c34-9cec-b62ad129e12f');\n",
       "var x = new MutationObserver(function (mutations, observer) {{\n",
       "        var display = window.getComputedStyle(gd).display;\n",
       "        if (!display || display === 'none') {{\n",
       "            console.log([gd, 'removed!']);\n",
       "            Plotly.purge(gd);\n",
       "            observer.disconnect();\n",
       "        }}\n",
       "}});\n",
       "\n",
       "// Listen for the removal of the full notebook cells\n",
       "var notebookContainer = gd.closest('#notebook-container');\n",
       "if (notebookContainer) {{\n",
       "    x.observe(notebookContainer, {childList: true});\n",
       "}}\n",
       "\n",
       "// Listen for the clearing of the current output cell\n",
       "var outputEl = gd.closest('.output');\n",
       "if (outputEl) {{\n",
       "    x.observe(outputEl, {childList: true});\n",
       "}}\n",
       "\n",
       "                        })\n",
       "                };\n",
       "                });\n",
       "            </script>\n",
       "        </div>"
      ]
     },
     "metadata": {},
     "output_type": "display_data"
    }
   ],
   "source": [
    "freq_dict = defaultdict(int)\n",
    "for sent in df_all_1_5[\"review\"]:\n",
    "    for word in generate_ngrams(sent,2):\n",
    "        freq_dict[word] += 1\n",
    "fd_sorted = pd.DataFrame(sorted(freq_dict.items(), key=lambda x: x[1])[::-1])\n",
    "fd_sorted.columns = [\"word\", \"wordcount\"]\n",
    "trace1 = horizontal_bar_chart(fd_sorted.head(50), 'orange')\n",
    "\n",
    "freq_dict = defaultdict(int)\n",
    "for sent in df_all_6_10[\"review\"]:\n",
    "    for word in generate_ngrams(sent,2):\n",
    "        freq_dict[word] += 1\n",
    "fd_sorted = pd.DataFrame(sorted(freq_dict.items(), key=lambda x: x[1])[::-1])\n",
    "fd_sorted.columns = [\"word\", \"wordcount\"]\n",
    "trace2 = horizontal_bar_chart(fd_sorted.head(50), 'orange')\n",
    "\n",
    "# Creating two subplots\n",
    "fig = tools.make_subplots(rows=1, cols=2, vertical_spacing=0.04,horizontal_spacing=0.15,\n",
    "                          subplot_titles=[\"Frequent biagrams of rating 1 to 5\", \n",
    "                                          \"Frequent biagrams of rating 6 to 10\"])\n",
    "fig.append_trace(trace1, 1, 1)\n",
    "fig.append_trace(trace2, 1, 2)\n",
    "fig['layout'].update(height=1200, width=1000, paper_bgcolor='rgb(233,233,233)', title=\"Bigram Count Plots\")\n",
    "py.iplot(fig, filename='word-plots')"
   ]
  },
  {
   "cell_type": "code",
   "execution_count": 21,
   "metadata": {},
   "outputs": [
    {
     "data": {
      "text/plain": [
       "<matplotlib.axes._subplots.AxesSubplot at 0x1aa3cc795f8>"
      ]
     },
     "execution_count": 21,
     "metadata": {},
     "output_type": "execute_result"
    },
    {
     "data": {
      "text/plain": [
       "Text(0.5,0,'')"
      ]
     },
     "execution_count": 21,
     "metadata": {},
     "output_type": "execute_result"
    },
    {
     "data": {
      "text/plain": [
       "Text(0,0.5,'')"
      ]
     },
     "execution_count": 21,
     "metadata": {},
     "output_type": "execute_result"
    },
    {
     "data": {
      "text/plain": [
       "Text(0.5,1,'Count of rating values')"
      ]
     },
     "execution_count": 21,
     "metadata": {},
     "output_type": "execute_result"
    },
    {
     "data": {
      "image/png": "[encoded data removed]",
      "text/plain": [
       "<matplotlib.figure.Figure at 0x1aa3cc85e80>"
      ]
     },
     "metadata": {},
     "output_type": "display_data"
    }
   ],
   "source": [
    "rating = df_all['rating'].value_counts().sort_values(ascending=False)\n",
    "rating.plot(kind=\"bar\", figsize = (14,6), fontsize = 10,color=\"green\")\n",
    "plt.xlabel(\"\", fontsize = 20)\n",
    "plt.ylabel(\"\", fontsize = 20)\n",
    "plt.title(\"Count of rating values\", fontsize = 20)"
   ]
  },
  {
   "cell_type": "code",
   "execution_count": 22,
   "metadata": {},
   "outputs": [
    {
     "data": {
      "text/plain": [
       "<matplotlib.figure.Figure at 0x1aa3bc8f860>"
      ]
     },
     "execution_count": 22,
     "metadata": {},
     "output_type": "execute_result"
    },
    {
     "data": {
      "text/plain": [
       "<matplotlib.axes._subplots.AxesSubplot at 0x1aa473b8a20>"
      ]
     },
     "execution_count": 22,
     "metadata": {},
     "output_type": "execute_result"
    },
    {
     "data": {
      "text/plain": [
       "(array([0, 1, 2, 3, 4, 5, 6, 7, 8, 9]), <a list of 10 Text xticklabel objects>)"
      ]
     },
     "execution_count": 22,
     "metadata": {},
     "output_type": "execute_result"
    },
    {
     "data": {
      "text/plain": [
       "Text(0.5,0,'year')"
      ]
     },
     "execution_count": 22,
     "metadata": {},
     "output_type": "execute_result"
    },
    {
     "data": {
      "text/plain": [
       "Text(0,0.5,'')"
      ]
     },
     "execution_count": 22,
     "metadata": {},
     "output_type": "execute_result"
    },
    {
     "data": {
      "text/plain": [
       "Text(0.5,1,'Number of reviews in year')"
      ]
     },
     "execution_count": 22,
     "metadata": {},
     "output_type": "execute_result"
    },
    {
     "data": {
      "image/png": "[encoded data removed]",
      "text/plain": [
       "<matplotlib.figure.Figure at 0x1aa3bc8f860>"
      ]
     },
     "metadata": {},
     "output_type": "display_data"
    }
   ],
   "source": [
    "cnt_srs = df_all['date'].dt.year.value_counts()\n",
    "cnt_srs = cnt_srs.sort_index()\n",
    "plt.figure(figsize=(14,6))\n",
    "sns.barplot(cnt_srs.index, cnt_srs.values, alpha=0.8, color='green')\n",
    "plt.xticks(rotation='vertical')\n",
    "plt.xlabel('year', fontsize=12)\n",
    "plt.ylabel('', fontsize=12)\n",
    "plt.title(\"Number of reviews in year\")\n",
    "plt.show()"
   ]
  },
  {
   "cell_type": "code",
   "execution_count": 23,
   "metadata": {},
   "outputs": [
    {
     "data": {
      "text/plain": [
       "<matplotlib.axes._subplots.AxesSubplot at 0x1aa4c1f23c8>"
      ]
     },
     "execution_count": 23,
     "metadata": {},
     "output_type": "execute_result"
    },
    {
     "data": {
      "text/plain": [
       "Text(0.5,0,'')"
      ]
     },
     "execution_count": 23,
     "metadata": {},
     "output_type": "execute_result"
    },
    {
     "data": {
      "text/plain": [
       "Text(0,0.5,'')"
      ]
     },
     "execution_count": 23,
     "metadata": {},
     "output_type": "execute_result"
    },
    {
     "data": {
      "text/plain": [
       "Text(0.5,1,'Mean rating in year')"
      ]
     },
     "execution_count": 23,
     "metadata": {},
     "output_type": "execute_result"
    },
    {
     "data": {
      "image/png": "[encoded data removed]",
      "text/plain": [
       "<matplotlib.figure.Figure at 0x1aa44cc4fd0>"
      ]
     },
     "metadata": {},
     "output_type": "display_data"
    }
   ],
   "source": [
    "df_all['year'] = df_all['date'].dt.year\n",
    "rating = df_all.groupby('year')['rating'].mean()\n",
    "rating.plot(kind=\"bar\", figsize = (14,6), fontsize = 10,color=\"green\")\n",
    "plt.xlabel(\"\", fontsize = 20)\n",
    "plt.ylabel(\"\", fontsize = 20)\n",
    "plt.title(\"Mean rating in year\", fontsize = 20)"
   ]
  },
  {
   "cell_type": "code",
   "execution_count": 24,
   "metadata": {},
   "outputs": [
    {
     "data": {
      "text/plain": [
       "<matplotlib.figure.Figure at 0x1aa3c82b400>"
      ]
     },
     "execution_count": 24,
     "metadata": {},
     "output_type": "execute_result"
    },
    {
     "data": {
      "text/plain": [
       "<matplotlib.axes._subplots.AxesSubplot at 0x1aa4c1e37b8>"
      ]
     },
     "execution_count": 24,
     "metadata": {},
     "output_type": "execute_result"
    },
    {
     "data": {
      "text/plain": [
       "(array([ 0,  1,  2,  3,  4,  5,  6,  7,  8,  9, 10, 11]),\n",
       " <a list of 12 Text xticklabel objects>)"
      ]
     },
     "execution_count": 24,
     "metadata": {},
     "output_type": "execute_result"
    },
    {
     "data": {
      "text/plain": [
       "Text(0.5,0,'month')"
      ]
     },
     "execution_count": 24,
     "metadata": {},
     "output_type": "execute_result"
    },
    {
     "data": {
      "text/plain": [
       "Text(0,0.5,'')"
      ]
     },
     "execution_count": 24,
     "metadata": {},
     "output_type": "execute_result"
    },
    {
     "data": {
      "text/plain": [
       "Text(0.5,1,'Number of reviews in month')"
      ]
     },
     "execution_count": 24,
     "metadata": {},
     "output_type": "execute_result"
    },
    {
     "data": {
      "image/png": "[encoded data removed]",
      "text/plain": [
       "<matplotlib.figure.Figure at 0x1aa3c82b400>"
      ]
     },
     "metadata": {},
     "output_type": "display_data"
    }
   ],
   "source": [
    "cnt_srs = df_all['date'].dt.month.value_counts()\n",
    "cnt_srs = cnt_srs.sort_index()\n",
    "plt.figure(figsize=(14,6))\n",
    "sns.barplot(cnt_srs.index, cnt_srs.values, alpha=0.8, color='green')\n",
    "plt.xticks(rotation='vertical')\n",
    "plt.xlabel('month', fontsize=12)\n",
    "plt.ylabel('', fontsize=12)\n",
    "plt.title(\"Number of reviews in month\")\n",
    "plt.show()"
   ]
  },
  {
   "cell_type": "code",
   "execution_count": 25,
   "metadata": {},
   "outputs": [
    {
     "data": {
      "text/plain": [
       "<matplotlib.axes._subplots.AxesSubplot at 0x1aa4c1e1a90>"
      ]
     },
     "execution_count": 25,
     "metadata": {},
     "output_type": "execute_result"
    },
    {
     "data": {
      "text/plain": [
       "Text(0.5,0,'')"
      ]
     },
     "execution_count": 25,
     "metadata": {},
     "output_type": "execute_result"
    },
    {
     "data": {
      "text/plain": [
       "Text(0,0.5,'')"
      ]
     },
     "execution_count": 25,
     "metadata": {},
     "output_type": "execute_result"
    },
    {
     "data": {
      "text/plain": [
       "Text(0.5,1,'Mean rating in month')"
      ]
     },
     "execution_count": 25,
     "metadata": {},
     "output_type": "execute_result"
    },
    {
     "data": {
      "image/png": "[encoded data removed]",
      "text/plain": [
       "<matplotlib.figure.Figure at 0x1aa3bca8ba8>"
      ]
     },
     "metadata": {},
     "output_type": "display_data"
    }
   ],
   "source": [
    "df_all['month'] = df_all['date'].dt.month\n",
    "rating = df_all.groupby('month')['rating'].mean()\n",
    "rating.plot(kind=\"bar\", figsize = (14,6), fontsize = 10,color=\"green\")\n",
    "plt.xlabel(\"\", fontsize = 20)\n",
    "plt.ylabel(\"\", fontsize = 20)\n",
    "plt.title(\"Mean rating in month\", fontsize = 20)"
   ]
  },
  {
   "cell_type": "code",
   "execution_count": 26,
   "metadata": {},
   "outputs": [
    {
     "data": {
      "text/plain": [
       "<matplotlib.axes._subplots.AxesSubplot at 0x1aa4c2780f0>"
      ]
     },
     "execution_count": 26,
     "metadata": {},
     "output_type": "execute_result"
    },
    {
     "data": {
      "text/plain": [
       "Text(0.5,0,'')"
      ]
     },
     "execution_count": 26,
     "metadata": {},
     "output_type": "execute_result"
    },
    {
     "data": {
      "text/plain": [
       "Text(0,0.5,'')"
      ]
     },
     "execution_count": 26,
     "metadata": {},
     "output_type": "execute_result"
    },
    {
     "data": {
      "text/plain": [
       "Text(0.5,1,'Mean rating in day')"
      ]
     },
     "execution_count": 26,
     "metadata": {},
     "output_type": "execute_result"
    },
    {
     "data": {
      "image/png": "[encoded data removed]",
      "text/plain": [
       "<matplotlib.figure.Figure at 0x1aa485125f8>"
      ]
     },
     "metadata": {},
     "output_type": "display_data"
    }
   ],
   "source": [
    "df_all['day'] = df_all['date'].dt.day\n",
    "rating = df_all.groupby('day')['rating'].mean()\n",
    "rating.plot(kind=\"bar\", figsize = (14,6), fontsize = 10,color=\"green\")\n",
    "plt.xlabel(\"\", fontsize = 20)\n",
    "plt.ylabel(\"\", fontsize = 20)\n",
    "plt.title(\"Mean rating in day\", fontsize = 20)"
   ]
  },
  {
   "cell_type": "code",
   "execution_count": 27,
   "metadata": {},
   "outputs": [
    {
     "data": {
      "text/plain": [
       "<matplotlib.figure.Figure at 0x1aa4abdaf98>"
      ]
     },
     "execution_count": 27,
     "metadata": {},
     "output_type": "execute_result"
    },
    {
     "data": {
      "text/plain": [
       "<matplotlib.axes._subplots.AxesSubplot at 0x1aa3bca8828>"
      ]
     },
     "execution_count": 27,
     "metadata": {},
     "output_type": "execute_result"
    },
    {
     "data": {
      "text/plain": [
       "(array([-200.,    0.,  200.,  400.,  600.,  800., 1000., 1200., 1400.]),\n",
       " <a list of 9 Text xticklabel objects>)"
      ]
     },
     "execution_count": 27,
     "metadata": {},
     "output_type": "execute_result"
    },
    {
     "data": {
      "text/plain": [
       "Text(0.5,0,'')"
      ]
     },
     "execution_count": 27,
     "metadata": {},
     "output_type": "execute_result"
    },
    {
     "data": {
      "text/plain": [
       "Text(0,0.5,'')"
      ]
     },
     "execution_count": 27,
     "metadata": {},
     "output_type": "execute_result"
    },
    {
     "data": {
      "text/plain": [
       "Text(0.5,1,'Distribution of usefulCount')"
      ]
     },
     "execution_count": 27,
     "metadata": {},
     "output_type": "execute_result"
    },
    {
     "data": {
      "image/png": "[encoded data removed]",
      "text/plain": [
       "<matplotlib.figure.Figure at 0x1aa4abdaf98>"
      ]
     },
     "metadata": {},
     "output_type": "display_data"
    }
   ],
   "source": [
    "plt.figure(figsize=(14,6))\n",
    "sns.distplot(df_all[\"usefulCount\"].dropna(),color=\"green\")\n",
    "plt.xticks(rotation='vertical')\n",
    "plt.xlabel('', fontsize=12)\n",
    "plt.ylabel('', fontsize=12)\n",
    "plt.title(\"Distribution of usefulCount\")\n",
    "plt.show()"
   ]
  },
  {
   "cell_type": "code",
   "execution_count": 28,
   "metadata": {},
   "outputs": [
    {
     "data": {
      "text/plain": [
       "count    215063.000000\n",
       "mean     28.001004    \n",
       "std      36.346069    \n",
       "min      0.000000     \n",
       "25%      6.000000     \n",
       "50%      16.000000    \n",
       "75%      36.000000    \n",
       "max      1291.000000  \n",
       "Name: usefulCount, dtype: float64"
      ]
     },
     "execution_count": 28,
     "metadata": {},
     "output_type": "execute_result"
    }
   ],
   "source": [
    "df_all[\"usefulCount\"].describe()"
   ]
  },
  {
   "cell_type": "markdown",
   "metadata": {},
   "source": [
    "## Missing values"
   ]
  },
  {
   "cell_type": "code",
   "execution_count": 29,
   "metadata": {},
   "outputs": [
    {
     "data": {
      "text/plain": [
       "<matplotlib.axes._subplots.AxesSubplot at 0x1aa483aaf98>"
      ]
     },
     "execution_count": 29,
     "metadata": {},
     "output_type": "execute_result"
    },
    {
     "data": {
      "text/plain": [
       "Text(0.5,0,'Columns')"
      ]
     },
     "execution_count": 29,
     "metadata": {},
     "output_type": "execute_result"
    },
    {
     "data": {
      "text/plain": [
       "Text(0,0.5,'')"
      ]
     },
     "execution_count": 29,
     "metadata": {},
     "output_type": "execute_result"
    },
    {
     "data": {
      "text/plain": [
       "Text(0.5,1,'Total Missing Value ')"
      ]
     },
     "execution_count": 29,
     "metadata": {},
     "output_type": "execute_result"
    },
    {
     "data": {
      "image/png": "[encoded data removed]",
      "text/plain": [
       "<matplotlib.figure.Figure at 0x1aa481b1dd8>"
      ]
     },
     "metadata": {},
     "output_type": "display_data"
    }
   ],
   "source": [
    "percent = (df_all.isnull().sum()).sort_values(ascending=False)\n",
    "percent.plot(kind=\"bar\", figsize = (14,6), fontsize = 10, color='green')\n",
    "plt.xlabel(\"Columns\", fontsize = 20)\n",
    "plt.ylabel(\"\", fontsize = 20)\n",
    "plt.title(\"Total Missing Value \", fontsize = 20)"
   ]
  },
  {
   "cell_type": "code",
   "execution_count": 30,
   "metadata": {},
   "outputs": [
    {
     "name": "stdout",
     "output_type": "stream",
     "text": [
      "Missing value (%): 0.5579760349292998\n"
     ]
    }
   ],
   "source": [
    "print(\"Missing value (%):\", 1200/df_all.shape[0] *100)"
   ]
  },
  {
   "cell_type": "markdown",
   "metadata": {},
   "source": [
    "## Data Preprocessing\n",
    "\n",
    "### Removing missing values"
   ]
  },
  {
   "cell_type": "code",
   "execution_count": 31,
   "metadata": {},
   "outputs": [],
   "source": [
    "df_train = df_train.dropna(axis=0)\n",
    "df_test = df_test.dropna(axis=0)"
   ]
  },
  {
   "cell_type": "code",
   "execution_count": 32,
   "metadata": {},
   "outputs": [
    {
     "data": {
      "text/plain": [
       "<matplotlib.axes._subplots.AxesSubplot at 0x1aa481abf98>"
      ]
     },
     "execution_count": 32,
     "metadata": {},
     "output_type": "execute_result"
    },
    {
     "data": {
      "text/plain": [
       "Text(0.5,0,'Columns')"
      ]
     },
     "execution_count": 32,
     "metadata": {},
     "output_type": "execute_result"
    },
    {
     "data": {
      "text/plain": [
       "Text(0,0.5,'')"
      ]
     },
     "execution_count": 32,
     "metadata": {},
     "output_type": "execute_result"
    },
    {
     "data": {
      "text/plain": [
       "Text(0.5,1,'Total Missing Value ')"
      ]
     },
     "execution_count": 32,
     "metadata": {},
     "output_type": "execute_result"
    },
    {
     "data": {
      "image/png": "[encoded data removed]",
      "text/plain": [
       "<matplotlib.figure.Figure at 0x1aa46e14160>"
      ]
     },
     "metadata": {},
     "output_type": "display_data"
    }
   ],
   "source": [
    "df_all = pd.concat([df_train,df_test]).reset_index()\n",
    "del df_all['index']\n",
    "percent = (df_all.isnull().sum()).sort_values(ascending=False)\n",
    "percent.plot(kind=\"bar\", figsize = (14,6), fontsize = 10, color='green')\n",
    "plt.xlabel(\"Columns\", fontsize = 20)\n",
    "plt.ylabel(\"\", fontsize = 20)\n",
    "plt.title(\"Total Missing Value \", fontsize = 20)"
   ]
  },
  {
   "cell_type": "code",
   "execution_count": 33,
   "metadata": {},
   "outputs": [],
   "source": [
    "all_list = set(df_all.index)\n",
    "span_list = []\n",
    "for i,j in enumerate(df_all['condition']):\n",
    "    if '</span>' in j:\n",
    "        span_list.append(i)"
   ]
  },
  {
   "cell_type": "code",
   "execution_count": 34,
   "metadata": {},
   "outputs": [],
   "source": [
    "new_idx = all_list.difference(set(span_list))\n",
    "df_all = df_all.iloc[list(new_idx)].reset_index()\n",
    "del df_all['index']"
   ]
  },
  {
   "cell_type": "code",
   "execution_count": 35,
   "metadata": {},
   "outputs": [
    {
     "data": {
      "text/html": [
       "<div>\n",
       "<style scoped>\n",
       "    .dataframe tbody tr th:only-of-type {\n",
       "        vertical-align: middle;\n",
       "    }\n",
       "\n",
       "    .dataframe tbody tr th {\n",
       "        vertical-align: top;\n",
       "    }\n",
       "\n",
       "    .dataframe thead th {\n",
       "        text-align: right;\n",
       "    }\n",
       "</style>\n",
       "<table border=\"1\" class=\"dataframe\">\n",
       "  <thead>\n",
       "    <tr style=\"text-align: right;\">\n",
       "      <th></th>\n",
       "      <th>condition</th>\n",
       "      <th>drugName</th>\n",
       "    </tr>\n",
       "  </thead>\n",
       "  <tbody>\n",
       "    <tr>\n",
       "      <th>816</th>\n",
       "      <td>Hemangioma</td>\n",
       "      <td>1</td>\n",
       "    </tr>\n",
       "    <tr>\n",
       "      <th>817</th>\n",
       "      <td>Q Feve</td>\n",
       "      <td>1</td>\n",
       "    </tr>\n",
       "    <tr>\n",
       "      <th>818</th>\n",
       "      <td>Urinary Retention</td>\n",
       "      <td>1</td>\n",
       "    </tr>\n",
       "    <tr>\n",
       "      <th>819</th>\n",
       "      <td>Diagnostic Bronchograms</td>\n",
       "      <td>1</td>\n",
       "    </tr>\n",
       "    <tr>\n",
       "      <th>820</th>\n",
       "      <td>Steroid Responsive Inflammatory Conditions</td>\n",
       "      <td>1</td>\n",
       "    </tr>\n",
       "    <tr>\n",
       "      <th>821</th>\n",
       "      <td>Cluster-Tic Syndrome</td>\n",
       "      <td>1</td>\n",
       "    </tr>\n",
       "    <tr>\n",
       "      <th>822</th>\n",
       "      <td>Nausea (phosphorated carbohydrate solution)</td>\n",
       "      <td>1</td>\n",
       "    </tr>\n",
       "    <tr>\n",
       "      <th>823</th>\n",
       "      <td>Ramsay Hunt Syndrome</td>\n",
       "      <td>1</td>\n",
       "    </tr>\n",
       "    <tr>\n",
       "      <th>824</th>\n",
       "      <td>Rat-bite Feve</td>\n",
       "      <td>1</td>\n",
       "    </tr>\n",
       "    <tr>\n",
       "      <th>825</th>\n",
       "      <td>Hemorrhoids (pramoxine / zinc oxide)</td>\n",
       "      <td>1</td>\n",
       "    </tr>\n",
       "    <tr>\n",
       "      <th>826</th>\n",
       "      <td>Myotonia Congenita</td>\n",
       "      <td>1</td>\n",
       "    </tr>\n",
       "    <tr>\n",
       "      <th>827</th>\n",
       "      <td>Sepsis</td>\n",
       "      <td>1</td>\n",
       "    </tr>\n",
       "    <tr>\n",
       "      <th>828</th>\n",
       "      <td>ailure to Thrive</td>\n",
       "      <td>1</td>\n",
       "    </tr>\n",
       "    <tr>\n",
       "      <th>829</th>\n",
       "      <td>Hepatitis B Prevention</td>\n",
       "      <td>1</td>\n",
       "    </tr>\n",
       "    <tr>\n",
       "      <th>830</th>\n",
       "      <td>Transverse Myelitis</td>\n",
       "      <td>1</td>\n",
       "    </tr>\n",
       "    <tr>\n",
       "      <th>831</th>\n",
       "      <td>Tympanostomy Tube Placement Surgery</td>\n",
       "      <td>1</td>\n",
       "    </tr>\n",
       "    <tr>\n",
       "      <th>832</th>\n",
       "      <td>Muscle Twitching</td>\n",
       "      <td>1</td>\n",
       "    </tr>\n",
       "    <tr>\n",
       "      <th>833</th>\n",
       "      <td>Somatoform Pain Disorde</td>\n",
       "      <td>1</td>\n",
       "    </tr>\n",
       "    <tr>\n",
       "      <th>834</th>\n",
       "      <td>acial Lipoatrophy</td>\n",
       "      <td>1</td>\n",
       "    </tr>\n",
       "    <tr>\n",
       "      <th>835</th>\n",
       "      <td>Rabies Prophylaxis</td>\n",
       "      <td>1</td>\n",
       "    </tr>\n",
       "  </tbody>\n",
       "</table>\n",
       "</div>"
      ],
      "text/plain": [
       "                                       condition  drugName\n",
       "816  Hemangioma                                   1       \n",
       "817  Q Feve                                       1       \n",
       "818  Urinary Retention                            1       \n",
       "819  Diagnostic Bronchograms                      1       \n",
       "820  Steroid Responsive Inflammatory Conditions   1       \n",
       "821  Cluster-Tic Syndrome                         1       \n",
       "822  Nausea (phosphorated carbohydrate solution)  1       \n",
       "823  Ramsay Hunt Syndrome                         1       \n",
       "824  Rat-bite Feve                                1       \n",
       "825  Hemorrhoids (pramoxine / zinc oxide)         1       \n",
       "826  Myotonia Congenita                           1       \n",
       "827  Sepsis                                       1       \n",
       "828  ailure to Thrive                             1       \n",
       "829  Hepatitis B Prevention                       1       \n",
       "830  Transverse Myelitis                          1       \n",
       "831  Tympanostomy Tube Placement Surgery          1       \n",
       "832  Muscle Twitching                             1       \n",
       "833  Somatoform Pain Disorde                      1       \n",
       "834  acial Lipoatrophy                            1       \n",
       "835  Rabies Prophylaxis                           1       "
      ]
     },
     "execution_count": 35,
     "metadata": {},
     "output_type": "execute_result"
    }
   ],
   "source": [
    "df_condition = df_all.groupby(['condition'])['drugName'].nunique().sort_values(ascending=False)\n",
    "df_condition = pd.DataFrame(df_condition).reset_index()\n",
    "df_condition.tail(20)"
   ]
  },
  {
   "cell_type": "code",
   "execution_count": 36,
   "metadata": {},
   "outputs": [
    {
     "data": {
      "text/plain": [
       "0    Uveitis, Posteri                       \n",
       "1    Pseudogout, Prophylaxis                \n",
       "2    Infectious Diarrhea                    \n",
       "3    Thyroid Suppression Test               \n",
       "4    Angioedema                             \n",
       "5    Scleroderma                            \n",
       "6    mis                                    \n",
       "7    Anti NMDA Receptor Encephalitis        \n",
       "8    mist (                                 \n",
       "9    Pruritus of Partial Biliary Obstruction\n",
       "Name: condition, dtype: object"
      ]
     },
     "execution_count": 36,
     "metadata": {},
     "output_type": "execute_result"
    }
   ],
   "source": [
    "df_condition_1 = df_condition[df_condition['drugName']==1].reset_index()\n",
    "df_condition_1['condition'][0:10]"
   ]
  },
  {
   "cell_type": "code",
   "execution_count": 37,
   "metadata": {},
   "outputs": [],
   "source": [
    "all_list = set(df_all.index)\n",
    "condition_list = []\n",
    "for i,j in enumerate(df_all['condition']):\n",
    "    for c in list(df_condition_1['condition']):\n",
    "        if j == c:\n",
    "            condition_list.append(i)\n",
    "            \n",
    "new_idx = all_list.difference(set(condition_list))\n",
    "df_all = df_all.iloc[list(new_idx)].reset_index()\n",
    "del df_all['index']"
   ]
  },
  {
   "cell_type": "code",
   "execution_count": 38,
   "metadata": {},
   "outputs": [],
   "source": [
    "from bs4 import BeautifulSoup\n",
    "import nltk\n",
    "from nltk.corpus import stopwords\n",
    "from nltk.stem.snowball import SnowballStemmer"
   ]
  },
  {
   "cell_type": "code",
   "execution_count": 39,
   "metadata": {},
   "outputs": [],
   "source": [
    "stops = set(stopwords.words('english'))"
   ]
  },
  {
   "cell_type": "code",
   "execution_count": 40,
   "metadata": {},
   "outputs": [],
   "source": [
    "not_stop = [\"aren't\",\"couldn't\",\"didn't\",\"doesn't\",\"don't\",\"hadn't\",\"hasn't\",\"haven't\",\"isn't\",\"mightn't\",\"mustn't\",\"needn't\",\"no\",\"nor\",\"not\",\"shan't\",\"shouldn't\",\"wasn't\",\"weren't\",\"wouldn't\"]\n",
    "for i in not_stop:\n",
    "    stops.remove(i)"
   ]
  },
  {
   "cell_type": "code",
   "execution_count": 41,
   "metadata": {},
   "outputs": [],
   "source": [
    "stemmer = SnowballStemmer('english')\n",
    "\n",
    "def review_to_words(raw_review):\n",
    "    # 1. Delete HTML \n",
    "    review_text = BeautifulSoup(raw_review, 'html.parser').get_text()\n",
    "    # 2. Make a space\n",
    "    letters_only = re.sub('[^a-zA-Z]', ' ', review_text)\n",
    "    # 3. lower letters\n",
    "    words = letters_only.lower().split()\n",
    "    # 5. Stopwords \n",
    "    meaningful_words = [w for w in words if not w in stops]\n",
    "    # 6. Stemming\n",
    "    stemming_words = [stemmer.stem(w) for w in meaningful_words]\n",
    "    # 7. space join words\n",
    "    return( ' '.join(stemming_words))"
   ]
  },
  {
   "cell_type": "code",
   "execution_count": 42,
   "metadata": {},
   "outputs": [],
   "source": [
    "df_all['review_clean'] = df_all['review'].apply(review_to_words)"
   ]
  },
  {
   "cell_type": "markdown",
   "metadata": {},
   "source": [
    "# Model"
   ]
  },
  {
   "cell_type": "code",
   "execution_count": 43,
   "metadata": {},
   "outputs": [],
   "source": [
    "df_all['sentiment'] = df_all[\"rating\"].apply(lambda x: 1 if x > 5 else 0)"
   ]
  },
  {
   "cell_type": "code",
   "execution_count": 44,
   "metadata": {},
   "outputs": [
    {
     "data": {
      "text/html": [
       "<div>\n",
       "<style scoped>\n",
       "    .dataframe tbody tr th:only-of-type {\n",
       "        vertical-align: middle;\n",
       "    }\n",
       "\n",
       "    .dataframe tbody tr th {\n",
       "        vertical-align: top;\n",
       "    }\n",
       "\n",
       "    .dataframe thead th {\n",
       "        text-align: right;\n",
       "    }\n",
       "</style>\n",
       "<table border=\"1\" class=\"dataframe\">\n",
       "  <thead>\n",
       "    <tr style=\"text-align: right;\">\n",
       "      <th></th>\n",
       "      <th>uniqueID</th>\n",
       "      <th>drugName</th>\n",
       "      <th>condition</th>\n",
       "      <th>review</th>\n",
       "      <th>rating</th>\n",
       "      <th>date</th>\n",
       "      <th>usefulCount</th>\n",
       "      <th>review_clean</th>\n",
       "      <th>sentiment</th>\n",
       "    </tr>\n",
       "  </thead>\n",
       "  <tbody>\n",
       "    <tr>\n",
       "      <th>0</th>\n",
       "      <td>206461</td>\n",
       "      <td>Valsartan</td>\n",
       "      <td>Left Ventricular Dysfunction</td>\n",
       "      <td>\"It has no side effect, I take it in combination of Bystolic 5 Mg and Fish Oil\"</td>\n",
       "      <td>9</td>\n",
       "      <td>2012-05-20</td>\n",
       "      <td>27</td>\n",
       "      <td>no side effect take combin bystol mg fish oil</td>\n",
       "      <td>1</td>\n",
       "    </tr>\n",
       "    <tr>\n",
       "      <th>1</th>\n",
       "      <td>95260</td>\n",
       "      <td>Guanfacine</td>\n",
       "      <td>ADHD</td>\n",
       "      <td>\"My son is halfway through his fourth week of Intuniv. We became concerned when he began this last week, when he started taking the highest dose he will be on. For two days, he could hardly get out of bed, was very cranky, and slept for nearly 8 hours on a drive home from school vacation (very unusual for him.) I called his doctor on Monday morning and she said to stick it out a few days. See how he did at school, and with getting up in the morning. The last two days have been problem free. He is MUCH more agreeable than ever. He is less emotional (a good thing), less cranky. He is remembering all the things he should. Overall his behavior is better. \\r\\nWe have tried many different medications and so far this is the most effective.\"</td>\n",
       "      <td>8</td>\n",
       "      <td>2010-04-27</td>\n",
       "      <td>192</td>\n",
       "      <td>son halfway fourth week intuniv becam concern began last week start take highest dose two day could hard get bed cranki slept near hour drive home school vacat unusu call doctor monday morn said stick day see school get morn last two day problem free much agreeabl ever less emot good thing less cranki rememb thing overal behavior better tri mani differ medic far effect</td>\n",
       "      <td>1</td>\n",
       "    </tr>\n",
       "    <tr>\n",
       "      <th>2</th>\n",
       "      <td>92703</td>\n",
       "      <td>Lybrel</td>\n",
       "      <td>Birth Control</td>\n",
       "      <td>\"I used to take another oral contraceptive, which had 21 pill cycle, and was very happy- very light periods, max 5 days, no other side effects. But it contained hormone gestodene, which is not available in US, so I switched to Lybrel, because the ingredients are similar. When my other pills ended, I started Lybrel immediately, on my first day of period, as the instructions said. And the period lasted for two weeks. When taking the second pack- same two weeks. And now, with third pack things got even worse- my third period lasted for two weeks and now it&amp;#039;s the end of the third week- I still have daily brown discharge.\\r\\nThe positive side is that I didn&amp;#039;t have any other side effects. The idea of being period free was so tempting... Alas.\"</td>\n",
       "      <td>5</td>\n",
       "      <td>2009-12-14</td>\n",
       "      <td>17</td>\n",
       "      <td>use take anoth oral contracept pill cycl happi light period max day no side effect contain hormon gestoden not avail us switch lybrel ingredi similar pill end start lybrel immedi first day period instruct said period last two week take second pack two week third pack thing got even wors third period last two week end third week still daili brown discharg posit side side effect idea period free tempt ala</td>\n",
       "      <td>0</td>\n",
       "    </tr>\n",
       "    <tr>\n",
       "      <th>3</th>\n",
       "      <td>138000</td>\n",
       "      <td>Ortho Evra</td>\n",
       "      <td>Birth Control</td>\n",
       "      <td>\"This is my first time using any form of birth control. I&amp;#039;m glad I went with the patch, I have been on it for 8 months. At first It decreased my libido but that subsided. The only downside is that it made my periods longer (5-6 days to be exact) I used to only have periods for 3-4 days max also made my cramps intense for the first two days of my period, I never had cramps before using birth control. Other than that in happy with the patch\"</td>\n",
       "      <td>8</td>\n",
       "      <td>2015-11-03</td>\n",
       "      <td>10</td>\n",
       "      <td>first time use form birth control glad went patch month first decreas libido subsid downsid made period longer day exact use period day max also made cramp intens first two day period never cramp use birth control happi patch</td>\n",
       "      <td>1</td>\n",
       "    </tr>\n",
       "    <tr>\n",
       "      <th>4</th>\n",
       "      <td>35696</td>\n",
       "      <td>Buprenorphine / naloxone</td>\n",
       "      <td>Opiate Dependence</td>\n",
       "      <td>\"Suboxone has completely turned my life around.  I feel healthier, I&amp;#039;m excelling at my job and I always have money in my pocket and my savings account.  I had none of those before Suboxone and spent years abusing oxycontin.  My paycheck was already spent by the time I got it and I started resorting to scheming and stealing to fund my addiction.  All that is history.  If you&amp;#039;re ready to stop, there&amp;#039;s a good chance that suboxone will put you on the path of great life again.  I have found the side-effects to be minimal compared to oxycontin.  I&amp;#039;m actually sleeping better.   Slight constipation is about it for me.  It truly is amazing. The cost pales in comparison to what I spent on oxycontin.\"</td>\n",
       "      <td>9</td>\n",
       "      <td>2016-11-27</td>\n",
       "      <td>37</td>\n",
       "      <td>suboxon complet turn life around feel healthier excel job alway money pocket save account none suboxon spent year abus oxycontin paycheck alreadi spent time got start resort scheme steal fund addict histori readi stop good chanc suboxon put path great life found side effect minim compar oxycontin actual sleep better slight constip truli amaz cost pale comparison spent oxycontin</td>\n",
       "      <td>1</td>\n",
       "    </tr>\n",
       "    <tr>\n",
       "      <th>5</th>\n",
       "      <td>155963</td>\n",
       "      <td>Cialis</td>\n",
       "      <td>Benign Prostatic Hyperplasia</td>\n",
       "      <td>\"2nd day on 5mg started to work with rock hard erections however experianced headache, lower bowel preassure. 3rd day erections would wake me up &amp;amp; hurt! Leg/ankles aches   severe lower bowel preassure like you need to go #2 but can&amp;#039;t! Enjoyed the initial rockhard erections but not at these side effects or $230 for months supply! I&amp;#039;m 50 &amp;amp; work out 3Xs a week. Not worth side effects!\"</td>\n",
       "      <td>2</td>\n",
       "      <td>2015-11-28</td>\n",
       "      <td>43</td>\n",
       "      <td>nd day mg start work rock hard erect howev experianc headach lower bowel preassur rd day erect would wake hurt leg ankl ach sever lower bowel preassur like need go enjoy initi rockhard erect not side effect month suppli work xs week not worth side effect</td>\n",
       "      <td>0</td>\n",
       "    </tr>\n",
       "    <tr>\n",
       "      <th>6</th>\n",
       "      <td>165907</td>\n",
       "      <td>Levonorgestrel</td>\n",
       "      <td>Emergency Contraception</td>\n",
       "      <td>\"He pulled out, but he cummed a bit in me. I took the Plan B 26 hours later, and took a pregnancy test two weeks later - - I&amp;#039;m pregnant.\"</td>\n",
       "      <td>1</td>\n",
       "      <td>2017-03-07</td>\n",
       "      <td>5</td>\n",
       "      <td>pull cum bit took plan b hour later took pregnanc test two week later pregnant</td>\n",
       "      <td>0</td>\n",
       "    </tr>\n",
       "    <tr>\n",
       "      <th>7</th>\n",
       "      <td>102654</td>\n",
       "      <td>Aripiprazole</td>\n",
       "      <td>Bipolar Disorde</td>\n",
       "      <td>\"Abilify changed my life. There is hope. I was on Zoloft and Clonidine when I first started Abilify at the age of 15.. Zoloft for depression and Clondine to manage my complete rage. My moods were out of control. I was depressed and hopeless one second and then mean, irrational, and full of rage the next. My Dr. prescribed me 2mg of Abilify and from that point on I feel like I have been cured though I know I&amp;#039;m not.. Bi-polar disorder is a constant battle. I know Abilify works for me because I have tried to get off it and lost complete control over my emotions. Went back on it and I was golden again.  I am on 5mg 2x daily. I am now 21 and better than I have ever been in the past. Only side effect is I like to eat a lot.\"</td>\n",
       "      <td>10</td>\n",
       "      <td>2015-03-14</td>\n",
       "      <td>32</td>\n",
       "      <td>abilifi chang life hope zoloft clonidin first start abilifi age zoloft depress clondin manag complet rage mood control depress hopeless one second mean irrat full rage next dr prescrib mg abilifi point feel like cure though know not bi polar disord constant battl know abilifi work tri get lost complet control emot went back golden mg x daili better ever past side effect like eat lot</td>\n",
       "      <td>1</td>\n",
       "    </tr>\n",
       "    <tr>\n",
       "      <th>8</th>\n",
       "      <td>74811</td>\n",
       "      <td>Keppra</td>\n",
       "      <td>Epilepsy</td>\n",
       "      <td>\" I Ve had  nothing but problems with the Keppera : constant shaking in my arms &amp;amp; legs &amp;amp; pins &amp;amp; needles feeling in my arms &amp;amp; legs severe light headedness no appetite &amp;amp; etc.\"</td>\n",
       "      <td>1</td>\n",
       "      <td>2016-08-09</td>\n",
       "      <td>11</td>\n",
       "      <td>noth problem keppera constant shake arm leg pin needl feel arm leg sever light headed no appetit etc</td>\n",
       "      <td>0</td>\n",
       "    </tr>\n",
       "    <tr>\n",
       "      <th>9</th>\n",
       "      <td>48928</td>\n",
       "      <td>Ethinyl estradiol / levonorgestrel</td>\n",
       "      <td>Birth Control</td>\n",
       "      <td>\"I had been on the pill for many years. When my doctor changed my RX to chateal, it was as effective. It really did help me by completely clearing my acne, this takes about 6 months though. I did not gain extra weight, or develop any emotional health issues. I stopped taking it bc I started using a more natural method of birth control, but started to take it bc I hate that my acne came back at age 28. I really hope symptoms like depression, or weight gain do not begin to affect me as I am older now. I&amp;#039;m also naturally moody, so this may worsen things. I was in a negative mental rut today. Also I hope this doesn&amp;#039;t push me over the edge, as I believe I am depressed. Hopefully it&amp;#039;ll be just like when I was younger.\"</td>\n",
       "      <td>8</td>\n",
       "      <td>2016-12-08</td>\n",
       "      <td>1</td>\n",
       "      <td>pill mani year doctor chang rx chateal effect realli help complet clear acn take month though not gain extra weight develop emot health issu stop take bc start use natur method birth control start take bc hate acn came back age realli hope symptom like depress weight gain not begin affect older also natur moodi may worsen thing negat mental rut today also hope push edg believ depress hope like younger</td>\n",
       "      <td>1</td>\n",
       "    </tr>\n",
       "    <tr>\n",
       "      <th>10</th>\n",
       "      <td>29607</td>\n",
       "      <td>Topiramate</td>\n",
       "      <td>Migraine Prevention</td>\n",
       "      <td>\"I have been on this medication almost two weeks, started out on 25mg and working my way up to 100mg, currently at 50mg. No headaches at all so far and I was having 2-3 crippling migraines a week. I have lost 5.2lbs so far but note I am really paying close attention to what I am eating, I have a lot of weight to lose and if weight loss is a side effect I want to help it along as much as I can.  Now, other side effects, they are there the word recall issues exist, the memory issues, the worst of it seems to be the vision disturbances, there have been times I have just not driven because I&amp;#039;m sure it would not have been safe. The good news is it seems to be wearing off...I have tons of energy and I am in a great mood.\"</td>\n",
       "      <td>9</td>\n",
       "      <td>2015-01-01</td>\n",
       "      <td>19</td>\n",
       "      <td>medic almost two week start mg work way mg current mg no headach far crippl migrain week lost lbs far note realli pay close attent eat lot weight lose weight loss side effect want help along much side effect word recal issu exist memori issu worst seem vision disturb time not driven sure would not safe good news seem wear ton energi great mood</td>\n",
       "      <td>1</td>\n",
       "    </tr>\n",
       "    <tr>\n",
       "      <th>11</th>\n",
       "      <td>75612</td>\n",
       "      <td>L-methylfolate</td>\n",
       "      <td>Depression</td>\n",
       "      <td>\"I have taken anti-depressants for years, with some improvement but mostly moderate to severe side affects, which makes me go off them.\\r\\n\\r\\nI only take Cymbalta now mostly for pain.\\r\\n\\r\\nWhen I began Deplin, I noticed a major improvement overnight. More energy, better disposition, and no sinking to the low lows of major depression. I have been taking it for about 3 months now and feel like a normal person for the first time ever. Best thing, no side effects.\"</td>\n",
       "      <td>10</td>\n",
       "      <td>2017-03-09</td>\n",
       "      <td>54</td>\n",
       "      <td>taken anti depress year improv most moder sever side affect make go take cymbalta most pain began deplin notic major improv overnight energi better disposit no sink low low major depress take month feel like normal person first time ever best thing no side effect</td>\n",
       "      <td>1</td>\n",
       "    </tr>\n",
       "    <tr>\n",
       "      <th>12</th>\n",
       "      <td>191290</td>\n",
       "      <td>Pentasa</td>\n",
       "      <td>Crohn's Disease</td>\n",
       "      <td>\"I had Crohn&amp;#039;s with a resection 30 years ago and have been mostly in remission since.  Have recently had a bad flare and narrowing at the anastomosis and need to be on medication, but haven&amp;#039;t found one that I can handle.  Asacol gave me such serious body aching and fatigue that I could not function.  Pentasa immediately gave me heart palpitations and arrhythmias so I had to discontinue it.\"</td>\n",
       "      <td>4</td>\n",
       "      <td>2013-07-06</td>\n",
       "      <td>8</td>\n",
       "      <td>crohn resect year ago most remiss sinc recent bad flare narrow anastomosi need medic found one handl asacol gave serious bodi ach fatigu could not function pentasa immedi gave heart palpit arrhythmia discontinu</td>\n",
       "      <td>0</td>\n",
       "    </tr>\n",
       "    <tr>\n",
       "      <th>13</th>\n",
       "      <td>221320</td>\n",
       "      <td>Dextromethorphan</td>\n",
       "      <td>Cough</td>\n",
       "      <td>\"Have a little bit of a lingering cough from a cold. Not giving me much trouble except keeps me up at night. I heard this was good so I took so I could get some sleep. Helped tremendously with the cough but then I was having bad stomach cramps and diarrhea. I hadn&amp;#039;t eaten anything that should have upset my stomach and it didn&amp;#039;t really feel like a &amp;quot;bug&amp;quot; so I looked up side effects for Delsym.  Now I wish I had done that first because I probably wouldn&amp;#039;t have taken it. So, while it worked for my cough I still didn&amp;#039;t get any sleep due to the stomach issues.\"</td>\n",
       "      <td>4</td>\n",
       "      <td>2017-09-07</td>\n",
       "      <td>1</td>\n",
       "      <td>littl bit linger cough cold not give much troubl except keep night heard good took could get sleep help tremend cough bad stomach cramp diarrhea eaten anyth upset stomach realli feel like bug look side effect delsym wish done first probabl taken work cough still get sleep due stomach issu</td>\n",
       "      <td>0</td>\n",
       "    </tr>\n",
       "    <tr>\n",
       "      <th>14</th>\n",
       "      <td>98494</td>\n",
       "      <td>Nexplanon</td>\n",
       "      <td>Birth Control</td>\n",
       "      <td>\"Started Nexplanon 2 months ago because I have a minimal amount of contraception&amp;#039;s I can take due to my inability to take the hormone that is used in most birth controls. I&amp;#039;m trying to give it time because it is one of my only options right now. But honestly if I had options I&amp;#039;d get it removed.\\r\\nI&amp;#039;ve never had acne problems in my life, and immediately broke out after getting it implanted. Sex drive is completely gone, and I used to have sex with my boyfriend a few days a week, now its completely forced and not even fun for me anymore. I mean I&amp;#039;m on birth control because I like having sex but don&amp;#039;t want to get pregnant, why take a birth control that takes away sex? Very unhappy and hope that I get it back with time or I&amp;#039;m getting it removed.\"</td>\n",
       "      <td>3</td>\n",
       "      <td>2014-08-07</td>\n",
       "      <td>10</td>\n",
       "      <td>start nexplanon month ago minim amount contracept take due inabl take hormon use birth control tri give time one option right honest option get remov never acn problem life immedi broke get implant sex drive complet gone use sex boyfriend day week complet forc not even fun anymor mean birth control like sex want get pregnant take birth control take away sex unhappi hope get back time get remov</td>\n",
       "      <td>0</td>\n",
       "    </tr>\n",
       "    <tr>\n",
       "      <th>15</th>\n",
       "      <td>81890</td>\n",
       "      <td>Liraglutide</td>\n",
       "      <td>Obesity</td>\n",
       "      <td>\"I have been taking Saxenda since July 2016.  I had severe nausea for about a month once I got up to the 2.6 dosage.  It has since subsided and the only side effect I notice now is the dry mouth.  I make sure to drink  2.5 litres of water a day (about 10 glasses).  This helps with the weight loss as well as the constipation.  I have been reducing my dose to find a comfortable spot where I am still losing weight but don&amp;#039;t feel like I am over medicating.  For me, 1.8 is working very well.  I also feel wearing a Fitbit has really helped.  I can track my food, water, exercise and steps - it keeps me moving more.  When this started I could barely walk the length of myself without getting winded - I have lost 58 lbs so far.\"</td>\n",
       "      <td>9</td>\n",
       "      <td>2017-01-19</td>\n",
       "      <td>20</td>\n",
       "      <td>take saxenda sinc juli sever nausea month got dosag sinc subsid side effect notic dri mouth make sure drink litr water day glass help weight loss well constip reduc dose find comfort spot still lose weight feel like medic work well also feel wear fitbit realli help track food water exercis step keep move start could bare walk length without get wind lost lbs far</td>\n",
       "      <td>1</td>\n",
       "    </tr>\n",
       "    <tr>\n",
       "      <th>16</th>\n",
       "      <td>48188</td>\n",
       "      <td>Trimethoprim</td>\n",
       "      <td>Urinary Tract Infection</td>\n",
       "      <td>\"This drug worked very well for me and cleared up my UTI in a matter of 48hrs, although I was on a 7 day course of 2x200mg/daily. Unfortunately once the tablets finished the infection returned so needed a 2nd course. I&amp;#039;m currently taking a low dose at evening to keep the infection at bay while the specialists do some tests.  I normally get every side effect going and dread taking new medication in any form especially after an horrific experience with Ciorofloxacin but the only side effect I experienced with this was itchy ankles and feet on day two but that didn&amp;#039;t last into third day so I would class this as a minor side effect and insignificant. Good luck.\"</td>\n",
       "      <td>9</td>\n",
       "      <td>2017-09-22</td>\n",
       "      <td>0</td>\n",
       "      <td>drug work well clear uti matter hrs although day cours x mg daili unfortun tablet finish infect return need nd cours current take low dose even keep infect bay specialist test normal get everi side effect go dread take new medic form especi horrif experi ciorofloxacin side effect experienc itchi ankl feet day two last third day would class minor side effect insignific good luck</td>\n",
       "      <td>1</td>\n",
       "    </tr>\n",
       "    <tr>\n",
       "      <th>17</th>\n",
       "      <td>219869</td>\n",
       "      <td>Amitriptyline</td>\n",
       "      <td>ibromyalgia</td>\n",
       "      <td>\"I&amp;#039;ve been taking amitriptyline since January 2013 after being diagnosed with fibromyalgia. I tried cymbalta for a week and my Dr decided that since it kept me awake 24/7 that it wasn&amp;#039;t a good fit for me even though it relieved my pain. I started with 25 mg. After 2 weeks I had some breakthrough pain, so my Dr increased my dosage to 50mg and I&amp;#039;m still on that dosage today. For the first full year I was on this I never had pain and felt &amp;#039;cured&amp;#039;. As time went on, it seems to help control my pain. I do still have pain, but at a low manageable level. I take this around 7pm each evening to avoid feeling overly drowsy in the mornings. This med allows me to have a fairly normal life.\"</td>\n",
       "      <td>9</td>\n",
       "      <td>2017-03-15</td>\n",
       "      <td>39</td>\n",
       "      <td>take amitriptylin sinc januari diagnos fibromyalgia tri cymbalta week dr decid sinc kept awak good fit even though reliev pain start mg week breakthrough pain dr increas dosag mg still dosag today first full year never pain felt cure time went seem help control pain still pain low manag level take around pm even avoid feel over drowsi morn med allow fair normal life</td>\n",
       "      <td>1</td>\n",
       "    </tr>\n",
       "    <tr>\n",
       "      <th>18</th>\n",
       "      <td>212077</td>\n",
       "      <td>Lamotrigine</td>\n",
       "      <td>Bipolar Disorde</td>\n",
       "      <td>\"I&amp;#039;ve been on every medicine under the sun (it seems) to manage the hypomania / mania of Bipolar2. Within a few days of starting Lamictal (was on Tegretol) it was as if someone had turned a light on in my head. Is this the way &amp;quot;normal&amp;quot; people think? was one of the first things that struck me. I sleep like a log, have no irritability, almost no anger (other than what would be considered normal). I am able to focus and my creative, impulsive thoughts have decreased enough to be manageable. It&amp;#039;s a God send as I would perennially be in a state of hypo mania, which sounds great, but I was physically and emotionally exhausted. My libido is markedly lower but I wonder if that is perhaps an effect of not being hypo manic. I take 20 mg for anxiety.\"</td>\n",
       "      <td>10</td>\n",
       "      <td>2014-11-09</td>\n",
       "      <td>18</td>\n",
       "      <td>everi medicin sun seem manag hypomania mania bipolar within day start lamict tegretol someon turn light head way normal peopl think one first thing struck sleep like log no irrit almost no anger would consid normal abl focus creativ impuls thought decreas enough manag god send would perenni state hypo mania sound great physic emot exhaust libido mark lower wonder perhap effect not hypo manic take mg anxieti</td>\n",
       "      <td>1</td>\n",
       "    </tr>\n",
       "    <tr>\n",
       "      <th>19</th>\n",
       "      <td>119705</td>\n",
       "      <td>Nilotinib</td>\n",
       "      <td>Chronic Myelogenous Leukemia</td>\n",
       "      <td>\"I have been on Tasigna for just over 3 years now (300mg x 2 times a day) Tasigna worked for me within a few weeks I have been in remission for basically the entire 3 years. As for the side effects, I feel sick to my stomach, tired,  severe leg and arm pain, I can&amp;#039;t walk to long without needing a break, I went from working full time to not working at all because I am so tired all the time.... but hey I am in remission and alive so is all the above really a problem? Nope\"</td>\n",
       "      <td>10</td>\n",
       "      <td>2015-09-01</td>\n",
       "      <td>11</td>\n",
       "      <td>tasigna year mg x time day tasigna work within week remiss basic entir year side effect feel sick stomach tire sever leg arm pain walk long without need break went work full time not work tire time hey remiss aliv realli problem nope</td>\n",
       "      <td>1</td>\n",
       "    </tr>\n",
       "    <tr>\n",
       "      <th>20</th>\n",
       "      <td>12372</td>\n",
       "      <td>Atripla</td>\n",
       "      <td>HIV Infection</td>\n",
       "      <td>\"Spring of 2008 I was hospitalized with pnuemonia and diagnosed with Lyme diease and full blown AIDS with CD4 count of &amp;quot;11&amp;quot; viral load some number so high in the millions I could never remember. I was taking Combivir and Kaletra with Dapsone for the 1st year then it stopped working. I started Kaletra with the Dapsone my CD4 count is now 209 and rising. For a few weeks I was very aggressive and broke all my dishes in the house LOL. I take vitamin supplements and drink a boost pluz every day. LIfe is good now!\"</td>\n",
       "      <td>8</td>\n",
       "      <td>2010-07-09</td>\n",
       "      <td>11</td>\n",
       "      <td>spring hospit pnuemonia diagnos lyme dieas full blown aid cd count viral load number high million could never rememb take combivir kaletra dapson st year stop work start kaletra dapson cd count rise week aggress broke dish hous lol take vitamin supplement drink boost pluz everi day life good</td>\n",
       "      <td>1</td>\n",
       "    </tr>\n",
       "    <tr>\n",
       "      <th>21</th>\n",
       "      <td>231466</td>\n",
       "      <td>Trazodone</td>\n",
       "      <td>Insomnia</td>\n",
       "      <td>\"I have insomnia, it&amp;#039;s horrible. My story begins with my PCP prescribing me Prozac to help with intestinal issues, because I was desperate I tried it, I was on it for 3 weeks. Stopped because of insomnia. Then I was prescribed Ativan, it out me out, but was very addicting. I had rebound insomnia. Then after about 14 days I hardly any sleep l tried the doctor one more time. I asked him about Trazadone. He told me that was a good medication for insomnia. He put me on 25 mgs, but stated I may have to figure out what dosage is best for me. I am currently taking 100 mgs, which is on the low range of what is prescribed, 400 mgs being at the high end for insomnia. I have the dry mouth and nasel congestion. I can live with that, I sleep now, yeah...\"</td>\n",
       "      <td>10</td>\n",
       "      <td>2016-04-03</td>\n",
       "      <td>43</td>\n",
       "      <td>insomnia horribl stori begin pcp prescrib prozac help intestin issu desper tri week stop insomnia prescrib ativan addict rebound insomnia day hard sleep l tri doctor one time ask trazadon told good medic insomnia put mgs state may figur dosag best current take mgs low rang prescrib mgs high end insomnia dri mouth nasel congest live sleep yeah</td>\n",
       "      <td>1</td>\n",
       "    </tr>\n",
       "    <tr>\n",
       "      <th>22</th>\n",
       "      <td>227020</td>\n",
       "      <td>Etonogestrel</td>\n",
       "      <td>Birth Control</td>\n",
       "      <td>\"Nexplanon does its job. I can have worry free sex. The only thing is that my periods are sometimes light and sometimes heavy. Sometimes they go away and sometimes they show up unexpected. I also feel somewhat depressed. Not sure if its Nexplanon or not. I&amp;#039;ve had Nexplanont for about 2 months now, but despite the side effects its the most effective birth control I&amp;#039;ve ever used and I do not plan on taking it out.\"</td>\n",
       "      <td>9</td>\n",
       "      <td>2014-08-11</td>\n",
       "      <td>11</td>\n",
       "      <td>nexplanon job worri free sex thing period sometim light sometim heavi sometim go away sometim show unexpect also feel somewhat depress not sure nexplanon not nexplanont month despit side effect effect birth control ever use not plan take</td>\n",
       "      <td>1</td>\n",
       "    </tr>\n",
       "    <tr>\n",
       "      <th>23</th>\n",
       "      <td>41928</td>\n",
       "      <td>Etanercept</td>\n",
       "      <td>Rheumatoid Arthritis</td>\n",
       "      <td>\"I live in Western Australia and disturbed by some comments on here. The cost of Embrel is cost of an ordinary prescription $36 for me the government pays the remainder of the cost to the chemist. I also go to the the medical centre every Saturday morning a Dr looks over my prescription and then he advises the nurse to administer the injection also no cost to myself and this is part of nurses duties. I am unsure of the country where people who have made comments referring to cost and that nobody is there to  administer the injection for them. I am very lucky to live in Australia as we have the best health system worldwide and everybody is  given the opportunity to receive proper medical help whether you are rich or poor there is no discrimination.\"</td>\n",
       "      <td>10</td>\n",
       "      <td>2017-09-16</td>\n",
       "      <td>4</td>\n",
       "      <td>live western australia disturb comment cost embrel cost ordinari prescript govern pay remaind cost chemist also go medic centr everi saturday morn dr look prescript advis nurs administ inject also no cost part nurs duti unsur countri peopl made comment refer cost nobodi administ inject lucki live australia best health system worldwid everybodi given opportun receiv proper medic help whether rich poor no discrimin</td>\n",
       "      <td>1</td>\n",
       "    </tr>\n",
       "    <tr>\n",
       "      <th>24</th>\n",
       "      <td>213649</td>\n",
       "      <td>Tioconazole</td>\n",
       "      <td>Vaginal Yeast Infection</td>\n",
       "      <td>\"Do not use the cream that comes with this. It turned my hoo-ha into a burning ring of fire. It is 1 am and I have to work tomorrow. It&amp;#039;s going to be a sleepless night for me\"</td>\n",
       "      <td>1</td>\n",
       "      <td>2017-04-17</td>\n",
       "      <td>7</td>\n",
       "      <td>not use cream come turn hoo ha burn ring fire work tomorrow go sleepless night</td>\n",
       "      <td>0</td>\n",
       "    </tr>\n",
       "    <tr>\n",
       "      <th>25</th>\n",
       "      <td>51215</td>\n",
       "      <td>Azithromycin</td>\n",
       "      <td>Chlamydia Infection</td>\n",
       "      <td>\"Was prescribed one dose over the course of one day, took 4 pills of 250mg after a light lunch, and had nausea and mild stomach pains/upset. Lying down did not alleviate the discomfort and threw up 3 hours later. Called up my doctor to check if I needed to take another dose but he said my body would have absorbed the pills by then. Still experiencing mild stomach pains but nausea is mostly gone now.\"</td>\n",
       "      <td>7</td>\n",
       "      <td>2015-12-14</td>\n",
       "      <td>7</td>\n",
       "      <td>prescrib one dose cours one day took pill mg light lunch nausea mild stomach pain upset lie not allevi discomfort threw hour later call doctor check need take anoth dose said bodi would absorb pill still experienc mild stomach pain nausea most gone</td>\n",
       "      <td>1</td>\n",
       "    </tr>\n",
       "    <tr>\n",
       "      <th>26</th>\n",
       "      <td>206180</td>\n",
       "      <td>Eflornithine</td>\n",
       "      <td>Hirsutism</td>\n",
       "      <td>\"I&amp;#039;m writing a second review on Vaniqa.  I started using this in February this year. Twice a day although some days/times I do forget. I just want to say how delighted I am to have found this. It has totally and completely changed my life! I had terrible male pattern hair growth all over my cheeks, chin, upper and lower lip and starting to grow down my neck. I used to pluck for up to 2 hrs a time every 3rd day but was never hair free. I wouldn&amp;#039;t kiss anyone hello or goodbye as even plucked the stubble could be felt under my skin. 3 months on im not scared of being caught in bright sunlight I pluck around once a fortnight and it takes around 10 mins. The hairs that are coming through are soft and downy. My life is transformed.\"</td>\n",
       "      <td>10</td>\n",
       "      <td>2014-05-11</td>\n",
       "      <td>99</td>\n",
       "      <td>write second review vaniqa start use februari year twice day although day time forget want say delight found total complet chang life terribl male pattern hair growth cheek chin upper lower lip start grow neck use pluck hrs time everi rd day never hair free kiss anyon hello goodby even pluck stubbl could felt skin month im not scare caught bright sunlight pluck around fortnight take around min hair come soft downi life transform</td>\n",
       "      <td>1</td>\n",
       "    </tr>\n",
       "    <tr>\n",
       "      <th>27</th>\n",
       "      <td>78563</td>\n",
       "      <td>Daytrana</td>\n",
       "      <td>ADHD</td>\n",
       "      <td>\"Hi all, My son who is 12 was diagnosed when he was in 2nd grade. We tried everything before medication. When we tried meds, the first one made him loose weight, fast. The second gave him a nasty tic that thankfully went away as soon as he stopped the med, the third worked for a couple of years and around January of last year we started to have problems so his doctor recommended Daytrana. It has been wonderful for my son! Easy to use, he handles this for himself each day and takes it off when he gets home from school. The patch effects last long enough for him to do his homework. He does have issues with weight gain and sleep but he uses melatonin before bed if he feels like he will not be able to shut down. The shortage is KILLING us!\"</td>\n",
       "      <td>10</td>\n",
       "      <td>2017-01-12</td>\n",
       "      <td>11</td>\n",
       "      <td>hi son diagnos nd grade tri everyth medic tri med first one made loos weight fast second gave nasti tic thank went away soon stop med third work coupl year around januari last year start problem doctor recommend daytrana wonder son easi use handl day take get home school patch effect last long enough homework issu weight gain sleep use melatonin bed feel like not abl shut shortag kill us</td>\n",
       "      <td>1</td>\n",
       "    </tr>\n",
       "    <tr>\n",
       "      <th>28</th>\n",
       "      <td>132258</td>\n",
       "      <td>Ativan</td>\n",
       "      <td>Panic Disorde</td>\n",
       "      <td>\"Honestly, I have been taking ativan for 2 years now 1mg twice daily.  It does help but it should be used as a tool for panic attacks NOT A SOLUTION.  I have tried so many anti-depressants as well such as cymbalta, cipralex and a couple more.  The best thing is to talk to close friends and family or even a psychiatrist.  talking to people and venting is honestly the best thing you can do for yourself even though it takes a lot of will power to do it.  I would love to hear other people opinion.\"</td>\n",
       "      <td>6</td>\n",
       "      <td>2015-06-01</td>\n",
       "      <td>47</td>\n",
       "      <td>honest take ativan year mg twice daili help use tool panic attack not solut tri mani anti depress well cymbalta cipralex coupl best thing talk close friend famili even psychiatrist talk peopl vent honest best thing even though take lot power would love hear peopl opinion</td>\n",
       "      <td>1</td>\n",
       "    </tr>\n",
       "    <tr>\n",
       "      <th>29</th>\n",
       "      <td>27339</td>\n",
       "      <td>Imitrex</td>\n",
       "      <td>Migraine</td>\n",
       "      <td>\"At first I suffered through them. This included splitting head pain, nausea, and vomiting. I started using Excedrin after a while which helped if I took it right away. Then that started to not work so well anymore. I had one really bad one that lasted hours. I was still throwing up at 9 pm and I was now throwing up blood. I went to the ER and when I finally got in they put me on an IV to hydrate me. They then added Imitrex to the bag and I soon started feeling side effects. My head felt like I was going to pass out. My breathing became labored and it felt like someone was sitting on my chest. They said that meant it was working. After about two minutes everything was gone. I got pills to take at home and they worked okay. Not as fast.\"</td>\n",
       "      <td>8</td>\n",
       "      <td>2012-10-16</td>\n",
       "      <td>6</td>\n",
       "      <td>first suffer includ split head pain nausea vomit start use excedrin help took right away start not work well anymor one realli bad one last hour still throw pm throw blood went er final got put iv hydrat ad imitrex bag soon start feel side effect head felt like go pass breath becam labor felt like someon sit chest said meant work two minut everyth gone got pill take home work okay not fast</td>\n",
       "      <td>1</td>\n",
       "    </tr>\n",
       "    <tr>\n",
       "      <th>...</th>\n",
       "      <td>...</td>\n",
       "      <td>...</td>\n",
       "      <td>...</td>\n",
       "      <td>...</td>\n",
       "      <td>...</td>\n",
       "      <td>...</td>\n",
       "      <td>...</td>\n",
       "      <td>...</td>\n",
       "      <td>...</td>\n",
       "    </tr>\n",
       "    <tr>\n",
       "      <th>212023</th>\n",
       "      <td>176383</td>\n",
       "      <td>Lorazepam</td>\n",
       "      <td>Panic Disorde</td>\n",
       "      <td>\"Ativan works. I just started getting panic attacks in my 40s no real reason for it except maybe aspartame caffeine sometimes emotional but in all I&amp;#039;m not sure why have gotten panic attacks. But Ativan works sometimes I need three pills of .5 mg or sometimes I just need one but I only take them as needed not sure if my doctor is going to continue to give them to me but I definitely need a back up of some kind and it does make you feel better so think goodness for that.\"</td>\n",
       "      <td>10</td>\n",
       "      <td>2015-01-19</td>\n",
       "      <td>79</td>\n",
       "      <td>ativan work start get panic attack no real reason except mayb aspartam caffein sometim emot not sure gotten panic attack ativan work sometim need three pill mg sometim need one take need not sure doctor go continu give definit need back kind make feel better think good</td>\n",
       "      <td>1</td>\n",
       "    </tr>\n",
       "    <tr>\n",
       "      <th>212024</th>\n",
       "      <td>123174</td>\n",
       "      <td>Azelastine</td>\n",
       "      <td>Allergic Rhinitis</td>\n",
       "      <td>\"Major sleepiness. Used it in the morning and in the evening but tired all day long.\"</td>\n",
       "      <td>6</td>\n",
       "      <td>2010-04-10</td>\n",
       "      <td>19</td>\n",
       "      <td>major sleepi use morn even tire day long</td>\n",
       "      <td>1</td>\n",
       "    </tr>\n",
       "    <tr>\n",
       "      <th>212025</th>\n",
       "      <td>222080</td>\n",
       "      <td>Fluconazole</td>\n",
       "      <td>Vaginal Yeast Infection</td>\n",
       "      <td>\"Took antibiotics and got a yeast infection went to the Drs they prescribed Monistat 3. Took it for the 3 days still was experiencing a lot of itching and burning. Went back to the Drs she prescribed the one dose pill. Took it Thursday afternoon felt nausea, had headaches, and stomach aches (side effects) but helped with the burning pain by he next day. It&amp;#039;s now Sunday and the itching burning and a pain is back. Going back to the Drs tomorrow for the 3rd time in 2 and a half weeks. So want this to go away. Feeling like I need to get second opinion.\"</td>\n",
       "      <td>3</td>\n",
       "      <td>2015-06-14</td>\n",
       "      <td>34</td>\n",
       "      <td>took antibiot got yeast infect went drs prescrib monistat took day still experienc lot itch burn went back drs prescrib one dose pill took thursday afternoon felt nausea headach stomach ach side effect help burn pain next day sunday itch burn pain back go back drs tomorrow rd time half week want go away feel like need get second opinion</td>\n",
       "      <td>0</td>\n",
       "    </tr>\n",
       "    <tr>\n",
       "      <th>212026</th>\n",
       "      <td>8173</td>\n",
       "      <td>Zolpidem</td>\n",
       "      <td>Insomnia</td>\n",
       "      <td>\"Ambien is a wonderful sleep aid.  For people who have trouble staying asleep, this is the medication for you.  I&amp;#039;ve been taking it for at least 10 years and I&amp;#039;ve not built up a tolerance to it yet.  Don&amp;#039;t get out of bed after taking it as it does pose a risk of falling because it works very quickly and will make you very drowsy and perhaps dizzy.    It helps me sleep for 7-8 hours without any hangover effect.  Unfortunately my &amp;quot;nanny&amp;quot; prescription insurance has just informed me that it will not pay for my opioid pain medication and ambien together so I have to choose which medication I want the insurance to pay for.  I&amp;#039;ll just pay the $54 for it myself as the 2 alternative drugs my doctor suggested have quite scary user reviews.\"</td>\n",
       "      <td>10</td>\n",
       "      <td>2016-09-07</td>\n",
       "      <td>25</td>\n",
       "      <td>ambien wonder sleep aid peopl troubl stay asleep medic take least year not built toler yet get bed take pose risk fall work quick make drowsi perhap dizzi help sleep hour without hangov effect unfortun nanni prescript insur inform not pay opioid pain medic ambien togeth choos medic want insur pay pay altern drug doctor suggest quit scari user review</td>\n",
       "      <td>1</td>\n",
       "    </tr>\n",
       "    <tr>\n",
       "      <th>212027</th>\n",
       "      <td>221708</td>\n",
       "      <td>Dexlansoprazole</td>\n",
       "      <td>Barrett's Esophagus</td>\n",
       "      <td>\"I had mild Barrett&amp;#039;s esophagus and was on Dexilant 60mg for 1 month. Due to loss of health coverage and was not able to buy insurance due to pre-existing condition, I was off Dexilant for over a year. After Obama care went in effect, I am able to purchase my health insurance again. My doctor presscribed Dexilant 30 mg twice a day for 6 months. In my recent upper endoscopy, 1 1/2 months after taking it, showed that my esophagus lining is normal. What a relief! Highly recommended!\"</td>\n",
       "      <td>10</td>\n",
       "      <td>2014-05-19</td>\n",
       "      <td>44</td>\n",
       "      <td>mild barrett esophagus dexil mg month due loss health coverag not abl buy insur due pre exist condit dexil year obama care went effect abl purchas health insur doctor presscrib dexil mg twice day month recent upper endoscopi month take show esophagus line normal relief high recommend</td>\n",
       "      <td>1</td>\n",
       "    </tr>\n",
       "    <tr>\n",
       "      <th>212028</th>\n",
       "      <td>131040</td>\n",
       "      <td>Levonorgestrel</td>\n",
       "      <td>Birth Control</td>\n",
       "      <td>\"I first would like to thank all of you that posted comments. After reading them, I felt I&amp;#039;m not alone. It&amp;#039;s not just happening to me, there is nothing wrong with me. I&amp;#039;m 34, with one child and had Mirena for 5 months. The insertion was almost painless and the first month was fine. Right now, I have gained 10lbs, loss of sex drive, have headaches, back pain, insomnia, constipation, hair loss and general depression - OF COURSE that&amp;#039;s going to cause to have mood swings. I&amp;#039;m waiting on an appointment to have it removed. ANOTHER IMPORTANT ASPECT is that I had suffered from postpartum depression after the birth of my child 4 years ago and honestly I was worried that these side effects (especially  depression) were a sign that I was still not okay.\"</td>\n",
       "      <td>3</td>\n",
       "      <td>2010-01-20</td>\n",
       "      <td>140</td>\n",
       "      <td>first would like thank post comment read felt not alon not happen noth wrong one child mirena month insert almost painless first month fine right gain lbs loss sex drive headach back pain insomnia constip hair loss general depress cours go caus mood swing wait appoint remov anoth import aspect suffer postpartum depress birth child year ago honest worri side effect especi depress sign still not okay</td>\n",
       "      <td>0</td>\n",
       "    </tr>\n",
       "    <tr>\n",
       "      <th>212029</th>\n",
       "      <td>23352</td>\n",
       "      <td>Methadone</td>\n",
       "      <td>Pain</td>\n",
       "      <td>\"Have been taking it for 6 years (120 milligrams) no side effects.\"</td>\n",
       "      <td>10</td>\n",
       "      <td>2011-08-02</td>\n",
       "      <td>16</td>\n",
       "      <td>take year milligram no side effect</td>\n",
       "      <td>1</td>\n",
       "    </tr>\n",
       "    <tr>\n",
       "      <th>212030</th>\n",
       "      <td>208660</td>\n",
       "      <td>Sulfacetamide sodium / sulfur</td>\n",
       "      <td>Rosacea</td>\n",
       "      <td>\"Clarifoam EF is a wonderful product.  I have Rosacea and seb/derm and this has been the only thing that doesn&amp;#039;t sting or burn.  And it actually works.  My dermatologist told me to leave it on, and I use it with Halog and Hylatopic Plus foam moisturizer.  For cleaning, he recommended CeraVe Hydrating cleanser.  It&amp;#039;s even more gentle than Cetaphil.\"</td>\n",
       "      <td>10</td>\n",
       "      <td>2011-01-29</td>\n",
       "      <td>15</td>\n",
       "      <td>clarifoam ef wonder product rosacea seb derm thing sting burn actual work dermatologist told leav use halog hylatop plus foam moistur clean recommend cerav hydrat cleanser even gentl cetaphil</td>\n",
       "      <td>1</td>\n",
       "    </tr>\n",
       "    <tr>\n",
       "      <th>212031</th>\n",
       "      <td>77300</td>\n",
       "      <td>Lorcaserin</td>\n",
       "      <td>Obesity</td>\n",
       "      <td>\"Woman of Cuban and Puerto Rican heritage 5&amp;#039;1 and 179 pounds. I wish I could say this was genetic but I just always seemed to be famished and liked my sweets. I have seven months experience and am 43 pounds lighter. I started with diet but once the pound came off I got excited and started biking after the first month to speed things up. Side effects few headache and I was tired initially. Now I sleep easily and don&amp;#039;t get tempted by pretty much anything.\"</td>\n",
       "      <td>10</td>\n",
       "      <td>2014-03-12</td>\n",
       "      <td>53</td>\n",
       "      <td>woman cuban puerto rican heritag pound wish could say genet alway seem famish like sweet seven month experi pound lighter start diet pound came got excit start bike first month speed thing side effect headach tire initi sleep easili get tempt pretti much anyth</td>\n",
       "      <td>1</td>\n",
       "    </tr>\n",
       "    <tr>\n",
       "      <th>212032</th>\n",
       "      <td>182207</td>\n",
       "      <td>Clomipramine</td>\n",
       "      <td>Panic Disorde</td>\n",
       "      <td>\"I&amp;#039;ve been on clomipramine 15 years now and basically saved my life. I suffer terrible panic attacks but they stopped straight away/. I come off my 25 mg tablets for 9 months, felt good but slowly my panic attacks came now back on 25 mg and feel good again.\"</td>\n",
       "      <td>10</td>\n",
       "      <td>2013-02-19</td>\n",
       "      <td>28</td>\n",
       "      <td>clomipramin year basic save life suffer terribl panic attack stop straight away come mg tablet month felt good slowli panic attack came back mg feel good</td>\n",
       "      <td>1</td>\n",
       "    </tr>\n",
       "    <tr>\n",
       "      <th>212033</th>\n",
       "      <td>110775</td>\n",
       "      <td>Imodium</td>\n",
       "      <td>Diarrhea, Acute</td>\n",
       "      <td>\"I&amp;#039;ve had diarrhoea for 3 days now with minimal sleep, constant abdominal pains. \\r\\r\\n&amp;bull;First of I started feeling ill with minor headaches fever like. \\r\\r\\n&amp;bull;Second day I was throwing up with nothing left in my body feeling weak and restless \\r\\r\\n&amp;bull;Third day I had diarrhoea every hour leaving me feeling drained. Night time was impossible to sleep constant bowel movement.\\r\\r\\nI read about Imodium not thinking I could use this whilst having this virus. \\r\\r\\nHad to take two to start with didn&amp;#039;t work then took two more after each bowel movement then I had few abdominal aches. The 10 minuets it started working!\"</td>\n",
       "      <td>8</td>\n",
       "      <td>2016-03-28</td>\n",
       "      <td>6</td>\n",
       "      <td>diarrhoea day minim sleep constant abdomin pain first start feel ill minor headach fever like second day throw noth left bodi feel weak restless third day diarrhoea everi hour leav feel drain night time imposs sleep constant bowel movement read imodium not think could use whilst virus take two start work took two bowel movement abdomin ach minuet start work</td>\n",
       "      <td>1</td>\n",
       "    </tr>\n",
       "    <tr>\n",
       "      <th>212034</th>\n",
       "      <td>199982</td>\n",
       "      <td>Varenicline</td>\n",
       "      <td>Smoking Cessation</td>\n",
       "      <td>\"Horrible! I have been a smoker for 14 years.  I tried chantix and the dreams are so bad I didn&amp;#039;t sleep but a hour or so a day for 21 days before going crazy from sleep deprivation. I attempted to harm myself multiple times, lost my job &amp;amp; boyfriend, I had to send my kids off because I feared what I might do. I trusted nobody cause I feared they were all out to get me. I couldn&amp;#039;t breathe, my whole left side went numb for a week...this medication ruined my life and I&amp;#039;m still a smoker (which I feel safer doing)\"</td>\n",
       "      <td>1</td>\n",
       "      <td>2016-01-27</td>\n",
       "      <td>12</td>\n",
       "      <td>horribl smoker year tri chantix dream bad sleep hour day day go crazi sleep depriv attempt harm multipl time lost job boyfriend send kid fear might trust nobodi caus fear get breath whole left side went numb week medic ruin life still smoker feel safer</td>\n",
       "      <td>0</td>\n",
       "    </tr>\n",
       "    <tr>\n",
       "      <th>212035</th>\n",
       "      <td>127066</td>\n",
       "      <td>Metoclopramide</td>\n",
       "      <td>GERD</td>\n",
       "      <td>\"Glad to have it available to me.\"</td>\n",
       "      <td>8</td>\n",
       "      <td>2009-04-20</td>\n",
       "      <td>8</td>\n",
       "      <td>glad avail</td>\n",
       "      <td>1</td>\n",
       "    </tr>\n",
       "    <tr>\n",
       "      <th>212036</th>\n",
       "      <td>153929</td>\n",
       "      <td>Vivitrol</td>\n",
       "      <td>Opiate Dependence</td>\n",
       "      <td>\"After 16 years of opioid and heroin addiction I had tried everything. Methadone for 3years and off and on suboxone for 8 or more years, i tried hard to get off suboxone and it was horrid withdrawal so I relapsed on heroin.  When I knew I might die if I kept it up, I put myself into a detox and planed to leave after. Stayed for rehab and the vivitrol was suggested I went back and fourth with my decision because I still wanted to drink. Finally I decided to get the shot. Side Effects: muscle spasms, constant stretching that felt great,  decreased appetite, weight loss. The interactions with my 3mgs of clozepam are hard to explain. It&amp;#039;s a high definitely but not one I like to much. If I take Bental for the stomac cramps I get really dipped out\"</td>\n",
       "      <td>8</td>\n",
       "      <td>2016-07-18</td>\n",
       "      <td>35</td>\n",
       "      <td>year opioid heroin addict tri everyth methadon year suboxon year tri hard get suboxon horrid withdraw relaps heroin knew might die kept put detox plane leav stay rehab vivitrol suggest went back fourth decis still want drink final decid get shot side effect muscl spasm constant stretch felt great decreas appetit weight loss interact mgs clozepam hard explain high definit not one like much take bental stomac cramp get realli dip</td>\n",
       "      <td>1</td>\n",
       "    </tr>\n",
       "    <tr>\n",
       "      <th>212037</th>\n",
       "      <td>4705</td>\n",
       "      <td>Belviq</td>\n",
       "      <td>Weight Loss</td>\n",
       "      <td>\"I have had the worst experience with this pill! Took just one pill of it, and my head started blasting like crazy! Bad bad headache, almost felt I was about to pass out, just wanted to go to emergency room! I couldn&amp;#039;t do the 2 per day! It&amp;#039;s expensive and bad side effects. Not worth it! Would probably get phentermine!\"</td>\n",
       "      <td>1</td>\n",
       "      <td>2015-05-02</td>\n",
       "      <td>16</td>\n",
       "      <td>worst experi pill took one pill head start blast like crazi bad bad headach almost felt pass want go emerg room per day expens bad side effect not worth would probabl get phentermin</td>\n",
       "      <td>0</td>\n",
       "    </tr>\n",
       "    <tr>\n",
       "      <th>212038</th>\n",
       "      <td>151266</td>\n",
       "      <td>Chantix</td>\n",
       "      <td>Smoking Cessation</td>\n",
       "      <td>\"I took chantix a little over a month. It made me have a psychotic split, now I have to take medication for the rest of my life. To say I wouldn&amp;#039;t recommend it is putting it lightly. This DRUG shouldn&amp;#039;t be allowed on the market.\"</td>\n",
       "      <td>1</td>\n",
       "      <td>2017-11-11</td>\n",
       "      <td>2</td>\n",
       "      <td>took chantix littl month made psychot split take medic rest life say recommend put light drug allow market</td>\n",
       "      <td>0</td>\n",
       "    </tr>\n",
       "    <tr>\n",
       "      <th>212039</th>\n",
       "      <td>212844</td>\n",
       "      <td>Sofosbuvir / velpatasvir</td>\n",
       "      <td>Hepatitis C</td>\n",
       "      <td>\"After first month of taking Epclusa, I am undetectable!\"</td>\n",
       "      <td>8</td>\n",
       "      <td>2017-04-13</td>\n",
       "      <td>12</td>\n",
       "      <td>first month take epclusa undetect</td>\n",
       "      <td>1</td>\n",
       "    </tr>\n",
       "    <tr>\n",
       "      <th>212040</th>\n",
       "      <td>204390</td>\n",
       "      <td>BuSpar</td>\n",
       "      <td>Anxiety</td>\n",
       "      <td>\"Diagnosed with general anxiety disorder.  Would have obsessive thoughts non stop, losing sleep sometimes.  Started taking buspar 5mg twice a day.  Hands felt tingling and head a little cloudy but no other real side affect.  Increased up to 10mg.  Immediately saw improvement, no more obsessive thoughts that would normally slow me at my work.  Been on it for almost a year now and have no side affects.\"</td>\n",
       "      <td>10</td>\n",
       "      <td>2016-02-25</td>\n",
       "      <td>123</td>\n",
       "      <td>diagnos general anxieti disord would obsess thought non stop lose sleep sometim start take buspar mg twice day hand felt tingl head littl cloudi no real side affect increas mg immedi saw improv no obsess thought would normal slow work almost year no side affect</td>\n",
       "      <td>1</td>\n",
       "    </tr>\n",
       "    <tr>\n",
       "      <th>212041</th>\n",
       "      <td>76895</td>\n",
       "      <td>Lorcaserin</td>\n",
       "      <td>Obesity</td>\n",
       "      <td>\"It didn&amp;#039;t help me at all. I craved chocolate all the time. Not worth the 75.00 a month.\"</td>\n",
       "      <td>2</td>\n",
       "      <td>2015-08-15</td>\n",
       "      <td>8</td>\n",
       "      <td>help crave chocol time not worth month</td>\n",
       "      <td>0</td>\n",
       "    </tr>\n",
       "    <tr>\n",
       "      <th>212042</th>\n",
       "      <td>194823</td>\n",
       "      <td>Levetiracetam</td>\n",
       "      <td>Epilepsy</td>\n",
       "      <td>\"I now suffer from excessive tiredness and lack of energy and I am consulting my GP about an alternative treatment.\"</td>\n",
       "      <td>8</td>\n",
       "      <td>2016-07-21</td>\n",
       "      <td>5</td>\n",
       "      <td>suffer excess tired lack energi consult gp altern treatment</td>\n",
       "      <td>1</td>\n",
       "    </tr>\n",
       "    <tr>\n",
       "      <th>212043</th>\n",
       "      <td>193118</td>\n",
       "      <td>Dextroamphetamine</td>\n",
       "      <td>ADHD</td>\n",
       "      <td>\"Treatment for ADHD save my life. Don&amp;#039;t believe all the hype and the stigma around this diagnosis and treatment. It is a real condition there is real treatment and it makes a real and profound difference to the lives of people with this debilitating condition. So don&amp;#039;t be afraid to seek help if you think you might have ADHD it is not just childhood illness in in my opinion it generally consists persists in some form for the duration of your life just like any other disease\"</td>\n",
       "      <td>10</td>\n",
       "      <td>2015-11-15</td>\n",
       "      <td>36</td>\n",
       "      <td>treatment adhd save life believ hype stigma around diagnosi treatment real condit real treatment make real profound differ live peopl debilit condit afraid seek help think might adhd not childhood ill opinion general consist persist form durat life like diseas</td>\n",
       "      <td>1</td>\n",
       "    </tr>\n",
       "    <tr>\n",
       "      <th>212044</th>\n",
       "      <td>35261</td>\n",
       "      <td>Levofloxacin</td>\n",
       "      <td>Bronchitis</td>\n",
       "      <td>\"This is my 3rd time taking this medicine. First 2 times my shin bones hurt bad for 2 weeks this time my left thumb and palm so far hurts badly but this medicine does work for what ailes me. I just hope my shin bones don&amp;#039;t hurt so bad this time. By the way my prescription is 5 pills of 750mg daily for 5 days.\"</td>\n",
       "      <td>10</td>\n",
       "      <td>2014-10-26</td>\n",
       "      <td>29</td>\n",
       "      <td>rd time take medicin first time shin bone hurt bad week time left thumb palm far hurt bad medicin work ail hope shin bone hurt bad time way prescript pill mg daili day</td>\n",
       "      <td>1</td>\n",
       "    </tr>\n",
       "    <tr>\n",
       "      <th>212045</th>\n",
       "      <td>139347</td>\n",
       "      <td>Armodafinil</td>\n",
       "      <td>Narcolepsy</td>\n",
       "      <td>\"This medicine kept me from sleeping the whole 5 days I was on it. My body just started to shut down and my eyes would just close but my mind would not let me go to sleep.\"</td>\n",
       "      <td>1</td>\n",
       "      <td>2014-09-30</td>\n",
       "      <td>18</td>\n",
       "      <td>medicin kept sleep whole day bodi start shut eye would close mind would not let go sleep</td>\n",
       "      <td>0</td>\n",
       "    </tr>\n",
       "    <tr>\n",
       "      <th>212046</th>\n",
       "      <td>33495</td>\n",
       "      <td>Microgestin Fe 1 / 20</td>\n",
       "      <td>Birth Control</td>\n",
       "      <td>\"I was on Microgestin for about 3 years. Over the past year, I started to get extremely bad headaches during the sugar pill week. I took extra strength Tylenol the entire week, twice a day, and it still didn&amp;#039;t make my headaches go away. I also would feel very lightheaded and nauseous. I had to leave work early, it was bad. The only good thing was I&amp;#039;ve had the same box of tampons for the entire year. I barely had a period. Oh yeah, I also got high pigmentation right above my lips. They call it a &amp;quot;pregnancy mask&amp;quot; but you can get it with certain birth control. It is very dark and it is difficult to hide with makeup! I&amp;#039;m not a big fan of having a weird skin mustache so I went off it.\"</td>\n",
       "      <td>6</td>\n",
       "      <td>2014-08-01</td>\n",
       "      <td>15</td>\n",
       "      <td>microgestin year past year start get extrem bad headach sugar pill week took extra strength tylenol entir week twice day still make headach go away also would feel lighthead nauseous leav work earli bad good thing box tampon entir year bare period oh yeah also got high pigment right lip call pregnanc mask get certain birth control dark difficult hide makeup not big fan weird skin mustach went</td>\n",
       "      <td>1</td>\n",
       "    </tr>\n",
       "    <tr>\n",
       "      <th>212047</th>\n",
       "      <td>123432</td>\n",
       "      <td>Apri</td>\n",
       "      <td>Birth Control</td>\n",
       "      <td>\"I started taking Apri about 7 months ago. My breats got noticeably larger within the first few weeks and I gained about 10 pounds, but I&amp;#039;m a thin girl anyway so I gladly take on the extra few pounds and curves. I got prescribed this birth control because of my ovarian cysts and since I have not had any problems with them. They&amp;#039;ve been unnoticeable and my cramps don&amp;#039;t even exist anymore. I love Apri and it&amp;#039;s affordable. Just what I need in this economic clash.\"</td>\n",
       "      <td>9</td>\n",
       "      <td>2010-08-25</td>\n",
       "      <td>18</td>\n",
       "      <td>start take apri month ago breat got notic larger within first week gain pound thin girl anyway glad take extra pound curv got prescrib birth control ovarian cyst sinc not problem unnotic cramp even exist anymor love apri afford need econom clash</td>\n",
       "      <td>1</td>\n",
       "    </tr>\n",
       "    <tr>\n",
       "      <th>212048</th>\n",
       "      <td>159999</td>\n",
       "      <td>Tamoxifen</td>\n",
       "      <td>Breast Cancer, Prevention</td>\n",
       "      <td>\"I have taken Tamoxifen for 5 years. Side effects are severe sweating and depression. I have been taking Effexor XR longer than I have been on Tamoxifen. My Oncologist increased the Effexor dosage from 75 mg to 150 mg per day. She assure me the Effexor and Black Cohoosh would STOP the sweating...NOT. SWEATING INCREASED AND I AM MORE DEPRESSED THAN EVER. I had a sonogram last month that revealed a very small fibroid and fluid in my uterus. Got an appointment with GYN next week to see how she wants to handle the uterus problem. \"</td>\n",
       "      <td>10</td>\n",
       "      <td>2014-09-13</td>\n",
       "      <td>43</td>\n",
       "      <td>taken tamoxifen year side effect sever sweat depress take effexor xr longer tamoxifen oncologist increas effexor dosag mg mg per day assur effexor black cohoosh would stop sweat not sweat increas depress ever sonogram last month reveal small fibroid fluid uterus got appoint gyn next week see want handl uterus problem</td>\n",
       "      <td>1</td>\n",
       "    </tr>\n",
       "    <tr>\n",
       "      <th>212049</th>\n",
       "      <td>140714</td>\n",
       "      <td>Escitalopram</td>\n",
       "      <td>Anxiety</td>\n",
       "      <td>\"I&amp;#039;ve been taking Lexapro (escitaploprgram) since February. First, I&amp;#039;d like to mention that you can NOT take this drug for a week or less and expect to magically feel better; I felt really sick the first two weeks on this drug. But you HAVE to give the drug time. For me, I didn&amp;#039;t really start noticing the drugs positive effects for about two months. I took Zoloft before this and felt like it made me too tired and absent-minded. Luckily, Lexapro doesn&amp;#039;t seem to have this effect (although I do drink caffeinated drinks). I like Lexapro not only because my anxiety and depression is completely gone, but I feel like I can finally handle everything in my life now (I&amp;#039;m a working full-time college student). I highly recommend this drug.\"</td>\n",
       "      <td>9</td>\n",
       "      <td>2016-10-08</td>\n",
       "      <td>11</td>\n",
       "      <td>take lexapro escitaploprgram sinc februari first like mention not take drug week less expect magic feel better felt realli sick first two week drug give drug time realli start notic drug posit effect two month took zoloft felt like made tire absent mind luckili lexapro seem effect although drink caffein drink like lexapro not anxieti depress complet gone feel like final handl everyth life work full time colleg student high recommend drug</td>\n",
       "      <td>1</td>\n",
       "    </tr>\n",
       "    <tr>\n",
       "      <th>212050</th>\n",
       "      <td>130945</td>\n",
       "      <td>Levonorgestrel</td>\n",
       "      <td>Birth Control</td>\n",
       "      <td>\"I&amp;#039;m married, 34 years old and I have no kids. Taking the pill was such a hassle so I decided to get the Mirena. It was very painful when it was inserted,then had cramping for the rest of that day! For the first 6 weeks I spotted off and on and then my periods just stopped. I still got cramps every few months, but never needed to take anything. The 5th and final year of me having Mirena, I started to spot monthly. I called my OB, they just said that the levonorgestrel wears off over time. I made the decision that I was going to have another one put in. Taking the old one out didn&amp;#039;t hurt at all, you feel a little pressure. Inserting the new one was less painful but still uncomfortable. It&amp;#039;s been 4 days and I still have a little cramping but overall HAPPY.\"</td>\n",
       "      <td>8</td>\n",
       "      <td>2010-11-15</td>\n",
       "      <td>7</td>\n",
       "      <td>marri year old no kid take pill hassl decid get mirena pain insert cramp rest day first week spot period stop still got cramp everi month never need take anyth th final year mirena start spot month call ob said levonorgestrel wear time made decis go anoth one put take old one hurt feel littl pressur insert new one less pain still uncomfort day still littl cramp overal happi</td>\n",
       "      <td>1</td>\n",
       "    </tr>\n",
       "    <tr>\n",
       "      <th>212051</th>\n",
       "      <td>47656</td>\n",
       "      <td>Tapentadol</td>\n",
       "      <td>Pain</td>\n",
       "      <td>\"I was prescribed Nucynta for severe neck/shoulder pain. After taking only 2, 75mg pills I was rushed to the ER with severe breathing problems. I have never had any issues with pain medicines before.\"</td>\n",
       "      <td>1</td>\n",
       "      <td>2011-11-28</td>\n",
       "      <td>20</td>\n",
       "      <td>prescrib nucynta sever neck shoulder pain take mg pill rush er sever breath problem never issu pain medicin</td>\n",
       "      <td>0</td>\n",
       "    </tr>\n",
       "    <tr>\n",
       "      <th>212052</th>\n",
       "      <td>113712</td>\n",
       "      <td>Arthrotec</td>\n",
       "      <td>Sciatica</td>\n",
       "      <td>\"It works!!!\"</td>\n",
       "      <td>9</td>\n",
       "      <td>2009-09-13</td>\n",
       "      <td>46</td>\n",
       "      <td>work</td>\n",
       "      <td>1</td>\n",
       "    </tr>\n",
       "  </tbody>\n",
       "</table>\n",
       "<p>212053 rows × 9 columns</p>\n",
       "</div>"
      ],
      "text/plain": [
       "        uniqueID                            drugName  \\\n",
       "0       206461    Valsartan                            \n",
       "1       95260     Guanfacine                           \n",
       "2       92703     Lybrel                               \n",
       "3       138000    Ortho Evra                           \n",
       "4       35696     Buprenorphine / naloxone             \n",
       "5       155963    Cialis                               \n",
       "6       165907    Levonorgestrel                       \n",
       "7       102654    Aripiprazole                         \n",
       "8       74811     Keppra                               \n",
       "9       48928     Ethinyl estradiol / levonorgestrel   \n",
       "10      29607     Topiramate                           \n",
       "11      75612     L-methylfolate                       \n",
       "12      191290    Pentasa                              \n",
       "13      221320    Dextromethorphan                     \n",
       "14      98494     Nexplanon                            \n",
       "15      81890     Liraglutide                          \n",
       "16      48188     Trimethoprim                         \n",
       "17      219869    Amitriptyline                        \n",
       "18      212077    Lamotrigine                          \n",
       "19      119705    Nilotinib                            \n",
       "20      12372     Atripla                              \n",
       "21      231466    Trazodone                            \n",
       "22      227020    Etonogestrel                         \n",
       "23      41928     Etanercept                           \n",
       "24      213649    Tioconazole                          \n",
       "25      51215     Azithromycin                         \n",
       "26      206180    Eflornithine                         \n",
       "27      78563     Daytrana                             \n",
       "28      132258    Ativan                               \n",
       "29      27339     Imitrex                              \n",
       "...       ...         ...                              \n",
       "212023  176383    Lorazepam                            \n",
       "212024  123174    Azelastine                           \n",
       "212025  222080    Fluconazole                          \n",
       "212026  8173      Zolpidem                             \n",
       "212027  221708    Dexlansoprazole                      \n",
       "212028  131040    Levonorgestrel                       \n",
       "212029  23352     Methadone                            \n",
       "212030  208660    Sulfacetamide sodium / sulfur        \n",
       "212031  77300     Lorcaserin                           \n",
       "212032  182207    Clomipramine                         \n",
       "212033  110775    Imodium                              \n",
       "212034  199982    Varenicline                          \n",
       "212035  127066    Metoclopramide                       \n",
       "212036  153929    Vivitrol                             \n",
       "212037  4705      Belviq                               \n",
       "212038  151266    Chantix                              \n",
       "212039  212844    Sofosbuvir / velpatasvir             \n",
       "212040  204390    BuSpar                               \n",
       "212041  76895     Lorcaserin                           \n",
       "212042  194823    Levetiracetam                        \n",
       "212043  193118    Dextroamphetamine                    \n",
       "212044  35261     Levofloxacin                         \n",
       "212045  139347    Armodafinil                          \n",
       "212046  33495     Microgestin Fe 1 / 20                \n",
       "212047  123432    Apri                                 \n",
       "212048  159999    Tamoxifen                            \n",
       "212049  140714    Escitalopram                         \n",
       "212050  130945    Levonorgestrel                       \n",
       "212051  47656     Tapentadol                           \n",
       "212052  113712    Arthrotec                            \n",
       "\n",
       "                           condition  \\\n",
       "0       Left Ventricular Dysfunction   \n",
       "1       ADHD                           \n",
       "2       Birth Control                  \n",
       "3       Birth Control                  \n",
       "4       Opiate Dependence              \n",
       "5       Benign Prostatic Hyperplasia   \n",
       "6       Emergency Contraception        \n",
       "7       Bipolar Disorde                \n",
       "8       Epilepsy                       \n",
       "9       Birth Control                  \n",
       "10      Migraine Prevention            \n",
       "11      Depression                     \n",
       "12      Crohn's Disease                \n",
       "13      Cough                          \n",
       "14      Birth Control                  \n",
       "15      Obesity                        \n",
       "16      Urinary Tract Infection        \n",
       "17      ibromyalgia                    \n",
       "18      Bipolar Disorde                \n",
       "19      Chronic Myelogenous Leukemia   \n",
       "20      HIV Infection                  \n",
       "21      Insomnia                       \n",
       "22      Birth Control                  \n",
       "23      Rheumatoid Arthritis           \n",
       "24      Vaginal Yeast Infection        \n",
       "25      Chlamydia Infection            \n",
       "26      Hirsutism                      \n",
       "27      ADHD                           \n",
       "28      Panic Disorde                  \n",
       "29      Migraine                       \n",
       "...          ...                       \n",
       "212023  Panic Disorde                  \n",
       "212024  Allergic Rhinitis              \n",
       "212025  Vaginal Yeast Infection        \n",
       "212026  Insomnia                       \n",
       "212027  Barrett's Esophagus            \n",
       "212028  Birth Control                  \n",
       "212029  Pain                           \n",
       "212030  Rosacea                        \n",
       "212031  Obesity                        \n",
       "212032  Panic Disorde                  \n",
       "212033  Diarrhea, Acute                \n",
       "212034  Smoking Cessation              \n",
       "212035  GERD                           \n",
       "212036  Opiate Dependence              \n",
       "212037  Weight Loss                    \n",
       "212038  Smoking Cessation              \n",
       "212039  Hepatitis C                    \n",
       "212040  Anxiety                        \n",
       "212041  Obesity                        \n",
       "212042  Epilepsy                       \n",
       "212043  ADHD                           \n",
       "212044  Bronchitis                     \n",
       "212045  Narcolepsy                     \n",
       "212046  Birth Control                  \n",
       "212047  Birth Control                  \n",
       "212048  Breast Cancer, Prevention      \n",
       "212049  Anxiety                        \n",
       "212050  Birth Control                  \n",
       "212051  Pain                           \n",
       "212052  Sciatica                       \n",
       "\n",
       "                                                                                                                                                                                                                                                                                                                                                                                                                                                                                                                                                                                                                                                                                                                                                                                                                      review  \\\n",
       "0       \"It has no side effect, I take it in combination of Bystolic 5 Mg and Fish Oil\"                                                                                                                                                                                                                                                                                                                                                                                                                                                                                                                                                                                                                                                                                                                                        \n",
       "1       \"My son is halfway through his fourth week of Intuniv. We became concerned when he began this last week, when he started taking the highest dose he will be on. For two days, he could hardly get out of bed, was very cranky, and slept for nearly 8 hours on a drive home from school vacation (very unusual for him.) I called his doctor on Monday morning and she said to stick it out a few days. See how he did at school, and with getting up in the morning. The last two days have been problem free. He is MUCH more agreeable than ever. He is less emotional (a good thing), less cranky. He is remembering all the things he should. Overall his behavior is better. \\r\\nWe have tried many different medications and so far this is the most effective.\"                                                \n",
       "2       \"I used to take another oral contraceptive, which had 21 pill cycle, and was very happy- very light periods, max 5 days, no other side effects. But it contained hormone gestodene, which is not available in US, so I switched to Lybrel, because the ingredients are similar. When my other pills ended, I started Lybrel immediately, on my first day of period, as the instructions said. And the period lasted for two weeks. When taking the second pack- same two weeks. And now, with third pack things got even worse- my third period lasted for two weeks and now it&#039;s the end of the third week- I still have daily brown discharge.\\r\\nThe positive side is that I didn&#039;t have any other side effects. The idea of being period free was so tempting... Alas.\"                                  \n",
       "3       \"This is my first time using any form of birth control. I&#039;m glad I went with the patch, I have been on it for 8 months. At first It decreased my libido but that subsided. The only downside is that it made my periods longer (5-6 days to be exact) I used to only have periods for 3-4 days max also made my cramps intense for the first two days of my period, I never had cramps before using birth control. Other than that in happy with the patch\"                                                                                                                                                                                                                                                                                                                                                       \n",
       "4       \"Suboxone has completely turned my life around.  I feel healthier, I&#039;m excelling at my job and I always have money in my pocket and my savings account.  I had none of those before Suboxone and spent years abusing oxycontin.  My paycheck was already spent by the time I got it and I started resorting to scheming and stealing to fund my addiction.  All that is history.  If you&#039;re ready to stop, there&#039;s a good chance that suboxone will put you on the path of great life again.  I have found the side-effects to be minimal compared to oxycontin.  I&#039;m actually sleeping better.   Slight constipation is about it for me.  It truly is amazing. The cost pales in comparison to what I spent on oxycontin.\"                                                                        \n",
       "5       \"2nd day on 5mg started to work with rock hard erections however experianced headache, lower bowel preassure. 3rd day erections would wake me up &amp; hurt! Leg/ankles aches   severe lower bowel preassure like you need to go #2 but can&#039;t! Enjoyed the initial rockhard erections but not at these side effects or $230 for months supply! I&#039;m 50 &amp; work out 3Xs a week. Not worth side effects!\"                                                                                                                                                                                                                                                                                                                                                                                                    \n",
       "6       \"He pulled out, but he cummed a bit in me. I took the Plan B 26 hours later, and took a pregnancy test two weeks later - - I&#039;m pregnant.\"                                                                                                                                                                                                                                                                                                                                                                                                                                                                                                                                                                                                                                                                         \n",
       "7       \"Abilify changed my life. There is hope. I was on Zoloft and Clonidine when I first started Abilify at the age of 15.. Zoloft for depression and Clondine to manage my complete rage. My moods were out of control. I was depressed and hopeless one second and then mean, irrational, and full of rage the next. My Dr. prescribed me 2mg of Abilify and from that point on I feel like I have been cured though I know I&#039;m not.. Bi-polar disorder is a constant battle. I know Abilify works for me because I have tried to get off it and lost complete control over my emotions. Went back on it and I was golden again.  I am on 5mg 2x daily. I am now 21 and better than I have ever been in the past. Only side effect is I like to eat a lot.\"                                                          \n",
       "8       \" I Ve had  nothing but problems with the Keppera : constant shaking in my arms &amp; legs &amp; pins &amp; needles feeling in my arms &amp; legs severe light headedness no appetite &amp; etc.\"                                                                                                                                                                                                                                                                                                                                                                                                                                                                                                                                                                                                                      \n",
       "9       \"I had been on the pill for many years. When my doctor changed my RX to chateal, it was as effective. It really did help me by completely clearing my acne, this takes about 6 months though. I did not gain extra weight, or develop any emotional health issues. I stopped taking it bc I started using a more natural method of birth control, but started to take it bc I hate that my acne came back at age 28. I really hope symptoms like depression, or weight gain do not begin to affect me as I am older now. I&#039;m also naturally moody, so this may worsen things. I was in a negative mental rut today. Also I hope this doesn&#039;t push me over the edge, as I believe I am depressed. Hopefully it&#039;ll be just like when I was younger.\"                                                      \n",
       "10      \"I have been on this medication almost two weeks, started out on 25mg and working my way up to 100mg, currently at 50mg. No headaches at all so far and I was having 2-3 crippling migraines a week. I have lost 5.2lbs so far but note I am really paying close attention to what I am eating, I have a lot of weight to lose and if weight loss is a side effect I want to help it along as much as I can.  Now, other side effects, they are there the word recall issues exist, the memory issues, the worst of it seems to be the vision disturbances, there have been times I have just not driven because I&#039;m sure it would not have been safe. The good news is it seems to be wearing off...I have tons of energy and I am in a great mood.\"                                                             \n",
       "11      \"I have taken anti-depressants for years, with some improvement but mostly moderate to severe side affects, which makes me go off them.\\r\\n\\r\\nI only take Cymbalta now mostly for pain.\\r\\n\\r\\nWhen I began Deplin, I noticed a major improvement overnight. More energy, better disposition, and no sinking to the low lows of major depression. I have been taking it for about 3 months now and feel like a normal person for the first time ever. Best thing, no side effects.\"                                                                                                                                                                                                                                                                                                                                   \n",
       "12      \"I had Crohn&#039;s with a resection 30 years ago and have been mostly in remission since.  Have recently had a bad flare and narrowing at the anastomosis and need to be on medication, but haven&#039;t found one that I can handle.  Asacol gave me such serious body aching and fatigue that I could not function.  Pentasa immediately gave me heart palpitations and arrhythmias so I had to discontinue it.\"                                                                                                                                                                                                                                                                                                                                                                                                    \n",
       "13      \"Have a little bit of a lingering cough from a cold. Not giving me much trouble except keeps me up at night. I heard this was good so I took so I could get some sleep. Helped tremendously with the cough but then I was having bad stomach cramps and diarrhea. I hadn&#039;t eaten anything that should have upset my stomach and it didn&#039;t really feel like a &quot;bug&quot; so I looked up side effects for Delsym.  Now I wish I had done that first because I probably wouldn&#039;t have taken it. So, while it worked for my cough I still didn&#039;t get any sleep due to the stomach issues.\"                                                                                                                                                                                                        \n",
       "14      \"Started Nexplanon 2 months ago because I have a minimal amount of contraception&#039;s I can take due to my inability to take the hormone that is used in most birth controls. I&#039;m trying to give it time because it is one of my only options right now. But honestly if I had options I&#039;d get it removed.\\r\\nI&#039;ve never had acne problems in my life, and immediately broke out after getting it implanted. Sex drive is completely gone, and I used to have sex with my boyfriend a few days a week, now its completely forced and not even fun for me anymore. I mean I&#039;m on birth control because I like having sex but don&#039;t want to get pregnant, why take a birth control that takes away sex? Very unhappy and hope that I get it back with time or I&#039;m getting it removed.\"   \n",
       "15      \"I have been taking Saxenda since July 2016.  I had severe nausea for about a month once I got up to the 2.6 dosage.  It has since subsided and the only side effect I notice now is the dry mouth.  I make sure to drink  2.5 litres of water a day (about 10 glasses).  This helps with the weight loss as well as the constipation.  I have been reducing my dose to find a comfortable spot where I am still losing weight but don&#039;t feel like I am over medicating.  For me, 1.8 is working very well.  I also feel wearing a Fitbit has really helped.  I can track my food, water, exercise and steps - it keeps me moving more.  When this started I could barely walk the length of myself without getting winded - I have lost 58 lbs so far.\"                                                          \n",
       "16      \"This drug worked very well for me and cleared up my UTI in a matter of 48hrs, although I was on a 7 day course of 2x200mg/daily. Unfortunately once the tablets finished the infection returned so needed a 2nd course. I&#039;m currently taking a low dose at evening to keep the infection at bay while the specialists do some tests.  I normally get every side effect going and dread taking new medication in any form especially after an horrific experience with Ciorofloxacin but the only side effect I experienced with this was itchy ankles and feet on day two but that didn&#039;t last into third day so I would class this as a minor side effect and insignificant. Good luck.\"                                                                                                                   \n",
       "17      \"I&#039;ve been taking amitriptyline since January 2013 after being diagnosed with fibromyalgia. I tried cymbalta for a week and my Dr decided that since it kept me awake 24/7 that it wasn&#039;t a good fit for me even though it relieved my pain. I started with 25 mg. After 2 weeks I had some breakthrough pain, so my Dr increased my dosage to 50mg and I&#039;m still on that dosage today. For the first full year I was on this I never had pain and felt &#039;cured&#039;. As time went on, it seems to help control my pain. I do still have pain, but at a low manageable level. I take this around 7pm each evening to avoid feeling overly drowsy in the mornings. This med allows me to have a fairly normal life.\"                                                                                \n",
       "18      \"I&#039;ve been on every medicine under the sun (it seems) to manage the hypomania / mania of Bipolar2. Within a few days of starting Lamictal (was on Tegretol) it was as if someone had turned a light on in my head. Is this the way &quot;normal&quot; people think? was one of the first things that struck me. I sleep like a log, have no irritability, almost no anger (other than what would be considered normal). I am able to focus and my creative, impulsive thoughts have decreased enough to be manageable. It&#039;s a God send as I would perennially be in a state of hypo mania, which sounds great, but I was physically and emotionally exhausted. My libido is markedly lower but I wonder if that is perhaps an effect of not being hypo manic. I take 20 mg for anxiety.\"                     \n",
       "19      \"I have been on Tasigna for just over 3 years now (300mg x 2 times a day) Tasigna worked for me within a few weeks I have been in remission for basically the entire 3 years. As for the side effects, I feel sick to my stomach, tired,  severe leg and arm pain, I can&#039;t walk to long without needing a break, I went from working full time to not working at all because I am so tired all the time.... but hey I am in remission and alive so is all the above really a problem? Nope\"                                                                                                                                                                                                                                                                                                                       \n",
       "20      \"Spring of 2008 I was hospitalized with pnuemonia and diagnosed with Lyme diease and full blown AIDS with CD4 count of &quot;11&quot; viral load some number so high in the millions I could never remember. I was taking Combivir and Kaletra with Dapsone for the 1st year then it stopped working. I started Kaletra with the Dapsone my CD4 count is now 209 and rising. For a few weeks I was very aggressive and broke all my dishes in the house LOL. I take vitamin supplements and drink a boost pluz every day. LIfe is good now!\"                                                                                                                                                                                                                                                                           \n",
       "21      \"I have insomnia, it&#039;s horrible. My story begins with my PCP prescribing me Prozac to help with intestinal issues, because I was desperate I tried it, I was on it for 3 weeks. Stopped because of insomnia. Then I was prescribed Ativan, it out me out, but was very addicting. I had rebound insomnia. Then after about 14 days I hardly any sleep l tried the doctor one more time. I asked him about Trazadone. He told me that was a good medication for insomnia. He put me on 25 mgs, but stated I may have to figure out what dosage is best for me. I am currently taking 100 mgs, which is on the low range of what is prescribed, 400 mgs being at the high end for insomnia. I have the dry mouth and nasel congestion. I can live with that, I sleep now, yeah...\"                                  \n",
       "22      \"Nexplanon does its job. I can have worry free sex. The only thing is that my periods are sometimes light and sometimes heavy. Sometimes they go away and sometimes they show up unexpected. I also feel somewhat depressed. Not sure if its Nexplanon or not. I&#039;ve had Nexplanont for about 2 months now, but despite the side effects its the most effective birth control I&#039;ve ever used and I do not plan on taking it out.\"                                                                                                                                                                                                                                                                                                                                                                             \n",
       "23      \"I live in Western Australia and disturbed by some comments on here. The cost of Embrel is cost of an ordinary prescription $36 for me the government pays the remainder of the cost to the chemist. I also go to the the medical centre every Saturday morning a Dr looks over my prescription and then he advises the nurse to administer the injection also no cost to myself and this is part of nurses duties. I am unsure of the country where people who have made comments referring to cost and that nobody is there to  administer the injection for them. I am very lucky to live in Australia as we have the best health system worldwide and everybody is  given the opportunity to receive proper medical help whether you are rich or poor there is no discrimination.\"                                 \n",
       "24      \"Do not use the cream that comes with this. It turned my hoo-ha into a burning ring of fire. It is 1 am and I have to work tomorrow. It&#039;s going to be a sleepless night for me\"                                                                                                                                                                                                                                                                                                                                                                                                                                                                                                                                                                                                                                   \n",
       "25      \"Was prescribed one dose over the course of one day, took 4 pills of 250mg after a light lunch, and had nausea and mild stomach pains/upset. Lying down did not alleviate the discomfort and threw up 3 hours later. Called up my doctor to check if I needed to take another dose but he said my body would have absorbed the pills by then. Still experiencing mild stomach pains but nausea is mostly gone now.\"                                                                                                                                                                                                                                                                                                                                                                                                    \n",
       "26      \"I&#039;m writing a second review on Vaniqa.  I started using this in February this year. Twice a day although some days/times I do forget. I just want to say how delighted I am to have found this. It has totally and completely changed my life! I had terrible male pattern hair growth all over my cheeks, chin, upper and lower lip and starting to grow down my neck. I used to pluck for up to 2 hrs a time every 3rd day but was never hair free. I wouldn&#039;t kiss anyone hello or goodbye as even plucked the stubble could be felt under my skin. 3 months on im not scared of being caught in bright sunlight I pluck around once a fortnight and it takes around 10 mins. The hairs that are coming through are soft and downy. My life is transformed.\"                                             \n",
       "27      \"Hi all, My son who is 12 was diagnosed when he was in 2nd grade. We tried everything before medication. When we tried meds, the first one made him loose weight, fast. The second gave him a nasty tic that thankfully went away as soon as he stopped the med, the third worked for a couple of years and around January of last year we started to have problems so his doctor recommended Daytrana. It has been wonderful for my son! Easy to use, he handles this for himself each day and takes it off when he gets home from school. The patch effects last long enough for him to do his homework. He does have issues with weight gain and sleep but he uses melatonin before bed if he feels like he will not be able to shut down. The shortage is KILLING us!\"                                             \n",
       "28      \"Honestly, I have been taking ativan for 2 years now 1mg twice daily.  It does help but it should be used as a tool for panic attacks NOT A SOLUTION.  I have tried so many anti-depressants as well such as cymbalta, cipralex and a couple more.  The best thing is to talk to close friends and family or even a psychiatrist.  talking to people and venting is honestly the best thing you can do for yourself even though it takes a lot of will power to do it.  I would love to hear other people opinion.\"                                                                                                                                                                                                                                                                                                    \n",
       "29      \"At first I suffered through them. This included splitting head pain, nausea, and vomiting. I started using Excedrin after a while which helped if I took it right away. Then that started to not work so well anymore. I had one really bad one that lasted hours. I was still throwing up at 9 pm and I was now throwing up blood. I went to the ER and when I finally got in they put me on an IV to hydrate me. They then added Imitrex to the bag and I soon started feeling side effects. My head felt like I was going to pass out. My breathing became labored and it felt like someone was sitting on my chest. They said that meant it was working. After about two minutes everything was gone. I got pills to take at home and they worked okay. Not as fast.\"                                             \n",
       "...                                                                                                                                                                                                                                                                                                                                                                                                                                                                                                                                                                                                                                                                                                                                                                            ...                                             \n",
       "212023  \"Ativan works. I just started getting panic attacks in my 40s no real reason for it except maybe aspartame caffeine sometimes emotional but in all I&#039;m not sure why have gotten panic attacks. But Ativan works sometimes I need three pills of .5 mg or sometimes I just need one but I only take them as needed not sure if my doctor is going to continue to give them to me but I definitely need a back up of some kind and it does make you feel better so think goodness for that.\"                                                                                                                                                                                                                                                                                                                        \n",
       "212024  \"Major sleepiness. Used it in the morning and in the evening but tired all day long.\"                                                                                                                                                                                                                                                                                                                                                                                                                                                                                                                                                                                                                                                                                                                                  \n",
       "212025  \"Took antibiotics and got a yeast infection went to the Drs they prescribed Monistat 3. Took it for the 3 days still was experiencing a lot of itching and burning. Went back to the Drs she prescribed the one dose pill. Took it Thursday afternoon felt nausea, had headaches, and stomach aches (side effects) but helped with the burning pain by he next day. It&#039;s now Sunday and the itching burning and a pain is back. Going back to the Drs tomorrow for the 3rd time in 2 and a half weeks. So want this to go away. Feeling like I need to get second opinion.\"                                                                                                                                                                                                                                       \n",
       "212026  \"Ambien is a wonderful sleep aid.  For people who have trouble staying asleep, this is the medication for you.  I&#039;ve been taking it for at least 10 years and I&#039;ve not built up a tolerance to it yet.  Don&#039;t get out of bed after taking it as it does pose a risk of falling because it works very quickly and will make you very drowsy and perhaps dizzy.    It helps me sleep for 7-8 hours without any hangover effect.  Unfortunately my &quot;nanny&quot; prescription insurance has just informed me that it will not pay for my opioid pain medication and ambien together so I have to choose which medication I want the insurance to pay for.  I&#039;ll just pay the $54 for it myself as the 2 alternative drugs my doctor suggested have quite scary user reviews.\"                     \n",
       "212027  \"I had mild Barrett&#039;s esophagus and was on Dexilant 60mg for 1 month. Due to loss of health coverage and was not able to buy insurance due to pre-existing condition, I was off Dexilant for over a year. After Obama care went in effect, I am able to purchase my health insurance again. My doctor presscribed Dexilant 30 mg twice a day for 6 months. In my recent upper endoscopy, 1 1/2 months after taking it, showed that my esophagus lining is normal. What a relief! Highly recommended!\"                                                                                                                                                                                                                                                                                                             \n",
       "212028  \"I first would like to thank all of you that posted comments. After reading them, I felt I&#039;m not alone. It&#039;s not just happening to me, there is nothing wrong with me. I&#039;m 34, with one child and had Mirena for 5 months. The insertion was almost painless and the first month was fine. Right now, I have gained 10lbs, loss of sex drive, have headaches, back pain, insomnia, constipation, hair loss and general depression - OF COURSE that&#039;s going to cause to have mood swings. I&#039;m waiting on an appointment to have it removed. ANOTHER IMPORTANT ASPECT is that I had suffered from postpartum depression after the birth of my child 4 years ago and honestly I was worried that these side effects (especially  depression) were a sign that I was still not okay.\"             \n",
       "212029  \"Have been taking it for 6 years (120 milligrams) no side effects.\"                                                                                                                                                                                                                                                                                                                                                                                                                                                                                                                                                                                                                                                                                                                                                    \n",
       "212030  \"Clarifoam EF is a wonderful product.  I have Rosacea and seb/derm and this has been the only thing that doesn&#039;t sting or burn.  And it actually works.  My dermatologist told me to leave it on, and I use it with Halog and Hylatopic Plus foam moisturizer.  For cleaning, he recommended CeraVe Hydrating cleanser.  It&#039;s even more gentle than Cetaphil.\"                                                                                                                                                                                                                                                                                                                                                                                                                                               \n",
       "212031  \"Woman of Cuban and Puerto Rican heritage 5&#039;1 and 179 pounds. I wish I could say this was genetic but I just always seemed to be famished and liked my sweets. I have seven months experience and am 43 pounds lighter. I started with diet but once the pound came off I got excited and started biking after the first month to speed things up. Side effects few headache and I was tired initially. Now I sleep easily and don&#039;t get tempted by pretty much anything.\"                                                                                                                                                                                                                                                                                                                                   \n",
       "212032  \"I&#039;ve been on clomipramine 15 years now and basically saved my life. I suffer terrible panic attacks but they stopped straight away/. I come off my 25 mg tablets for 9 months, felt good but slowly my panic attacks came now back on 25 mg and feel good again.\"                                                                                                                                                                                                                                                                                                                                                                                                                                                                                                                                                \n",
       "212033  \"I&#039;ve had diarrhoea for 3 days now with minimal sleep, constant abdominal pains. \\r\\r\\n&bull;First of I started feeling ill with minor headaches fever like. \\r\\r\\n&bull;Second day I was throwing up with nothing left in my body feeling weak and restless \\r\\r\\n&bull;Third day I had diarrhoea every hour leaving me feeling drained. Night time was impossible to sleep constant bowel movement.\\r\\r\\nI read about Imodium not thinking I could use this whilst having this virus. \\r\\r\\nHad to take two to start with didn&#039;t work then took two more after each bowel movement then I had few abdominal aches. The 10 minuets it started working!\"                                                                                                                                                     \n",
       "212034  \"Horrible! I have been a smoker for 14 years.  I tried chantix and the dreams are so bad I didn&#039;t sleep but a hour or so a day for 21 days before going crazy from sleep deprivation. I attempted to harm myself multiple times, lost my job &amp; boyfriend, I had to send my kids off because I feared what I might do. I trusted nobody cause I feared they were all out to get me. I couldn&#039;t breathe, my whole left side went numb for a week...this medication ruined my life and I&#039;m still a smoker (which I feel safer doing)\"                                                                                                                                                                                                                                                                  \n",
       "212035  \"Glad to have it available to me.\"                                                                                                                                                                                                                                                                                                                                                                                                                                                                                                                                                                                                                                                                                                                                                                                     \n",
       "212036  \"After 16 years of opioid and heroin addiction I had tried everything. Methadone for 3years and off and on suboxone for 8 or more years, i tried hard to get off suboxone and it was horrid withdrawal so I relapsed on heroin.  When I knew I might die if I kept it up, I put myself into a detox and planed to leave after. Stayed for rehab and the vivitrol was suggested I went back and fourth with my decision because I still wanted to drink. Finally I decided to get the shot. Side Effects: muscle spasms, constant stretching that felt great,  decreased appetite, weight loss. The interactions with my 3mgs of clozepam are hard to explain. It&#039;s a high definitely but not one I like to much. If I take Bental for the stomac cramps I get really dipped out\"                                  \n",
       "212037  \"I have had the worst experience with this pill! Took just one pill of it, and my head started blasting like crazy! Bad bad headache, almost felt I was about to pass out, just wanted to go to emergency room! I couldn&#039;t do the 2 per day! It&#039;s expensive and bad side effects. Not worth it! Would probably get phentermine!\"                                                                                                                                                                                                                                                                                                                                                                                                                                                                             \n",
       "212038  \"I took chantix a little over a month. It made me have a psychotic split, now I have to take medication for the rest of my life. To say I wouldn&#039;t recommend it is putting it lightly. This DRUG shouldn&#039;t be allowed on the market.\"                                                                                                                                                                                                                                                                                                                                                                                                                                                                                                                                                                        \n",
       "212039  \"After first month of taking Epclusa, I am undetectable!\"                                                                                                                                                                                                                                                                                                                                                                                                                                                                                                                                                                                                                                                                                                                                                              \n",
       "212040  \"Diagnosed with general anxiety disorder.  Would have obsessive thoughts non stop, losing sleep sometimes.  Started taking buspar 5mg twice a day.  Hands felt tingling and head a little cloudy but no other real side affect.  Increased up to 10mg.  Immediately saw improvement, no more obsessive thoughts that would normally slow me at my work.  Been on it for almost a year now and have no side affects.\"                                                                                                                                                                                                                                                                                                                                                                                                   \n",
       "212041  \"It didn&#039;t help me at all. I craved chocolate all the time. Not worth the 75.00 a month.\"                                                                                                                                                                                                                                                                                                                                                                                                                                                                                                                                                                                                                                                                                                                         \n",
       "212042  \"I now suffer from excessive tiredness and lack of energy and I am consulting my GP about an alternative treatment.\"                                                                                                                                                                                                                                                                                                                                                                                                                                                                                                                                                                                                                                                                                                   \n",
       "212043  \"Treatment for ADHD save my life. Don&#039;t believe all the hype and the stigma around this diagnosis and treatment. It is a real condition there is real treatment and it makes a real and profound difference to the lives of people with this debilitating condition. So don&#039;t be afraid to seek help if you think you might have ADHD it is not just childhood illness in in my opinion it generally consists persists in some form for the duration of your life just like any other disease\"                                                                                                                                                                                                                                                                                                               \n",
       "212044  \"This is my 3rd time taking this medicine. First 2 times my shin bones hurt bad for 2 weeks this time my left thumb and palm so far hurts badly but this medicine does work for what ailes me. I just hope my shin bones don&#039;t hurt so bad this time. By the way my prescription is 5 pills of 750mg daily for 5 days.\"                                                                                                                                                                                                                                                                                                                                                                                                                                                                                           \n",
       "212045  \"This medicine kept me from sleeping the whole 5 days I was on it. My body just started to shut down and my eyes would just close but my mind would not let me go to sleep.\"                                                                                                                                                                                                                                                                                                                                                                                                                                                                                                                                                                                                                                           \n",
       "212046  \"I was on Microgestin for about 3 years. Over the past year, I started to get extremely bad headaches during the sugar pill week. I took extra strength Tylenol the entire week, twice a day, and it still didn&#039;t make my headaches go away. I also would feel very lightheaded and nauseous. I had to leave work early, it was bad. The only good thing was I&#039;ve had the same box of tampons for the entire year. I barely had a period. Oh yeah, I also got high pigmentation right above my lips. They call it a &quot;pregnancy mask&quot; but you can get it with certain birth control. It is very dark and it is difficult to hide with makeup! I&#039;m not a big fan of having a weird skin mustache so I went off it.\"                                                                             \n",
       "212047  \"I started taking Apri about 7 months ago. My breats got noticeably larger within the first few weeks and I gained about 10 pounds, but I&#039;m a thin girl anyway so I gladly take on the extra few pounds and curves. I got prescribed this birth control because of my ovarian cysts and since I have not had any problems with them. They&#039;ve been unnoticeable and my cramps don&#039;t even exist anymore. I love Apri and it&#039;s affordable. Just what I need in this economic clash.\"                                                                                                                                                                                                                                                                                                                  \n",
       "212048  \"I have taken Tamoxifen for 5 years. Side effects are severe sweating and depression. I have been taking Effexor XR longer than I have been on Tamoxifen. My Oncologist increased the Effexor dosage from 75 mg to 150 mg per day. She assure me the Effexor and Black Cohoosh would STOP the sweating...NOT. SWEATING INCREASED AND I AM MORE DEPRESSED THAN EVER. I had a sonogram last month that revealed a very small fibroid and fluid in my uterus. Got an appointment with GYN next week to see how she wants to handle the uterus problem. \"                                                                                                                                                                                                                                                                  \n",
       "212049  \"I&#039;ve been taking Lexapro (escitaploprgram) since February. First, I&#039;d like to mention that you can NOT take this drug for a week or less and expect to magically feel better; I felt really sick the first two weeks on this drug. But you HAVE to give the drug time. For me, I didn&#039;t really start noticing the drugs positive effects for about two months. I took Zoloft before this and felt like it made me too tired and absent-minded. Luckily, Lexapro doesn&#039;t seem to have this effect (although I do drink caffeinated drinks). I like Lexapro not only because my anxiety and depression is completely gone, but I feel like I can finally handle everything in my life now (I&#039;m a working full-time college student). I highly recommend this drug.\"                            \n",
       "212050  \"I&#039;m married, 34 years old and I have no kids. Taking the pill was such a hassle so I decided to get the Mirena. It was very painful when it was inserted,then had cramping for the rest of that day! For the first 6 weeks I spotted off and on and then my periods just stopped. I still got cramps every few months, but never needed to take anything. The 5th and final year of me having Mirena, I started to spot monthly. I called my OB, they just said that the levonorgestrel wears off over time. I made the decision that I was going to have another one put in. Taking the old one out didn&#039;t hurt at all, you feel a little pressure. Inserting the new one was less painful but still uncomfortable. It&#039;s been 4 days and I still have a little cramping but overall HAPPY.\"           \n",
       "212051  \"I was prescribed Nucynta for severe neck/shoulder pain. After taking only 2, 75mg pills I was rushed to the ER with severe breathing problems. I have never had any issues with pain medicines before.\"                                                                                                                                                                                                                                                                                                                                                                                                                                                                                                                                                                                                               \n",
       "212052  \"It works!!!\"                                                                                                                                                                                                                                                                                                                                                                                                                                                                                                                                                                                                                                                                                                                                                                                                          \n",
       "\n",
       "        rating       date  usefulCount  \\\n",
       "0       9      2012-05-20  27            \n",
       "1       8      2010-04-27  192           \n",
       "2       5      2009-12-14  17            \n",
       "3       8      2015-11-03  10            \n",
       "4       9      2016-11-27  37            \n",
       "5       2      2015-11-28  43            \n",
       "6       1      2017-03-07  5             \n",
       "7       10     2015-03-14  32            \n",
       "8       1      2016-08-09  11            \n",
       "9       8      2016-12-08  1             \n",
       "10      9      2015-01-01  19            \n",
       "11      10     2017-03-09  54            \n",
       "12      4      2013-07-06  8             \n",
       "13      4      2017-09-07  1             \n",
       "14      3      2014-08-07  10            \n",
       "15      9      2017-01-19  20            \n",
       "16      9      2017-09-22  0             \n",
       "17      9      2017-03-15  39            \n",
       "18      10     2014-11-09  18            \n",
       "19      10     2015-09-01  11            \n",
       "20      8      2010-07-09  11            \n",
       "21      10     2016-04-03  43            \n",
       "22      9      2014-08-11  11            \n",
       "23      10     2017-09-16  4             \n",
       "24      1      2017-04-17  7             \n",
       "25      7      2015-12-14  7             \n",
       "26      10     2014-05-11  99            \n",
       "27      10     2017-01-12  11            \n",
       "28      6      2015-06-01  47            \n",
       "29      8      2012-10-16  6             \n",
       "...    ..             ... ..             \n",
       "212023  10     2015-01-19  79            \n",
       "212024  6      2010-04-10  19            \n",
       "212025  3      2015-06-14  34            \n",
       "212026  10     2016-09-07  25            \n",
       "212027  10     2014-05-19  44            \n",
       "212028  3      2010-01-20  140           \n",
       "212029  10     2011-08-02  16            \n",
       "212030  10     2011-01-29  15            \n",
       "212031  10     2014-03-12  53            \n",
       "212032  10     2013-02-19  28            \n",
       "212033  8      2016-03-28  6             \n",
       "212034  1      2016-01-27  12            \n",
       "212035  8      2009-04-20  8             \n",
       "212036  8      2016-07-18  35            \n",
       "212037  1      2015-05-02  16            \n",
       "212038  1      2017-11-11  2             \n",
       "212039  8      2017-04-13  12            \n",
       "212040  10     2016-02-25  123           \n",
       "212041  2      2015-08-15  8             \n",
       "212042  8      2016-07-21  5             \n",
       "212043  10     2015-11-15  36            \n",
       "212044  10     2014-10-26  29            \n",
       "212045  1      2014-09-30  18            \n",
       "212046  6      2014-08-01  15            \n",
       "212047  9      2010-08-25  18            \n",
       "212048  10     2014-09-13  43            \n",
       "212049  9      2016-10-08  11            \n",
       "212050  8      2010-11-15  7             \n",
       "212051  1      2011-11-28  20            \n",
       "212052  9      2009-09-13  46            \n",
       "\n",
       "                                                                                                                                                                                                                                                                                                                                                                                                                                                     review_clean  \\\n",
       "0       no side effect take combin bystol mg fish oil                                                                                                                                                                                                                                                                                                                                                                                                               \n",
       "1       son halfway fourth week intuniv becam concern began last week start take highest dose two day could hard get bed cranki slept near hour drive home school vacat unusu call doctor monday morn said stick day see school get morn last two day problem free much agreeabl ever less emot good thing less cranki rememb thing overal behavior better tri mani differ medic far effect                                                                         \n",
       "2       use take anoth oral contracept pill cycl happi light period max day no side effect contain hormon gestoden not avail us switch lybrel ingredi similar pill end start lybrel immedi first day period instruct said period last two week take second pack two week third pack thing got even wors third period last two week end third week still daili brown discharg posit side side effect idea period free tempt ala                                      \n",
       "3       first time use form birth control glad went patch month first decreas libido subsid downsid made period longer day exact use period day max also made cramp intens first two day period never cramp use birth control happi patch                                                                                                                                                                                                                           \n",
       "4       suboxon complet turn life around feel healthier excel job alway money pocket save account none suboxon spent year abus oxycontin paycheck alreadi spent time got start resort scheme steal fund addict histori readi stop good chanc suboxon put path great life found side effect minim compar oxycontin actual sleep better slight constip truli amaz cost pale comparison spent oxycontin                                                                \n",
       "5       nd day mg start work rock hard erect howev experianc headach lower bowel preassur rd day erect would wake hurt leg ankl ach sever lower bowel preassur like need go enjoy initi rockhard erect not side effect month suppli work xs week not worth side effect                                                                                                                                                                                              \n",
       "6       pull cum bit took plan b hour later took pregnanc test two week later pregnant                                                                                                                                                                                                                                                                                                                                                                              \n",
       "7       abilifi chang life hope zoloft clonidin first start abilifi age zoloft depress clondin manag complet rage mood control depress hopeless one second mean irrat full rage next dr prescrib mg abilifi point feel like cure though know not bi polar disord constant battl know abilifi work tri get lost complet control emot went back golden mg x daili better ever past side effect like eat lot                                                           \n",
       "8       noth problem keppera constant shake arm leg pin needl feel arm leg sever light headed no appetit etc                                                                                                                                                                                                                                                                                                                                                        \n",
       "9       pill mani year doctor chang rx chateal effect realli help complet clear acn take month though not gain extra weight develop emot health issu stop take bc start use natur method birth control start take bc hate acn came back age realli hope symptom like depress weight gain not begin affect older also natur moodi may worsen thing negat mental rut today also hope push edg believ depress hope like younger                                        \n",
       "10      medic almost two week start mg work way mg current mg no headach far crippl migrain week lost lbs far note realli pay close attent eat lot weight lose weight loss side effect want help along much side effect word recal issu exist memori issu worst seem vision disturb time not driven sure would not safe good news seem wear ton energi great mood                                                                                                   \n",
       "11      taken anti depress year improv most moder sever side affect make go take cymbalta most pain began deplin notic major improv overnight energi better disposit no sink low low major depress take month feel like normal person first time ever best thing no side effect                                                                                                                                                                                     \n",
       "12      crohn resect year ago most remiss sinc recent bad flare narrow anastomosi need medic found one handl asacol gave serious bodi ach fatigu could not function pentasa immedi gave heart palpit arrhythmia discontinu                                                                                                                                                                                                                                          \n",
       "13      littl bit linger cough cold not give much troubl except keep night heard good took could get sleep help tremend cough bad stomach cramp diarrhea eaten anyth upset stomach realli feel like bug look side effect delsym wish done first probabl taken work cough still get sleep due stomach issu                                                                                                                                                           \n",
       "14      start nexplanon month ago minim amount contracept take due inabl take hormon use birth control tri give time one option right honest option get remov never acn problem life immedi broke get implant sex drive complet gone use sex boyfriend day week complet forc not even fun anymor mean birth control like sex want get pregnant take birth control take away sex unhappi hope get back time get remov                                                \n",
       "15      take saxenda sinc juli sever nausea month got dosag sinc subsid side effect notic dri mouth make sure drink litr water day glass help weight loss well constip reduc dose find comfort spot still lose weight feel like medic work well also feel wear fitbit realli help track food water exercis step keep move start could bare walk length without get wind lost lbs far                                                                                \n",
       "16      drug work well clear uti matter hrs although day cours x mg daili unfortun tablet finish infect return need nd cours current take low dose even keep infect bay specialist test normal get everi side effect go dread take new medic form especi horrif experi ciorofloxacin side effect experienc itchi ankl feet day two last third day would class minor side effect insignific good luck                                                                \n",
       "17      take amitriptylin sinc januari diagnos fibromyalgia tri cymbalta week dr decid sinc kept awak good fit even though reliev pain start mg week breakthrough pain dr increas dosag mg still dosag today first full year never pain felt cure time went seem help control pain still pain low manag level take around pm even avoid feel over drowsi morn med allow fair normal life                                                                            \n",
       "18      everi medicin sun seem manag hypomania mania bipolar within day start lamict tegretol someon turn light head way normal peopl think one first thing struck sleep like log no irrit almost no anger would consid normal abl focus creativ impuls thought decreas enough manag god send would perenni state hypo mania sound great physic emot exhaust libido mark lower wonder perhap effect not hypo manic take mg anxieti                                  \n",
       "19      tasigna year mg x time day tasigna work within week remiss basic entir year side effect feel sick stomach tire sever leg arm pain walk long without need break went work full time not work tire time hey remiss aliv realli problem nope                                                                                                                                                                                                                   \n",
       "20      spring hospit pnuemonia diagnos lyme dieas full blown aid cd count viral load number high million could never rememb take combivir kaletra dapson st year stop work start kaletra dapson cd count rise week aggress broke dish hous lol take vitamin supplement drink boost pluz everi day life good                                                                                                                                                        \n",
       "21      insomnia horribl stori begin pcp prescrib prozac help intestin issu desper tri week stop insomnia prescrib ativan addict rebound insomnia day hard sleep l tri doctor one time ask trazadon told good medic insomnia put mgs state may figur dosag best current take mgs low rang prescrib mgs high end insomnia dri mouth nasel congest live sleep yeah                                                                                                    \n",
       "22      nexplanon job worri free sex thing period sometim light sometim heavi sometim go away sometim show unexpect also feel somewhat depress not sure nexplanon not nexplanont month despit side effect effect birth control ever use not plan take                                                                                                                                                                                                               \n",
       "23      live western australia disturb comment cost embrel cost ordinari prescript govern pay remaind cost chemist also go medic centr everi saturday morn dr look prescript advis nurs administ inject also no cost part nurs duti unsur countri peopl made comment refer cost nobodi administ inject lucki live australia best health system worldwid everybodi given opportun receiv proper medic help whether rich poor no discrimin                            \n",
       "24      not use cream come turn hoo ha burn ring fire work tomorrow go sleepless night                                                                                                                                                                                                                                                                                                                                                                              \n",
       "25      prescrib one dose cours one day took pill mg light lunch nausea mild stomach pain upset lie not allevi discomfort threw hour later call doctor check need take anoth dose said bodi would absorb pill still experienc mild stomach pain nausea most gone                                                                                                                                                                                                    \n",
       "26      write second review vaniqa start use februari year twice day although day time forget want say delight found total complet chang life terribl male pattern hair growth cheek chin upper lower lip start grow neck use pluck hrs time everi rd day never hair free kiss anyon hello goodby even pluck stubbl could felt skin month im not scare caught bright sunlight pluck around fortnight take around min hair come soft downi life transform            \n",
       "27      hi son diagnos nd grade tri everyth medic tri med first one made loos weight fast second gave nasti tic thank went away soon stop med third work coupl year around januari last year start problem doctor recommend daytrana wonder son easi use handl day take get home school patch effect last long enough homework issu weight gain sleep use melatonin bed feel like not abl shut shortag kill us                                                      \n",
       "28      honest take ativan year mg twice daili help use tool panic attack not solut tri mani anti depress well cymbalta cipralex coupl best thing talk close friend famili even psychiatrist talk peopl vent honest best thing even though take lot power would love hear peopl opinion                                                                                                                                                                             \n",
       "29      first suffer includ split head pain nausea vomit start use excedrin help took right away start not work well anymor one realli bad one last hour still throw pm throw blood went er final got put iv hydrat ad imitrex bag soon start feel side effect head felt like go pass breath becam labor felt like someon sit chest said meant work two minut everyth gone got pill take home work okay not fast                                                    \n",
       "...                                                                                                                                                                                                                                                                                                                                                                                                          ...                                                    \n",
       "212023  ativan work start get panic attack no real reason except mayb aspartam caffein sometim emot not sure gotten panic attack ativan work sometim need three pill mg sometim need one take need not sure doctor go continu give definit need back kind make feel better think good                                                                                                                                                                               \n",
       "212024  major sleepi use morn even tire day long                                                                                                                                                                                                                                                                                                                                                                                                                    \n",
       "212025  took antibiot got yeast infect went drs prescrib monistat took day still experienc lot itch burn went back drs prescrib one dose pill took thursday afternoon felt nausea headach stomach ach side effect help burn pain next day sunday itch burn pain back go back drs tomorrow rd time half week want go away feel like need get second opinion                                                                                                          \n",
       "212026  ambien wonder sleep aid peopl troubl stay asleep medic take least year not built toler yet get bed take pose risk fall work quick make drowsi perhap dizzi help sleep hour without hangov effect unfortun nanni prescript insur inform not pay opioid pain medic ambien togeth choos medic want insur pay pay altern drug doctor suggest quit scari user review                                                                                             \n",
       "212027  mild barrett esophagus dexil mg month due loss health coverag not abl buy insur due pre exist condit dexil year obama care went effect abl purchas health insur doctor presscrib dexil mg twice day month recent upper endoscopi month take show esophagus line normal relief high recommend                                                                                                                                                                \n",
       "212028  first would like thank post comment read felt not alon not happen noth wrong one child mirena month insert almost painless first month fine right gain lbs loss sex drive headach back pain insomnia constip hair loss general depress cours go caus mood swing wait appoint remov anoth import aspect suffer postpartum depress birth child year ago honest worri side effect especi depress sign still not okay                                           \n",
       "212029  take year milligram no side effect                                                                                                                                                                                                                                                                                                                                                                                                                          \n",
       "212030  clarifoam ef wonder product rosacea seb derm thing sting burn actual work dermatologist told leav use halog hylatop plus foam moistur clean recommend cerav hydrat cleanser even gentl cetaphil                                                                                                                                                                                                                                                             \n",
       "212031  woman cuban puerto rican heritag pound wish could say genet alway seem famish like sweet seven month experi pound lighter start diet pound came got excit start bike first month speed thing side effect headach tire initi sleep easili get tempt pretti much anyth                                                                                                                                                                                        \n",
       "212032  clomipramin year basic save life suffer terribl panic attack stop straight away come mg tablet month felt good slowli panic attack came back mg feel good                                                                                                                                                                                                                                                                                                   \n",
       "212033  diarrhoea day minim sleep constant abdomin pain first start feel ill minor headach fever like second day throw noth left bodi feel weak restless third day diarrhoea everi hour leav feel drain night time imposs sleep constant bowel movement read imodium not think could use whilst virus take two start work took two bowel movement abdomin ach minuet start work                                                                                     \n",
       "212034  horribl smoker year tri chantix dream bad sleep hour day day go crazi sleep depriv attempt harm multipl time lost job boyfriend send kid fear might trust nobodi caus fear get breath whole left side went numb week medic ruin life still smoker feel safer                                                                                                                                                                                                \n",
       "212035  glad avail                                                                                                                                                                                                                                                                                                                                                                                                                                                  \n",
       "212036  year opioid heroin addict tri everyth methadon year suboxon year tri hard get suboxon horrid withdraw relaps heroin knew might die kept put detox plane leav stay rehab vivitrol suggest went back fourth decis still want drink final decid get shot side effect muscl spasm constant stretch felt great decreas appetit weight loss interact mgs clozepam hard explain high definit not one like much take bental stomac cramp get realli dip             \n",
       "212037  worst experi pill took one pill head start blast like crazi bad bad headach almost felt pass want go emerg room per day expens bad side effect not worth would probabl get phentermin                                                                                                                                                                                                                                                                       \n",
       "212038  took chantix littl month made psychot split take medic rest life say recommend put light drug allow market                                                                                                                                                                                                                                                                                                                                                  \n",
       "212039  first month take epclusa undetect                                                                                                                                                                                                                                                                                                                                                                                                                           \n",
       "212040  diagnos general anxieti disord would obsess thought non stop lose sleep sometim start take buspar mg twice day hand felt tingl head littl cloudi no real side affect increas mg immedi saw improv no obsess thought would normal slow work almost year no side affect                                                                                                                                                                                       \n",
       "212041  help crave chocol time not worth month                                                                                                                                                                                                                                                                                                                                                                                                                      \n",
       "212042  suffer excess tired lack energi consult gp altern treatment                                                                                                                                                                                                                                                                                                                                                                                                 \n",
       "212043  treatment adhd save life believ hype stigma around diagnosi treatment real condit real treatment make real profound differ live peopl debilit condit afraid seek help think might adhd not childhood ill opinion general consist persist form durat life like diseas                                                                                                                                                                                        \n",
       "212044  rd time take medicin first time shin bone hurt bad week time left thumb palm far hurt bad medicin work ail hope shin bone hurt bad time way prescript pill mg daili day                                                                                                                                                                                                                                                                                     \n",
       "212045  medicin kept sleep whole day bodi start shut eye would close mind would not let go sleep                                                                                                                                                                                                                                                                                                                                                                    \n",
       "212046  microgestin year past year start get extrem bad headach sugar pill week took extra strength tylenol entir week twice day still make headach go away also would feel lighthead nauseous leav work earli bad good thing box tampon entir year bare period oh yeah also got high pigment right lip call pregnanc mask get certain birth control dark difficult hide makeup not big fan weird skin mustach went                                                 \n",
       "212047  start take apri month ago breat got notic larger within first week gain pound thin girl anyway glad take extra pound curv got prescrib birth control ovarian cyst sinc not problem unnotic cramp even exist anymor love apri afford need econom clash                                                                                                                                                                                                       \n",
       "212048  taken tamoxifen year side effect sever sweat depress take effexor xr longer tamoxifen oncologist increas effexor dosag mg mg per day assur effexor black cohoosh would stop sweat not sweat increas depress ever sonogram last month reveal small fibroid fluid uterus got appoint gyn next week see want handl uterus problem                                                                                                                              \n",
       "212049  take lexapro escitaploprgram sinc februari first like mention not take drug week less expect magic feel better felt realli sick first two week drug give drug time realli start notic drug posit effect two month took zoloft felt like made tire absent mind luckili lexapro seem effect although drink caffein drink like lexapro not anxieti depress complet gone feel like final handl everyth life work full time colleg student high recommend drug   \n",
       "212050  marri year old no kid take pill hassl decid get mirena pain insert cramp rest day first week spot period stop still got cramp everi month never need take anyth th final year mirena start spot month call ob said levonorgestrel wear time made decis go anoth one put take old one hurt feel littl pressur insert new one less pain still uncomfort day still littl cramp overal happi                                                                    \n",
       "212051  prescrib nucynta sever neck shoulder pain take mg pill rush er sever breath problem never issu pain medicin                                                                                                                                                                                                                                                                                                                                                 \n",
       "212052  work                                                                                                                                                                                                                                                                                                                                                                                                                                                        \n",
       "\n",
       "        sentiment  \n",
       "0       1          \n",
       "1       1          \n",
       "2       0          \n",
       "3       1          \n",
       "4       1          \n",
       "5       0          \n",
       "6       0          \n",
       "7       1          \n",
       "8       0          \n",
       "9       1          \n",
       "10      1          \n",
       "11      1          \n",
       "12      0          \n",
       "13      0          \n",
       "14      0          \n",
       "15      1          \n",
       "16      1          \n",
       "17      1          \n",
       "18      1          \n",
       "19      1          \n",
       "20      1          \n",
       "21      1          \n",
       "22      1          \n",
       "23      1          \n",
       "24      0          \n",
       "25      1          \n",
       "26      1          \n",
       "27      1          \n",
       "28      1          \n",
       "29      1          \n",
       "...    ..          \n",
       "212023  1          \n",
       "212024  1          \n",
       "212025  0          \n",
       "212026  1          \n",
       "212027  1          \n",
       "212028  0          \n",
       "212029  1          \n",
       "212030  1          \n",
       "212031  1          \n",
       "212032  1          \n",
       "212033  1          \n",
       "212034  0          \n",
       "212035  1          \n",
       "212036  1          \n",
       "212037  0          \n",
       "212038  0          \n",
       "212039  1          \n",
       "212040  1          \n",
       "212041  0          \n",
       "212042  1          \n",
       "212043  1          \n",
       "212044  1          \n",
       "212045  0          \n",
       "212046  1          \n",
       "212047  1          \n",
       "212048  1          \n",
       "212049  1          \n",
       "212050  1          \n",
       "212051  0          \n",
       "212052  1          \n",
       "\n",
       "[212053 rows x 9 columns]"
      ]
     },
     "execution_count": 44,
     "metadata": {},
     "output_type": "execute_result"
    }
   ],
   "source": [
    "df_all"
   ]
  },
  {
   "cell_type": "code",
   "execution_count": 45,
   "metadata": {},
   "outputs": [],
   "source": [
    "from sklearn.model_selection import train_test_split\n",
    "df_train, df_test = train_test_split(df_all, test_size=0.33, random_state=42)"
   ]
  },
  {
   "cell_type": "code",
   "execution_count": 46,
   "metadata": {},
   "outputs": [
    {
     "data": {
      "text/plain": [
       "(142075, 9)"
      ]
     },
     "execution_count": 46,
     "metadata": {},
     "output_type": "execute_result"
    }
   ],
   "source": [
    "df_train.shape"
   ]
  },
  {
   "cell_type": "code",
   "execution_count": 47,
   "metadata": {},
   "outputs": [
    {
     "data": {
      "text/plain": [
       "(69978, 9)"
      ]
     },
     "execution_count": 47,
     "metadata": {},
     "output_type": "execute_result"
    }
   ],
   "source": [
    "df_test.shape"
   ]
  },
  {
   "cell_type": "code",
   "execution_count": 48,
   "metadata": {},
   "outputs": [],
   "source": [
    "from sklearn.feature_extraction.text import CountVectorizer\n",
    "from sklearn.pipeline import Pipeline\n",
    "\n",
    "vectorizer = CountVectorizer(analyzer = 'word', \n",
    "                             tokenizer = None,\n",
    "                             preprocessor = None, \n",
    "                             stop_words = None, \n",
    "                             min_df = 2,\n",
    "                             ngram_range=(4, 4),\n",
    "                             max_features = 20000\n",
    "                            )"
   ]
  },
  {
   "cell_type": "code",
   "execution_count": 49,
   "metadata": {},
   "outputs": [
    {
     "data": {
      "text/plain": [
       "CountVectorizer(analyzer='word', binary=False, decode_error='strict',\n",
       "        dtype=<class 'numpy.int64'>, encoding='utf-8', input='content',\n",
       "        lowercase=True, max_df=1.0, max_features=20000, min_df=2,\n",
       "        ngram_range=(4, 4), preprocessor=None, stop_words=None,\n",
       "        strip_accents=None, token_pattern='(?u)\\\\b\\\\w\\\\w+\\\\b',\n",
       "        tokenizer=None, vocabulary=None)"
      ]
     },
     "execution_count": 49,
     "metadata": {},
     "output_type": "execute_result"
    }
   ],
   "source": [
    "vectorizer"
   ]
  },
  {
   "cell_type": "code",
   "execution_count": 50,
   "metadata": {},
   "outputs": [],
   "source": [
    "pipeline = Pipeline([\n",
    "    ('vect', vectorizer),\n",
    "])"
   ]
  },
  {
   "cell_type": "code",
   "execution_count": 51,
   "metadata": {},
   "outputs": [],
   "source": [
    "train_data_features = pipeline.fit_transform(df_train['review_clean'])\n",
    "test_data_features = pipeline.fit_transform(df_test['review_clean'])"
   ]
  },
  {
   "cell_type": "code",
   "execution_count": 52,
   "metadata": {},
   "outputs": [],
   "source": [
    "from tensorflow.python.keras.models import Sequential\n",
    "from tensorflow.python.keras.layers import Dense, Bidirectional, LSTM, BatchNormalization, Dropout\n",
    "from tensorflow.python.keras.preprocessing.sequence import pad_sequences"
   ]
  },
  {
   "cell_type": "code",
   "execution_count": 53,
   "metadata": {},
   "outputs": [
    {
     "name": "stderr",
     "output_type": "stream",
     "text": [
      "Using TensorFlow backend.\n"
     ]
    }
   ],
   "source": [
    "import numpy as np\n",
    "import keras\n",
    "from keras.models import Sequential\n",
    "from keras.layers import Dense\n",
    "import random\n",
    "\n",
    "# 1. Dataset\n",
    "y_train = df_train['sentiment']\n",
    "y_test = df_test['sentiment']\n",
    "solution = y_test.copy()\n",
    "\n",
    "# 2. Model Structure\n",
    "model = keras.models.Sequential()\n",
    "\n",
    "model.add(keras.layers.Dense(200, input_shape=(20000,)))\n",
    "model.add(keras.layers.BatchNormalization())\n",
    "model.add(keras.layers.Activation('relu'))\n",
    "model.add(keras.layers.Dropout(0.5))\n",
    "\n",
    "model.add(keras.layers.Dense(300))\n",
    "model.add(keras.layers.BatchNormalization())\n",
    "model.add(keras.layers.Activation('relu'))\n",
    "model.add(keras.layers.Dropout(0.5))\n",
    "\n",
    "model.add(keras.layers.Dense(100, activation='relu'))\n",
    "model.add(keras.layers.Dense(1, activation='sigmoid'))\n",
    "\n",
    "# 3. Model compile\n",
    "model.compile(optimizer='adam', loss='binary_crossentropy', metrics=['accuracy'])"
   ]
  },
  {
   "cell_type": "markdown",
   "metadata": {},
   "source": [
    "### model.summary()"
   ]
  },
  {
   "cell_type": "code",
   "execution_count": 54,
   "metadata": {},
   "outputs": [
    {
     "name": "stdout",
     "output_type": "stream",
     "text": [
      "Epoch 1/10\n",
      "142075/142075 [==============================] - 348s 2ms/step - loss: 0.5805 - acc: 0.7139\n",
      "Epoch 2/10\n",
      "142075/142075 [==============================] - 334s 2ms/step - loss: 0.4987 - acc: 0.7584\n",
      "Epoch 3/10\n",
      "142075/142075 [==============================] - 301s 2ms/step - loss: 0.4625 - acc: 0.7752\n",
      "Epoch 4/10\n",
      "142075/142075 [==============================] - 314s 2ms/step - loss: 0.4419 - acc: 0.7840\n",
      "Epoch 5/10\n",
      "142075/142075 [==============================] - 325s 2ms/step - loss: 0.4283 - acc: 0.7898\n",
      "Epoch 6/10\n",
      "142075/142075 [==============================] - 340s 2ms/step - loss: 0.4184 - acc: 0.7944\n",
      "Epoch 7/10\n",
      "142075/142075 [==============================] - 302s 2ms/step - loss: 0.4121 - acc: 0.7973\n",
      "Epoch 8/10\n",
      "142075/142075 [==============================] - 317s 2ms/step - loss: 0.4067 - acc: 0.7996\n",
      "Epoch 9/10\n",
      "142075/142075 [==============================] - 376s 3ms/step - loss: 0.4015 - acc: 0.8019\n",
      "Epoch 10/10\n",
      "142075/142075 [==============================] - 390s 3ms/step - loss: 0.3967 - acc: 0.8037\n"
     ]
    },
    {
     "data": {
      "text/plain": [
       "(0.0, 1.0)"
      ]
     },
     "execution_count": 54,
     "metadata": {},
     "output_type": "execute_result"
    },
    {
     "data": {
      "text/plain": [
       "(0.0, 1.0)"
      ]
     },
     "execution_count": 54,
     "metadata": {},
     "output_type": "execute_result"
    },
    {
     "data": {
      "text/plain": [
       "[<matplotlib.lines.Line2D at 0x1aa6f94acf8>]"
      ]
     },
     "execution_count": 54,
     "metadata": {},
     "output_type": "execute_result"
    },
    {
     "data": {
      "text/plain": [
       "[<matplotlib.lines.Line2D at 0x1aa6f94ac88>]"
      ]
     },
     "execution_count": 54,
     "metadata": {},
     "output_type": "execute_result"
    },
    {
     "data": {
      "text/plain": [
       "Text(0.5,0,'epoch')"
      ]
     },
     "execution_count": 54,
     "metadata": {},
     "output_type": "execute_result"
    },
    {
     "data": {
      "text/plain": [
       "Text(0,0.5,'loss')"
      ]
     },
     "execution_count": 54,
     "metadata": {},
     "output_type": "execute_result"
    },
    {
     "data": {
      "text/plain": [
       "Text(0,0.5,'accuray')"
      ]
     },
     "execution_count": 54,
     "metadata": {},
     "output_type": "execute_result"
    },
    {
     "data": {
      "text/plain": [
       "<matplotlib.legend.Legend at 0x1aa6f9625c0>"
      ]
     },
     "execution_count": 54,
     "metadata": {},
     "output_type": "execute_result"
    },
    {
     "data": {
      "text/plain": [
       "<matplotlib.legend.Legend at 0x1aa6f9626a0>"
      ]
     },
     "execution_count": 54,
     "metadata": {},
     "output_type": "execute_result"
    },
    {
     "data": {
      "image/png": "[encoded data removed]",
      "text/plain": [
       "<matplotlib.figure.Figure at 0x1aa2e17c4e0>"
      ]
     },
     "metadata": {},
     "output_type": "display_data"
    },
    {
     "name": "stdout",
     "output_type": "stream",
     "text": [
      "69978/69978 [==============================] - 60s 855us/step\n",
      "loss_and_metrics : [1.0457850158539943, 0.6471319557541167]\n"
     ]
    }
   ],
   "source": [
    "hist = model.fit(train_data_features, y_train, epochs=10, batch_size=64)\n",
    "\n",
    "# 5. Traing process\n",
    "%matplotlib inline\n",
    "import matplotlib.pyplot as plt\n",
    "\n",
    "fig, loss_ax = plt.subplots()\n",
    "\n",
    "acc_ax = loss_ax.twinx()\n",
    "\n",
    "loss_ax.set_ylim([0.0, 1.0])\n",
    "acc_ax.set_ylim([0.0, 1.0])\n",
    "\n",
    "loss_ax.plot(hist.history['loss'], 'y', label='train loss')\n",
    "acc_ax.plot(hist.history['acc'], 'b', label='train acc')\n",
    "\n",
    "loss_ax.set_xlabel('epoch')\n",
    "loss_ax.set_ylabel('loss')\n",
    "acc_ax.set_ylabel('accuray')\n",
    "\n",
    "loss_ax.legend(loc='upper left')\n",
    "acc_ax.legend(loc='lower left')\n",
    "\n",
    "plt.show()\n",
    "\n",
    "# 6. Evaluation\n",
    "loss_and_metrics = model.evaluate(test_data_features, y_test, batch_size=32)\n",
    "print('loss_and_metrics : ' + str(loss_and_metrics))"
   ]
  },
  {
   "cell_type": "code",
   "execution_count": 55,
   "metadata": {},
   "outputs": [],
   "source": [
    "sub_preds_deep = model.predict(test_data_features,batch_size=32)"
   ]
  },
  {
   "cell_type": "code",
   "execution_count": 56,
   "metadata": {},
   "outputs": [
    {
     "name": "stdout",
     "output_type": "stream",
     "text": [
      "Requirement already satisfied: lightgbm in c:\\users\\somes\\anaconda3\\lib\\site-packages (2.3.1)\n",
      "Requirement already satisfied: scipy in c:\\users\\somes\\anaconda3\\lib\\site-packages (from lightgbm) (1.0.1)\n",
      "Requirement already satisfied: numpy in c:\\users\\somes\\anaconda3\\lib\\site-packages (from lightgbm) (1.15.0)\n",
      "Requirement already satisfied: scikit-learn in c:\\users\\somes\\anaconda3\\lib\\site-packages (from lightgbm) (0.20.4)\n"
     ]
    }
   ],
   "source": [
    "!pip install lightgbm"
   ]
  },
  {
   "cell_type": "code",
   "execution_count": 57,
   "metadata": {},
   "outputs": [
    {
     "name": "stdout",
     "output_type": "stream",
     "text": [
      "Training until validation scores don't improve for 100 rounds\n",
      "[100]\ttraining's binary_logloss: 0.570406\tvalid_1's binary_logloss: 0.572234\n",
      "[200]\ttraining's binary_logloss: 0.570206\tvalid_1's binary_logloss: 0.572221\n",
      "Early stopping, best iteration is:\n",
      "[168]\ttraining's binary_logloss: 0.570241\tvalid_1's binary_logloss: 0.572209\n"
     ]
    },
    {
     "data": {
      "text/plain": [
       "LGBMClassifier(boosting_type='gbdt', class_weight=None, colsample_bytree=1.0,\n",
       "        importance_type='split', learning_rate=0.05, max_depth=7,\n",
       "        min_child_samples=20, min_child_weight=2, min_split_gain=0.01,\n",
       "        n_estimators=2000, n_jobs=-1, num_leaves=30, objective=None,\n",
       "        random_state=None, reg_alpha=0.1, reg_lambda=0.1, silent=-1,\n",
       "        subsample=0.9, subsample_for_bin=200000, subsample_freq=0,\n",
       "        verbose=-1)"
      ]
     },
     "execution_count": 57,
     "metadata": {},
     "output_type": "execute_result"
    }
   ],
   "source": [
    "from sklearn.metrics import roc_auc_score, precision_recall_curve, roc_curve, average_precision_score\n",
    "from sklearn.model_selection import KFold\n",
    "from lightgbm import LGBMClassifier\n",
    "from sklearn.metrics import confusion_matrix\n",
    "\n",
    "#folds = KFold(n_splits=5, shuffle=True, random_state=546789)\n",
    "target = df_train['sentiment']\n",
    "feats = ['usefulCount']\n",
    "\n",
    "sub_preds = np.zeros(df_test.shape[0])\n",
    "\n",
    "trn_x, val_x, trn_y, val_y = train_test_split(df_train[feats], target, test_size=0.2, random_state=42) \n",
    "feature_importance_df = pd.DataFrame() \n",
    "    \n",
    "clf = LGBMClassifier(\n",
    "        n_estimators=2000,\n",
    "        learning_rate=0.05,\n",
    "        num_leaves=30,\n",
    "        #colsample_bytree=.9,\n",
    "        subsample=.9,\n",
    "        max_depth=7,\n",
    "        reg_alpha=.1,\n",
    "        reg_lambda=.1,\n",
    "        min_split_gain=.01,\n",
    "        min_child_weight=2,\n",
    "        silent=-1,\n",
    "        verbose=-1,\n",
    "        )\n",
    "        \n",
    "clf.fit(trn_x, trn_y, \n",
    "        eval_set= [(trn_x, trn_y), (val_x, val_y)], \n",
    "        verbose=100, early_stopping_rounds=100  #30\n",
    "    )\n",
    "\n",
    "sub_preds = clf.predict(df_test[feats])\n",
    "        \n",
    "fold_importance_df = pd.DataFrame()\n",
    "fold_importance_df[\"feature\"] = feats\n",
    "fold_importance_df[\"importance\"] = clf.feature_importances_\n",
    "feature_importance_df = pd.concat([feature_importance_df, fold_importance_df], axis=0)"
   ]
  },
  {
   "cell_type": "code",
   "execution_count": 58,
   "metadata": {},
   "outputs": [
    {
     "data": {
      "text/plain": [
       "array([[    0, 21009],\n",
       "       [    0, 48969]], dtype=int64)"
      ]
     },
     "execution_count": 58,
     "metadata": {},
     "output_type": "execute_result"
    }
   ],
   "source": [
    "solution = df_test['sentiment']\n",
    "confusion_matrix(y_pred=sub_preds, y_true=solution)"
   ]
  },
  {
   "cell_type": "code",
   "execution_count": 59,
   "metadata": {},
   "outputs": [
    {
     "data": {
      "text/plain": [
       "12583"
      ]
     },
     "execution_count": 59,
     "metadata": {},
     "output_type": "execute_result"
    }
   ],
   "source": [
    "len_train = df_train.shape[0]\n",
    "df_all = pd.concat([df_train,df_test])\n",
    "del df_train, df_test;\n",
    "gc.collect()"
   ]
  },
  {
   "cell_type": "code",
   "execution_count": 60,
   "metadata": {},
   "outputs": [],
   "source": [
    "df_all['date'] = pd.to_datetime(df_all['date'])\n",
    "df_all['day'] = df_all['date'].dt.day\n",
    "df_all['year'] = df_all['date'].dt.year\n",
    "df_all['month'] = df_all['date'].dt.month"
   ]
  },
  {
   "cell_type": "code",
   "execution_count": 61,
   "metadata": {},
   "outputs": [
    {
     "name": "stdout",
     "output_type": "stream",
     "text": [
      "Requirement already satisfied: textblob in c:\\users\\somes\\anaconda3\\lib\\site-packages (0.15.3)\n",
      "Requirement already satisfied: nltk>=3.1 in c:\\users\\somes\\anaconda3\\lib\\site-packages (from textblob) (3.2.5)\n",
      "Requirement already satisfied: six in c:\\users\\somes\\anaconda3\\lib\\site-packages (from nltk>=3.1->textblob) (1.11.0)\n"
     ]
    }
   ],
   "source": [
    "!pip install textblob"
   ]
  },
  {
   "cell_type": "code",
   "execution_count": 62,
   "metadata": {},
   "outputs": [
    {
     "name": "stderr",
     "output_type": "stream",
     "text": [
      "100%|████████████████████████████████████████████████████████████████████████| 212053/212053 [03:11<00:00, 1106.37it/s]\n"
     ]
    },
    {
     "data": {
      "text/html": [
       "<div>\n",
       "<style scoped>\n",
       "    .dataframe tbody tr th:only-of-type {\n",
       "        vertical-align: middle;\n",
       "    }\n",
       "\n",
       "    .dataframe tbody tr th {\n",
       "        vertical-align: top;\n",
       "    }\n",
       "\n",
       "    .dataframe thead th {\n",
       "        text-align: right;\n",
       "    }\n",
       "</style>\n",
       "<table border=\"1\" class=\"dataframe\">\n",
       "  <thead>\n",
       "    <tr style=\"text-align: right;\">\n",
       "      <th></th>\n",
       "      <th>uniqueID</th>\n",
       "      <th>drugName</th>\n",
       "      <th>condition</th>\n",
       "      <th>review</th>\n",
       "      <th>rating</th>\n",
       "      <th>date</th>\n",
       "      <th>usefulCount</th>\n",
       "      <th>review_clean</th>\n",
       "      <th>sentiment</th>\n",
       "      <th>day</th>\n",
       "      <th>year</th>\n",
       "      <th>month</th>\n",
       "      <th>Predict_Sentiment</th>\n",
       "    </tr>\n",
       "  </thead>\n",
       "  <tbody>\n",
       "    <tr>\n",
       "      <th>130185</th>\n",
       "      <td>66913</td>\n",
       "      <td>Seroquel</td>\n",
       "      <td>Generalized Anxiety Disorde</td>\n",
       "      <td>\"After trying nearly every SSRI on the market I was placed on Pristiq, which improved my condition somewhat, but still left me dependent on Xanax to alleviate my daily anxiety. After a particularly bad stretch I was also placed on Seroquel XR. It has helped more than I could have ever hoped for. I finally don&amp;#039;t have to reach for a Xanax as soon as I wake up. It was very sedating for the first week after I started, and after increasing my dosage, but this has lessened with time. I do make sure to take it before bed, as it does make me tired as it kicks in, but I welcome this due to my problems with insomnia.\"</td>\n",
       "      <td>9</td>\n",
       "      <td>2010-11-26</td>\n",
       "      <td>102</td>\n",
       "      <td>tri near everi ssri market place pristiq improv condit somewhat still left depend xanax allevi daili anxieti particular bad stretch also place seroquel xr help could ever hope final reach xanax soon wake sedat first week start increas dosag lessen time make sure take bed make tire kick welcom due problem insomnia</td>\n",
       "      <td>1</td>\n",
       "      <td>26</td>\n",
       "      <td>2010</td>\n",
       "      <td>11</td>\n",
       "      <td>0.023958</td>\n",
       "    </tr>\n",
       "    <tr>\n",
       "      <th>155501</th>\n",
       "      <td>222222</td>\n",
       "      <td>Fluconazole</td>\n",
       "      <td>Onychomycosis, Toenail</td>\n",
       "      <td>\"This takes 6+ months, but did clear up a decades long infection.\"</td>\n",
       "      <td>9</td>\n",
       "      <td>2008-05-03</td>\n",
       "      <td>39</td>\n",
       "      <td>take month clear decad long infect</td>\n",
       "      <td>1</td>\n",
       "      <td>3</td>\n",
       "      <td>2008</td>\n",
       "      <td>5</td>\n",
       "      <td>0.025000</td>\n",
       "    </tr>\n",
       "    <tr>\n",
       "      <th>75325</th>\n",
       "      <td>75807</td>\n",
       "      <td>Temazepam</td>\n",
       "      <td>Insomnia</td>\n",
       "      <td>\"Worked for awhile pretty well but then went back to maybe getting 2 hours of sleep a night if i was lucky! I need help and i feel so anxious i need something to help me with this horrible insomnia.\"</td>\n",
       "      <td>2</td>\n",
       "      <td>2016-04-21</td>\n",
       "      <td>15</td>\n",
       "      <td>work awhil pretti well went back mayb get hour sleep night lucki need help feel anxious need someth help horribl insomnia</td>\n",
       "      <td>0</td>\n",
       "      <td>21</td>\n",
       "      <td>2016</td>\n",
       "      <td>4</td>\n",
       "      <td>-0.125000</td>\n",
       "    </tr>\n",
       "    <tr>\n",
       "      <th>19174</th>\n",
       "      <td>229747</td>\n",
       "      <td>Ketamine</td>\n",
       "      <td>Pain</td>\n",
       "      <td>\"I was given this after surgery for pain as I can&amp;#039;t have morphine and they tried 5 other drugs to sort me out before this. Omg I went on a wild trip I went thru dimensions of colour and walls, I couldn&amp;#039;t get back into my body I thought I had died. Scary scary stuff. When I came out of the trip I was dizzy and seeing double, my pain was gone but didn&amp;#039;t enjoy the experience at all.\"</td>\n",
       "      <td>1</td>\n",
       "      <td>2016-04-16</td>\n",
       "      <td>19</td>\n",
       "      <td>given surgeri pain morphin tri drug sort omg went wild trip went thru dimens colour wall get back bodi thought die scari scari stuff came trip dizzi see doubl pain gone enjoy experi</td>\n",
       "      <td>0</td>\n",
       "      <td>16</td>\n",
       "      <td>2016</td>\n",
       "      <td>4</td>\n",
       "      <td>0.166667</td>\n",
       "    </tr>\n",
       "    <tr>\n",
       "      <th>209735</th>\n",
       "      <td>102495</td>\n",
       "      <td>Aripiprazole</td>\n",
       "      <td>Major Depressive Disorde</td>\n",
       "      <td>\"Abilify served me well over a two month period. Of all of the antidepressants that I have taken over the past 20 years, I would give Abilify the highest rating. However, one of its potential side effects can be significantly increased blood glucose levels  in some Type 1 diabetics. Unfortunately I was one of these and I was never able to control these levels within an acceptable range and I had to discontinue Abilify as a result. These statements should be taken with caution since I was only able to take the drug for 8 weeks. I noted no other serious side-effects. I do suffer from ED but this is as much a result of 40 years of Type 1 diabetes as of any other factor.\"</td>\n",
       "      <td>9</td>\n",
       "      <td>2016-12-16</td>\n",
       "      <td>5</td>\n",
       "      <td>abilifi serv well two month period antidepress taken past year would give abilifi highest rate howev one potenti side effect signific increas blood glucos level type diabet unfortun one never abl control level within accept rang discontinu abilifi result statement taken caution sinc abl take drug week note no serious side effect suffer ed much result year type diabet factor</td>\n",
       "      <td>1</td>\n",
       "      <td>16</td>\n",
       "      <td>2016</td>\n",
       "      <td>12</td>\n",
       "      <td>0.038889</td>\n",
       "    </tr>\n",
       "  </tbody>\n",
       "</table>\n",
       "</div>"
      ],
      "text/plain": [
       "        uniqueID      drugName                    condition  \\\n",
       "130185  66913     Seroquel      Generalized Anxiety Disorde   \n",
       "155501  222222    Fluconazole   Onychomycosis, Toenail        \n",
       "75325   75807     Temazepam     Insomnia                      \n",
       "19174   229747    Ketamine      Pain                          \n",
       "209735  102495    Aripiprazole  Major Depressive Disorde      \n",
       "\n",
       "                                                                                                                                                                                                                                                                                                                                                                                                                                                                                                                                                                                                                                                                                                      review  \\\n",
       "130185  \"After trying nearly every SSRI on the market I was placed on Pristiq, which improved my condition somewhat, but still left me dependent on Xanax to alleviate my daily anxiety. After a particularly bad stretch I was also placed on Seroquel XR. It has helped more than I could have ever hoped for. I finally don&#039;t have to reach for a Xanax as soon as I wake up. It was very sedating for the first week after I started, and after increasing my dosage, but this has lessened with time. I do make sure to take it before bed, as it does make me tired as it kicks in, but I welcome this due to my problems with insomnia.\"                                                           \n",
       "155501  \"This takes 6+ months, but did clear up a decades long infection.\"                                                                                                                                                                                                                                                                                                                                                                                                                                                                                                                                                                                                                                     \n",
       "75325   \"Worked for awhile pretty well but then went back to maybe getting 2 hours of sleep a night if i was lucky! I need help and i feel so anxious i need something to help me with this horrible insomnia.\"                                                                                                                                                                                                                                                                                                                                                                                                                                                                                                \n",
       "19174   \"I was given this after surgery for pain as I can&#039;t have morphine and they tried 5 other drugs to sort me out before this. Omg I went on a wild trip I went thru dimensions of colour and walls, I couldn&#039;t get back into my body I thought I had died. Scary scary stuff. When I came out of the trip I was dizzy and seeing double, my pain was gone but didn&#039;t enjoy the experience at all.\"                                                                                                                                                                                                                                                                                         \n",
       "209735  \"Abilify served me well over a two month period. Of all of the antidepressants that I have taken over the past 20 years, I would give Abilify the highest rating. However, one of its potential side effects can be significantly increased blood glucose levels  in some Type 1 diabetics. Unfortunately I was one of these and I was never able to control these levels within an acceptable range and I had to discontinue Abilify as a result. These statements should be taken with caution since I was only able to take the drug for 8 weeks. I noted no other serious side-effects. I do suffer from ED but this is as much a result of 40 years of Type 1 diabetes as of any other factor.\"   \n",
       "\n",
       "        rating       date  usefulCount  \\\n",
       "130185  9      2010-11-26  102           \n",
       "155501  9      2008-05-03  39            \n",
       "75325   2      2016-04-21  15            \n",
       "19174   1      2016-04-16  19            \n",
       "209735  9      2016-12-16  5             \n",
       "\n",
       "                                                                                                                                                                                                                                                                                                                                                                                    review_clean  \\\n",
       "130185  tri near everi ssri market place pristiq improv condit somewhat still left depend xanax allevi daili anxieti particular bad stretch also place seroquel xr help could ever hope final reach xanax soon wake sedat first week start increas dosag lessen time make sure take bed make tire kick welcom due problem insomnia                                                                 \n",
       "155501  take month clear decad long infect                                                                                                                                                                                                                                                                                                                                                         \n",
       "75325   work awhil pretti well went back mayb get hour sleep night lucki need help feel anxious need someth help horribl insomnia                                                                                                                                                                                                                                                                  \n",
       "19174   given surgeri pain morphin tri drug sort omg went wild trip went thru dimens colour wall get back bodi thought die scari scari stuff came trip dizzi see doubl pain gone enjoy experi                                                                                                                                                                                                      \n",
       "209735  abilifi serv well two month period antidepress taken past year would give abilifi highest rate howev one potenti side effect signific increas blood glucos level type diabet unfortun one never abl control level within accept rang discontinu abilifi result statement taken caution sinc abl take drug week note no serious side effect suffer ed much result year type diabet factor   \n",
       "\n",
       "        sentiment  day  year  month  Predict_Sentiment  \n",
       "130185  1          26   2010  11     0.023958           \n",
       "155501  1          3    2008  5      0.025000           \n",
       "75325   0          21   2016  4     -0.125000           \n",
       "19174   0          16   2016  4      0.166667           \n",
       "209735  1          16   2016  12     0.038889           "
      ]
     },
     "execution_count": 62,
     "metadata": {},
     "output_type": "execute_result"
    }
   ],
   "source": [
    "from textblob import TextBlob\n",
    "from tqdm import tqdm\n",
    "reviews = df_all['review_clean']\n",
    "\n",
    "Predict_Sentiment = []\n",
    "for review in tqdm(reviews):\n",
    "    blob = TextBlob(review)\n",
    "    Predict_Sentiment += [blob.sentiment.polarity]\n",
    "df_all[\"Predict_Sentiment\"] = Predict_Sentiment\n",
    "df_all.head()"
   ]
  },
  {
   "cell_type": "code",
   "execution_count": 63,
   "metadata": {},
   "outputs": [
    {
     "data": {
      "text/plain": [
       "array([[1.        , 0.25709864],\n",
       "       [0.25709864, 1.        ]])"
      ]
     },
     "execution_count": 63,
     "metadata": {},
     "output_type": "execute_result"
    }
   ],
   "source": [
    "np.corrcoef(df_all[\"Predict_Sentiment\"], df_all[\"rating\"])"
   ]
  },
  {
   "cell_type": "code",
   "execution_count": 64,
   "metadata": {},
   "outputs": [
    {
     "data": {
      "text/plain": [
       "array([[1.        , 0.23518272],\n",
       "       [0.23518272, 1.        ]])"
      ]
     },
     "execution_count": 64,
     "metadata": {},
     "output_type": "execute_result"
    }
   ],
   "source": [
    "np.corrcoef(df_all[\"Predict_Sentiment\"], df_all[\"sentiment\"])"
   ]
  },
  {
   "cell_type": "code",
   "execution_count": 65,
   "metadata": {},
   "outputs": [],
   "source": [
    "\n",
    "df_all['count_sent']=df_all[\"review\"].apply(lambda x: len(re.findall(\"\\n\",str(x)))+1)\n",
    "\n",
    "#Word count in each comment:\n",
    "df_all['count_word']=df_all[\"review_clean\"].apply(lambda x: len(str(x).split()))\n",
    "\n",
    "#Unique word count\n",
    "df_all['count_unique_word']=df_all[\"review_clean\"].apply(lambda x: len(set(str(x).split())))\n",
    "\n",
    "#Letter count\n",
    "df_all['count_letters']=df_all[\"review_clean\"].apply(lambda x: len(str(x)))\n",
    "\n",
    "#punctuation count\n",
    "df_all[\"count_punctuations\"] = df_all[\"review\"].apply(lambda x: len([c for c in str(x) if c in string.punctuation]))\n",
    "\n",
    "#upper case words count\n",
    "df_all[\"count_words_upper\"] = df_all[\"review\"].apply(lambda x: len([w for w in str(x).split() if w.isupper()]))\n",
    "\n",
    "#title case words count\n",
    "df_all[\"count_words_title\"] = df_all[\"review\"].apply(lambda x: len([w for w in str(x).split() if w.istitle()]))\n",
    "\n",
    "#Number of stopwords\n",
    "df_all[\"count_stopwords\"] = df_all[\"review\"].apply(lambda x: len([w for w in str(x).lower().split() if w in stops]))\n",
    "\n",
    "#Average length of the wordsb\n",
    "df_all[\"mean_word_len\"] = df_all[\"review_clean\"].apply(lambda x: np.mean([len(w) for w in str(x).split()]))"
   ]
  },
  {
   "cell_type": "code",
   "execution_count": 66,
   "metadata": {},
   "outputs": [],
   "source": [
    "df_all['season'] = df_all[\"month\"].apply(lambda x: 1 if ((x>2) & (x<6)) else(2 if (x>5) & (x<9) else (3 if (x>8) & (x<12) else 4)))"
   ]
  },
  {
   "cell_type": "code",
   "execution_count": 67,
   "metadata": {},
   "outputs": [],
   "source": [
    "df_train = df_all[:len_train]\n",
    "df_test = df_all[len_train:]"
   ]
  },
  {
   "cell_type": "code",
   "execution_count": 68,
   "metadata": {},
   "outputs": [
    {
     "data": {
      "text/html": [
       "<div>\n",
       "<style scoped>\n",
       "    .dataframe tbody tr th:only-of-type {\n",
       "        vertical-align: middle;\n",
       "    }\n",
       "\n",
       "    .dataframe tbody tr th {\n",
       "        vertical-align: top;\n",
       "    }\n",
       "\n",
       "    .dataframe thead th {\n",
       "        text-align: right;\n",
       "    }\n",
       "</style>\n",
       "<table border=\"1\" class=\"dataframe\">\n",
       "  <thead>\n",
       "    <tr style=\"text-align: right;\">\n",
       "      <th></th>\n",
       "      <th>uniqueID</th>\n",
       "      <th>drugName</th>\n",
       "      <th>condition</th>\n",
       "      <th>review</th>\n",
       "      <th>rating</th>\n",
       "      <th>date</th>\n",
       "      <th>usefulCount</th>\n",
       "      <th>review_clean</th>\n",
       "      <th>sentiment</th>\n",
       "      <th>day</th>\n",
       "      <th>year</th>\n",
       "      <th>month</th>\n",
       "      <th>Predict_Sentiment</th>\n",
       "      <th>count_sent</th>\n",
       "      <th>count_word</th>\n",
       "      <th>count_unique_word</th>\n",
       "      <th>count_letters</th>\n",
       "      <th>count_punctuations</th>\n",
       "      <th>count_words_upper</th>\n",
       "      <th>count_words_title</th>\n",
       "      <th>count_stopwords</th>\n",
       "      <th>mean_word_len</th>\n",
       "      <th>season</th>\n",
       "    </tr>\n",
       "  </thead>\n",
       "  <tbody>\n",
       "    <tr>\n",
       "      <th>130185</th>\n",
       "      <td>66913</td>\n",
       "      <td>Seroquel</td>\n",
       "      <td>Generalized Anxiety Disorde</td>\n",
       "      <td>\"After trying nearly every SSRI on the market I was placed on Pristiq, which improved my condition somewhat, but still left me dependent on Xanax to alleviate my daily anxiety. After a particularly bad stretch I was also placed on Seroquel XR. It has helped more than I could have ever hoped for. I finally don&amp;#039;t have to reach for a Xanax as soon as I wake up. It was very sedating for the first week after I started, and after increasing my dosage, but this has lessened with time. I do make sure to take it before bed, as it does make me tired as it kicks in, but I welcome this due to my problems with insomnia.\"</td>\n",
       "      <td>9</td>\n",
       "      <td>2010-11-26</td>\n",
       "      <td>102</td>\n",
       "      <td>tri near everi ssri market place pristiq improv condit somewhat still left depend xanax allevi daili anxieti particular bad stretch also place seroquel xr help could ever hope final reach xanax soon wake sedat first week start increas dosag lessen time make sure take bed make tire kick welcom due problem insomnia</td>\n",
       "      <td>1</td>\n",
       "      <td>26</td>\n",
       "      <td>2010</td>\n",
       "      <td>11</td>\n",
       "      <td>0.023958</td>\n",
       "      <td>1</td>\n",
       "      <td>52</td>\n",
       "      <td>49</td>\n",
       "      <td>314</td>\n",
       "      <td>17</td>\n",
       "      <td>10</td>\n",
       "      <td>16</td>\n",
       "      <td>62</td>\n",
       "      <td>5.057692</td>\n",
       "      <td>3</td>\n",
       "    </tr>\n",
       "    <tr>\n",
       "      <th>155501</th>\n",
       "      <td>222222</td>\n",
       "      <td>Fluconazole</td>\n",
       "      <td>Onychomycosis, Toenail</td>\n",
       "      <td>\"This takes 6+ months, but did clear up a decades long infection.\"</td>\n",
       "      <td>9</td>\n",
       "      <td>2008-05-03</td>\n",
       "      <td>39</td>\n",
       "      <td>take month clear decad long infect</td>\n",
       "      <td>1</td>\n",
       "      <td>3</td>\n",
       "      <td>2008</td>\n",
       "      <td>5</td>\n",
       "      <td>0.025000</td>\n",
       "      <td>1</td>\n",
       "      <td>6</td>\n",
       "      <td>6</td>\n",
       "      <td>34</td>\n",
       "      <td>5</td>\n",
       "      <td>0</td>\n",
       "      <td>1</td>\n",
       "      <td>4</td>\n",
       "      <td>4.833333</td>\n",
       "      <td>1</td>\n",
       "    </tr>\n",
       "    <tr>\n",
       "      <th>75325</th>\n",
       "      <td>75807</td>\n",
       "      <td>Temazepam</td>\n",
       "      <td>Insomnia</td>\n",
       "      <td>\"Worked for awhile pretty well but then went back to maybe getting 2 hours of sleep a night if i was lucky! I need help and i feel so anxious i need something to help me with this horrible insomnia.\"</td>\n",
       "      <td>2</td>\n",
       "      <td>2016-04-21</td>\n",
       "      <td>15</td>\n",
       "      <td>work awhil pretti well went back mayb get hour sleep night lucki need help feel anxious need someth help horribl insomnia</td>\n",
       "      <td>0</td>\n",
       "      <td>21</td>\n",
       "      <td>2016</td>\n",
       "      <td>4</td>\n",
       "      <td>-0.125000</td>\n",
       "      <td>1</td>\n",
       "      <td>21</td>\n",
       "      <td>19</td>\n",
       "      <td>121</td>\n",
       "      <td>4</td>\n",
       "      <td>1</td>\n",
       "      <td>2</td>\n",
       "      <td>18</td>\n",
       "      <td>4.809524</td>\n",
       "      <td>1</td>\n",
       "    </tr>\n",
       "    <tr>\n",
       "      <th>19174</th>\n",
       "      <td>229747</td>\n",
       "      <td>Ketamine</td>\n",
       "      <td>Pain</td>\n",
       "      <td>\"I was given this after surgery for pain as I can&amp;#039;t have morphine and they tried 5 other drugs to sort me out before this. Omg I went on a wild trip I went thru dimensions of colour and walls, I couldn&amp;#039;t get back into my body I thought I had died. Scary scary stuff. When I came out of the trip I was dizzy and seeing double, my pain was gone but didn&amp;#039;t enjoy the experience at all.\"</td>\n",
       "      <td>1</td>\n",
       "      <td>2016-04-16</td>\n",
       "      <td>19</td>\n",
       "      <td>given surgeri pain morphin tri drug sort omg went wild trip went thru dimens colour wall get back bodi thought die scari scari stuff came trip dizzi see doubl pain gone enjoy experi</td>\n",
       "      <td>0</td>\n",
       "      <td>16</td>\n",
       "      <td>2016</td>\n",
       "      <td>4</td>\n",
       "      <td>0.166667</td>\n",
       "      <td>1</td>\n",
       "      <td>33</td>\n",
       "      <td>29</td>\n",
       "      <td>181</td>\n",
       "      <td>17</td>\n",
       "      <td>9</td>\n",
       "      <td>12</td>\n",
       "      <td>39</td>\n",
       "      <td>4.515152</td>\n",
       "      <td>1</td>\n",
       "    </tr>\n",
       "    <tr>\n",
       "      <th>209735</th>\n",
       "      <td>102495</td>\n",
       "      <td>Aripiprazole</td>\n",
       "      <td>Major Depressive Disorde</td>\n",
       "      <td>\"Abilify served me well over a two month period. Of all of the antidepressants that I have taken over the past 20 years, I would give Abilify the highest rating. However, one of its potential side effects can be significantly increased blood glucose levels  in some Type 1 diabetics. Unfortunately I was one of these and I was never able to control these levels within an acceptable range and I had to discontinue Abilify as a result. These statements should be taken with caution since I was only able to take the drug for 8 weeks. I noted no other serious side-effects. I do suffer from ED but this is as much a result of 40 years of Type 1 diabetes as of any other factor.\"</td>\n",
       "      <td>9</td>\n",
       "      <td>2016-12-16</td>\n",
       "      <td>5</td>\n",
       "      <td>abilifi serv well two month period antidepress taken past year would give abilifi highest rate howev one potenti side effect signific increas blood glucos level type diabet unfortun one never abl control level within accept rang discontinu abilifi result statement taken caution sinc abl take drug week note no serious side effect suffer ed much result year type diabet factor</td>\n",
       "      <td>1</td>\n",
       "      <td>16</td>\n",
       "      <td>2016</td>\n",
       "      <td>12</td>\n",
       "      <td>0.038889</td>\n",
       "      <td>1</td>\n",
       "      <td>60</td>\n",
       "      <td>48</td>\n",
       "      <td>376</td>\n",
       "      <td>12</td>\n",
       "      <td>9</td>\n",
       "      <td>17</td>\n",
       "      <td>62</td>\n",
       "      <td>5.283333</td>\n",
       "      <td>4</td>\n",
       "    </tr>\n",
       "  </tbody>\n",
       "</table>\n",
       "</div>"
      ],
      "text/plain": [
       "        uniqueID      drugName                    condition  \\\n",
       "130185  66913     Seroquel      Generalized Anxiety Disorde   \n",
       "155501  222222    Fluconazole   Onychomycosis, Toenail        \n",
       "75325   75807     Temazepam     Insomnia                      \n",
       "19174   229747    Ketamine      Pain                          \n",
       "209735  102495    Aripiprazole  Major Depressive Disorde      \n",
       "\n",
       "                                                                                                                                                                                                                                                                                                                                                                                                                                                                                                                                                                                                                                                                                                      review  \\\n",
       "130185  \"After trying nearly every SSRI on the market I was placed on Pristiq, which improved my condition somewhat, but still left me dependent on Xanax to alleviate my daily anxiety. After a particularly bad stretch I was also placed on Seroquel XR. It has helped more than I could have ever hoped for. I finally don&#039;t have to reach for a Xanax as soon as I wake up. It was very sedating for the first week after I started, and after increasing my dosage, but this has lessened with time. I do make sure to take it before bed, as it does make me tired as it kicks in, but I welcome this due to my problems with insomnia.\"                                                           \n",
       "155501  \"This takes 6+ months, but did clear up a decades long infection.\"                                                                                                                                                                                                                                                                                                                                                                                                                                                                                                                                                                                                                                     \n",
       "75325   \"Worked for awhile pretty well but then went back to maybe getting 2 hours of sleep a night if i was lucky! I need help and i feel so anxious i need something to help me with this horrible insomnia.\"                                                                                                                                                                                                                                                                                                                                                                                                                                                                                                \n",
       "19174   \"I was given this after surgery for pain as I can&#039;t have morphine and they tried 5 other drugs to sort me out before this. Omg I went on a wild trip I went thru dimensions of colour and walls, I couldn&#039;t get back into my body I thought I had died. Scary scary stuff. When I came out of the trip I was dizzy and seeing double, my pain was gone but didn&#039;t enjoy the experience at all.\"                                                                                                                                                                                                                                                                                         \n",
       "209735  \"Abilify served me well over a two month period. Of all of the antidepressants that I have taken over the past 20 years, I would give Abilify the highest rating. However, one of its potential side effects can be significantly increased blood glucose levels  in some Type 1 diabetics. Unfortunately I was one of these and I was never able to control these levels within an acceptable range and I had to discontinue Abilify as a result. These statements should be taken with caution since I was only able to take the drug for 8 weeks. I noted no other serious side-effects. I do suffer from ED but this is as much a result of 40 years of Type 1 diabetes as of any other factor.\"   \n",
       "\n",
       "        rating       date  usefulCount  \\\n",
       "130185  9      2010-11-26  102           \n",
       "155501  9      2008-05-03  39            \n",
       "75325   2      2016-04-21  15            \n",
       "19174   1      2016-04-16  19            \n",
       "209735  9      2016-12-16  5             \n",
       "\n",
       "                                                                                                                                                                                                                                                                                                                                                                                    review_clean  \\\n",
       "130185  tri near everi ssri market place pristiq improv condit somewhat still left depend xanax allevi daili anxieti particular bad stretch also place seroquel xr help could ever hope final reach xanax soon wake sedat first week start increas dosag lessen time make sure take bed make tire kick welcom due problem insomnia                                                                 \n",
       "155501  take month clear decad long infect                                                                                                                                                                                                                                                                                                                                                         \n",
       "75325   work awhil pretti well went back mayb get hour sleep night lucki need help feel anxious need someth help horribl insomnia                                                                                                                                                                                                                                                                  \n",
       "19174   given surgeri pain morphin tri drug sort omg went wild trip went thru dimens colour wall get back bodi thought die scari scari stuff came trip dizzi see doubl pain gone enjoy experi                                                                                                                                                                                                      \n",
       "209735  abilifi serv well two month period antidepress taken past year would give abilifi highest rate howev one potenti side effect signific increas blood glucos level type diabet unfortun one never abl control level within accept rang discontinu abilifi result statement taken caution sinc abl take drug week note no serious side effect suffer ed much result year type diabet factor   \n",
       "\n",
       "        sentiment  day  year  month  Predict_Sentiment  count_sent  \\\n",
       "130185  1          26   2010  11     0.023958           1            \n",
       "155501  1          3    2008  5      0.025000           1            \n",
       "75325   0          21   2016  4     -0.125000           1            \n",
       "19174   0          16   2016  4      0.166667           1            \n",
       "209735  1          16   2016  12     0.038889           1            \n",
       "\n",
       "        count_word  count_unique_word  count_letters  count_punctuations  \\\n",
       "130185  52          49                 314            17                   \n",
       "155501  6           6                  34             5                    \n",
       "75325   21          19                 121            4                    \n",
       "19174   33          29                 181            17                   \n",
       "209735  60          48                 376            12                   \n",
       "\n",
       "        count_words_upper  count_words_title  count_stopwords  mean_word_len  \\\n",
       "130185  10                 16                 62               5.057692        \n",
       "155501  0                  1                  4                4.833333        \n",
       "75325   1                  2                  18               4.809524        \n",
       "19174   9                  12                 39               4.515152        \n",
       "209735  9                  17                 62               5.283333        \n",
       "\n",
       "        season  \n",
       "130185  3       \n",
       "155501  1       \n",
       "75325   1       \n",
       "19174   1       \n",
       "209735  4       "
      ]
     },
     "execution_count": 68,
     "metadata": {},
     "output_type": "execute_result"
    }
   ],
   "source": [
    "df_all.head()"
   ]
  },
  {
   "cell_type": "code",
   "execution_count": 71,
   "metadata": {},
   "outputs": [
    {
     "data": {
      "text/plain": [
       "<matplotlib.figure.Figure at 0x1aa74d771d0>"
      ]
     },
     "execution_count": 71,
     "metadata": {},
     "output_type": "execute_result"
    },
    {
     "data": {
      "text/plain": [
       "<matplotlib.axes._subplots.AxesSubplot at 0x1aa74c78e80>"
      ]
     },
     "execution_count": 71,
     "metadata": {},
     "output_type": "execute_result"
    },
    {
     "data": {
      "text/plain": [
       "Text(0.5,1,'LightGBM Features (avg over folds)')"
      ]
     },
     "execution_count": 71,
     "metadata": {},
     "output_type": "execute_result"
    },
    {
     "data": {
      "image/png": "[encoded data removed]",
      "text/plain": [
       "<matplotlib.figure.Figure at 0x1aa74d771d0>"
      ]
     },
     "metadata": {},
     "output_type": "display_data"
    }
   ],
   "source": [
    "cols = feature_importance_df[[\"feature\", \"importance\"]].groupby(\"feature\").mean().sort_values(\n",
    "    by=\"importance\", ascending=False)[:50].index\n",
    "\n",
    "best_features = feature_importance_df.loc[feature_importance_df.feature.isin(cols)]\n",
    "\n",
    "plt.figure(figsize=(14,10))\n",
    "sns.barplot(x=\"importance\", y=\"feature\", data=best_features.sort_values(by=\"importance\", ascending=False))\n",
    "plt.title('LightGBM Features (avg over folds)')\n",
    "plt.tight_layout()\n",
    "plt.savefig('lgbm_importances.png')"
   ]
  },
  {
   "cell_type": "code",
   "execution_count": 72,
   "metadata": {},
   "outputs": [],
   "source": [
    "word_table = pd.read_csv(\"inquirerbasic.csv\")"
   ]
  },
  {
   "cell_type": "code",
   "execution_count": 73,
   "metadata": {},
   "outputs": [
    {
     "data": {
      "text/html": [
       "<div>\n",
       "<style scoped>\n",
       "    .dataframe tbody tr th:only-of-type {\n",
       "        vertical-align: middle;\n",
       "    }\n",
       "\n",
       "    .dataframe tbody tr th {\n",
       "        vertical-align: top;\n",
       "    }\n",
       "\n",
       "    .dataframe thead th {\n",
       "        text-align: right;\n",
       "    }\n",
       "</style>\n",
       "<table border=\"1\" class=\"dataframe\">\n",
       "  <thead>\n",
       "    <tr style=\"text-align: right;\">\n",
       "      <th></th>\n",
       "      <th>Entry</th>\n",
       "      <th>Source</th>\n",
       "      <th>Positiv</th>\n",
       "      <th>Negativ</th>\n",
       "    </tr>\n",
       "  </thead>\n",
       "  <tbody>\n",
       "    <tr>\n",
       "      <th>0</th>\n",
       "      <td>A</td>\n",
       "      <td>H4Lvd</td>\n",
       "      <td>NaN</td>\n",
       "      <td>NaN</td>\n",
       "    </tr>\n",
       "    <tr>\n",
       "      <th>1</th>\n",
       "      <td>ABANDON</td>\n",
       "      <td>H4Lvd</td>\n",
       "      <td>NaN</td>\n",
       "      <td>Negativ</td>\n",
       "    </tr>\n",
       "    <tr>\n",
       "      <th>2</th>\n",
       "      <td>ABANDONMENT</td>\n",
       "      <td>H4</td>\n",
       "      <td>NaN</td>\n",
       "      <td>Negativ</td>\n",
       "    </tr>\n",
       "    <tr>\n",
       "      <th>3</th>\n",
       "      <td>ABATE</td>\n",
       "      <td>H4Lvd</td>\n",
       "      <td>NaN</td>\n",
       "      <td>Negativ</td>\n",
       "    </tr>\n",
       "    <tr>\n",
       "      <th>4</th>\n",
       "      <td>ABATEMENT</td>\n",
       "      <td>Lvd</td>\n",
       "      <td>NaN</td>\n",
       "      <td>NaN</td>\n",
       "    </tr>\n",
       "  </tbody>\n",
       "</table>\n",
       "</div>"
      ],
      "text/plain": [
       "         Entry Source Positiv  Negativ\n",
       "0  A            H4Lvd  NaN     NaN    \n",
       "1  ABANDON      H4Lvd  NaN     Negativ\n",
       "2  ABANDONMENT  H4     NaN     Negativ\n",
       "3  ABATE        H4Lvd  NaN     Negativ\n",
       "4  ABATEMENT    Lvd    NaN     NaN    "
      ]
     },
     "execution_count": 73,
     "metadata": {},
     "output_type": "execute_result"
    }
   ],
   "source": [
    "word_table.head()"
   ]
  },
  {
   "cell_type": "code",
   "execution_count": 74,
   "metadata": {},
   "outputs": [
    {
     "data": {
      "text/plain": [
       "1915"
      ]
     },
     "execution_count": 74,
     "metadata": {},
     "output_type": "execute_result"
    },
    {
     "data": {
      "text/plain": [
       "1637"
      ]
     },
     "execution_count": 74,
     "metadata": {},
     "output_type": "execute_result"
    },
    {
     "data": {
      "text/plain": [
       "2291"
      ]
     },
     "execution_count": 74,
     "metadata": {},
     "output_type": "execute_result"
    },
    {
     "data": {
      "text/plain": [
       "2006"
      ]
     },
     "execution_count": 74,
     "metadata": {},
     "output_type": "execute_result"
    }
   ],
   "source": [
    "temp_Positiv = []\n",
    "Positiv_word_list = []\n",
    "for i in range(0,len(word_table.Positiv)):\n",
    "    if word_table.iloc[i,2] == \"Positiv\":\n",
    "        temp = word_table.iloc[i,0].lower()\n",
    "        temp1 = re.sub('\\d+', '', temp)\n",
    "        temp2 = re.sub('#', '', temp1) \n",
    "        temp_Positiv.append(temp2)\n",
    "\n",
    "Positiv_word_list = list(set(temp_Positiv))\n",
    "len(temp_Positiv)\n",
    "len(Positiv_word_list)  #del temp_Positiv\n",
    "\n",
    "#Negativ word list          \n",
    "temp_Negativ = []\n",
    "Negativ_word_list = []\n",
    "for i in range(0,len(word_table.Negativ)):\n",
    "    if word_table.iloc[i,3] == \"Negativ\":\n",
    "        temp = word_table.iloc[i,0].lower()\n",
    "        temp1 = re.sub('\\d+', '', temp)\n",
    "        temp2 = re.sub('#', '', temp1) \n",
    "        temp_Negativ.append(temp2)\n",
    "\n",
    "Negativ_word_list = list(set(temp_Negativ))\n",
    "len(temp_Negativ)\n",
    "len(Negativ_word_list)"
   ]
  },
  {
   "cell_type": "code",
   "execution_count": 75,
   "metadata": {},
   "outputs": [],
   "source": [
    "import numpy as np\n",
    "from sklearn.feature_extraction.text import CountVectorizer\n",
    "\n",
    "vectorizer = CountVectorizer(vocabulary = Positiv_word_list)\n",
    "content = df_test['review_clean']\n",
    "X = vectorizer.fit_transform(content)\n",
    "f = X.toarray()\n",
    "f = pd.DataFrame(f)\n",
    "f.columns=Positiv_word_list\n",
    "df_test[\"num_Positiv_word\"] = f.sum(axis=1)\n",
    "\n",
    "vectorizer2 = CountVectorizer(vocabulary = Negativ_word_list)\n",
    "content = df_test['review_clean']\n",
    "X2 = vectorizer2.fit_transform(content)\n",
    "f2 = X2.toarray()\n",
    "f2 = pd.DataFrame(f2)\n",
    "f2.columns=Negativ_word_list\n",
    "df_test[\"num_Negativ_word\"] = f2.sum(axis=1)"
   ]
  },
  {
   "cell_type": "code",
   "execution_count": 76,
   "metadata": {},
   "outputs": [
    {
     "data": {
      "text/html": [
       "<div>\n",
       "<style scoped>\n",
       "    .dataframe tbody tr th:only-of-type {\n",
       "        vertical-align: middle;\n",
       "    }\n",
       "\n",
       "    .dataframe tbody tr th {\n",
       "        vertical-align: top;\n",
       "    }\n",
       "\n",
       "    .dataframe thead th {\n",
       "        text-align: right;\n",
       "    }\n",
       "</style>\n",
       "<table border=\"1\" class=\"dataframe\">\n",
       "  <thead>\n",
       "    <tr style=\"text-align: right;\">\n",
       "      <th></th>\n",
       "      <th>uniqueID</th>\n",
       "      <th>drugName</th>\n",
       "      <th>condition</th>\n",
       "      <th>review</th>\n",
       "      <th>rating</th>\n",
       "      <th>date</th>\n",
       "      <th>usefulCount</th>\n",
       "      <th>review_clean</th>\n",
       "      <th>sentiment</th>\n",
       "      <th>day</th>\n",
       "      <th>year</th>\n",
       "      <th>month</th>\n",
       "      <th>Predict_Sentiment</th>\n",
       "      <th>count_sent</th>\n",
       "      <th>count_word</th>\n",
       "      <th>count_unique_word</th>\n",
       "      <th>count_letters</th>\n",
       "      <th>count_punctuations</th>\n",
       "      <th>count_words_upper</th>\n",
       "      <th>count_words_title</th>\n",
       "      <th>count_stopwords</th>\n",
       "      <th>mean_word_len</th>\n",
       "      <th>season</th>\n",
       "      <th>num_Positiv_word</th>\n",
       "      <th>num_Negativ_word</th>\n",
       "      <th>Positiv_ratio</th>\n",
       "      <th>sentiment_by_dic</th>\n",
       "    </tr>\n",
       "  </thead>\n",
       "  <tbody>\n",
       "    <tr>\n",
       "      <th>147354</th>\n",
       "      <td>126702</td>\n",
       "      <td>Brimonidine</td>\n",
       "      <td>Rosacea</td>\n",
       "      <td>\"Never , never , never use this cream !!!!!! It doesn&amp;#039;t help in any way !!!! I&amp;#039;m so angry and disappointed because my face is extremely red after this cream!!! I finished my 6 months accutane and went to my derm because I have little red blemishes from acne. He gave me samples of this cream. I applied it at night. In the morning my face was like snow. I haven&amp;#039;t seen my face like that before, but closer to the evening my face turned bright red .!! Now it&amp;#039;s the second day after this cream and my face is still red. I&amp;#039;m extremely disappointed in this cream !!!!! I want to sue the mircaso company !!!!!! How people can make such harmful products for face ???!!!\"</td>\n",
       "      <td>1</td>\n",
       "      <td>2015-08-31</td>\n",
       "      <td>17</td>\n",
       "      <td>never never never use cream help way angri disappoint face extrem red cream finish month accutan went derm littl red blemish acn gave sampl cream appli night morn face like snow seen face like closer even face turn bright red second day cream face still red extrem disappoint cream want sue mircaso compani peopl make harm product face</td>\n",
       "      <td>0</td>\n",
       "      <td>31</td>\n",
       "      <td>2015</td>\n",
       "      <td>8</td>\n",
       "      <td>0.116667</td>\n",
       "      <td>1</td>\n",
       "      <td>58</td>\n",
       "      <td>41</td>\n",
       "      <td>335</td>\n",
       "      <td>58</td>\n",
       "      <td>5</td>\n",
       "      <td>11</td>\n",
       "      <td>54</td>\n",
       "      <td>4.793103</td>\n",
       "      <td>2</td>\n",
       "      <td>NaN</td>\n",
       "      <td>NaN</td>\n",
       "      <td>NaN</td>\n",
       "      <td>0.5</td>\n",
       "    </tr>\n",
       "    <tr>\n",
       "      <th>195249</th>\n",
       "      <td>84765</td>\n",
       "      <td>Ethinyl estradiol / norgestimate</td>\n",
       "      <td>Birth Control</td>\n",
       "      <td>\"I was switched to this after about 9 months of Mononessa. I didn&amp;#039;t ask to switch it just happened. Anyways, I did not experience any side effects at all. My only small complaint is that my period doesn&amp;#039;t start until mid-late Wednesday and it&amp;#039;s just inconvenient because on Mononessa it start Monday night or Tuesday morning so I freak out a little bit over that. I do think it made my cramps less intense and my period lighter. It still lasts about 6 days although the last two days are almost nothing. I was afraid to switch but it wasn&amp;#039;t bad so if you&amp;#039;re in my shoes, think positively!\"</td>\n",
       "      <td>10</td>\n",
       "      <td>2016-05-01</td>\n",
       "      <td>3</td>\n",
       "      <td>switch month mononessa ask switch happen anyway not experi side effect small complaint period start mid late wednesday inconveni mononessa start monday night tuesday morn freak littl bit think made cramp less intens period lighter still last day although last two day almost noth afraid switch bad shoe think posit</td>\n",
       "      <td>1</td>\n",
       "      <td>1</td>\n",
       "      <td>2016</td>\n",
       "      <td>5</td>\n",
       "      <td>-0.257407</td>\n",
       "      <td>1</td>\n",
       "      <td>50</td>\n",
       "      <td>42</td>\n",
       "      <td>314</td>\n",
       "      <td>27</td>\n",
       "      <td>6</td>\n",
       "      <td>14</td>\n",
       "      <td>50</td>\n",
       "      <td>5.300000</td>\n",
       "      <td>1</td>\n",
       "      <td>NaN</td>\n",
       "      <td>NaN</td>\n",
       "      <td>NaN</td>\n",
       "      <td>0.5</td>\n",
       "    </tr>\n",
       "    <tr>\n",
       "      <th>86265</th>\n",
       "      <td>71559</td>\n",
       "      <td>Vraylar</td>\n",
       "      <td>Bipolar Disorde</td>\n",
       "      <td>\"I began at 1.5 then titrated to 3mg dosage. At first, I loved the medicine, as it completely eliminated my depressive symptoms and helped regulate my sleep. However, after being on the medicine for two weeks, I developed Akisthesia and was told to stop. However, for those who do not experience TDS or EPS from the medicine, I imagine this will be a solid option to consider. Just be warned- the most common side effect listed is &amp;quot;restlessness,&amp;quot; which hit me hard and fast.\"</td>\n",
       "      <td>3</td>\n",
       "      <td>2016-08-17</td>\n",
       "      <td>17</td>\n",
       "      <td>began titrat mg dosag first love medicin complet elimin depress symptom help regul sleep howev medicin two week develop akisthesia told stop howev not experi tds ep medicin imagin solid option consid warn common side effect list restless hit hard fast</td>\n",
       "      <td>0</td>\n",
       "      <td>17</td>\n",
       "      <td>2016</td>\n",
       "      <td>8</td>\n",
       "      <td>0.041667</td>\n",
       "      <td>1</td>\n",
       "      <td>41</td>\n",
       "      <td>38</td>\n",
       "      <td>251</td>\n",
       "      <td>20</td>\n",
       "      <td>6</td>\n",
       "      <td>9</td>\n",
       "      <td>41</td>\n",
       "      <td>5.146341</td>\n",
       "      <td>2</td>\n",
       "      <td>NaN</td>\n",
       "      <td>NaN</td>\n",
       "      <td>NaN</td>\n",
       "      <td>0.5</td>\n",
       "    </tr>\n",
       "    <tr>\n",
       "      <th>44172</th>\n",
       "      <td>132320</td>\n",
       "      <td>Ativan</td>\n",
       "      <td>Anxiety</td>\n",
       "      <td>\"Ativan 0.5mg calms me down considerably within 30 minutes, but the side effects are so bad that I can&amp;#039;t continue to take it. I experienced EXTREME, loss of energy, tiredness, laziness, apathy, and increase in appetite.  This might be okay for someone who&amp;#039;s at home trying to recover from panic attacks, but not for me. I work 5 days a week and this past week that I was only taking 1 x 0.5mg pill a day was the absolute worst week I&amp;#039;ve ever had at work, living in a fog and totally wiped out of energy. I hardly got ANYTHING done which is totally out of character for me.  Also when this medicine wears off in a few hours it makes me very irritable and nervous. \"</td>\n",
       "      <td>5</td>\n",
       "      <td>2012-01-12</td>\n",
       "      <td>26</td>\n",
       "      <td>ativan mg calm consider within minut side effect bad continu take experienc extrem loss energi tired lazi apathi increas appetit might okay someon home tri recov panic attack not work day week past week take x mg pill day absolut worst week ever work live fog total wipe energi hard got anyth done total charact also medicin wear hour make irrit nervous</td>\n",
       "      <td>0</td>\n",
       "      <td>12</td>\n",
       "      <td>2012</td>\n",
       "      <td>1</td>\n",
       "      <td>-0.170530</td>\n",
       "      <td>1</td>\n",
       "      <td>62</td>\n",
       "      <td>54</td>\n",
       "      <td>353</td>\n",
       "      <td>27</td>\n",
       "      <td>7</td>\n",
       "      <td>8</td>\n",
       "      <td>55</td>\n",
       "      <td>4.709677</td>\n",
       "      <td>4</td>\n",
       "      <td>0.0</td>\n",
       "      <td>4.0</td>\n",
       "      <td>0.0</td>\n",
       "      <td>0.0</td>\n",
       "    </tr>\n",
       "    <tr>\n",
       "      <th>90569</th>\n",
       "      <td>177278</td>\n",
       "      <td>Duloxetine</td>\n",
       "      <td>Generalized Anxiety Disorde</td>\n",
       "      <td>\"My thoughts on Cymbalta: Cymbalta has left me in a fog. I have no feelings- NONE. Driving is a chore as my eyes are excessively shifty. God forbid you ever forget to take your medication as you will be stricken with these obnoxious little shocks (which I&amp;#039;ve recently learned were  called &amp;#039;brain zaps&amp;#039;.) My heart beat is erratic. My brain is unable to form the right words when I talk which causes me to pause when I speak. I zone out regularly. \\r\\nI&amp;#039;ve been trying to taper off of this medication and am on day 9. The withdrawals are debilitating. I cannot focus. My chest and my jaw are tense. My fog has worsened significantly. Driving is dangerous as my vision is blurred. I am angry and easily agitated. I feel like crying but I can&amp;#039;t. JUST SAY NO!!\"</td>\n",
       "      <td>1</td>\n",
       "      <td>2017-05-03</td>\n",
       "      <td>29</td>\n",
       "      <td>thought cymbalta cymbalta left fog no feel none drive chore eye excess shifti god forbid ever forget take medic stricken obnoxi littl shock recent learn call brain zap heart beat errat brain unabl form right word talk caus paus speak zone regular tri taper medic day withdraw debilit cannot focus chest jaw tens fog worsen signific drive danger vision blur angri easili agit feel like cri say no</td>\n",
       "      <td>0</td>\n",
       "      <td>3</td>\n",
       "      <td>2017</td>\n",
       "      <td>5</td>\n",
       "      <td>0.071429</td>\n",
       "      <td>2</td>\n",
       "      <td>68</td>\n",
       "      <td>61</td>\n",
       "      <td>395</td>\n",
       "      <td>38</td>\n",
       "      <td>12</td>\n",
       "      <td>19</td>\n",
       "      <td>65</td>\n",
       "      <td>4.823529</td>\n",
       "      <td>1</td>\n",
       "      <td>NaN</td>\n",
       "      <td>NaN</td>\n",
       "      <td>NaN</td>\n",
       "      <td>0.5</td>\n",
       "    </tr>\n",
       "  </tbody>\n",
       "</table>\n",
       "</div>"
      ],
      "text/plain": [
       "        uniqueID                          drugName  \\\n",
       "147354  126702    Brimonidine                        \n",
       "195249  84765     Ethinyl estradiol / norgestimate   \n",
       "86265   71559     Vraylar                            \n",
       "44172   132320    Ativan                             \n",
       "90569   177278    Duloxetine                         \n",
       "\n",
       "                          condition  \\\n",
       "147354  Rosacea                       \n",
       "195249  Birth Control                 \n",
       "86265   Bipolar Disorde               \n",
       "44172   Anxiety                       \n",
       "90569   Generalized Anxiety Disorde   \n",
       "\n",
       "                                                                                                                                                                                                                                                                                                                                                                                                                                                                                                                                                                                                                                                                                                                                                                                                               review  \\\n",
       "147354  \"Never , never , never use this cream !!!!!! It doesn&#039;t help in any way !!!! I&#039;m so angry and disappointed because my face is extremely red after this cream!!! I finished my 6 months accutane and went to my derm because I have little red blemishes from acne. He gave me samples of this cream. I applied it at night. In the morning my face was like snow. I haven&#039;t seen my face like that before, but closer to the evening my face turned bright red .!! Now it&#039;s the second day after this cream and my face is still red. I&#039;m extremely disappointed in this cream !!!!! I want to sue the mircaso company !!!!!! How people can make such harmful products for face ???!!!\"                                                                                               \n",
       "195249  \"I was switched to this after about 9 months of Mononessa. I didn&#039;t ask to switch it just happened. Anyways, I did not experience any side effects at all. My only small complaint is that my period doesn&#039;t start until mid-late Wednesday and it&#039;s just inconvenient because on Mononessa it start Monday night or Tuesday morning so I freak out a little bit over that. I do think it made my cramps less intense and my period lighter. It still lasts about 6 days although the last two days are almost nothing. I was afraid to switch but it wasn&#039;t bad so if you&#039;re in my shoes, think positively!\"                                                                                                                                                                          \n",
       "86265   \"I began at 1.5 then titrated to 3mg dosage. At first, I loved the medicine, as it completely eliminated my depressive symptoms and helped regulate my sleep. However, after being on the medicine for two weeks, I developed Akisthesia and was told to stop. However, for those who do not experience TDS or EPS from the medicine, I imagine this will be a solid option to consider. Just be warned- the most common side effect listed is &quot;restlessness,&quot; which hit me hard and fast.\"                                                                                                                                                                                                                                                                                                           \n",
       "44172   \"Ativan 0.5mg calms me down considerably within 30 minutes, but the side effects are so bad that I can&#039;t continue to take it. I experienced EXTREME, loss of energy, tiredness, laziness, apathy, and increase in appetite.  This might be okay for someone who&#039;s at home trying to recover from panic attacks, but not for me. I work 5 days a week and this past week that I was only taking 1 x 0.5mg pill a day was the absolute worst week I&#039;ve ever had at work, living in a fog and totally wiped out of energy. I hardly got ANYTHING done which is totally out of character for me.  Also when this medicine wears off in a few hours it makes me very irritable and nervous. \"                                                                                                         \n",
       "90569   \"My thoughts on Cymbalta: Cymbalta has left me in a fog. I have no feelings- NONE. Driving is a chore as my eyes are excessively shifty. God forbid you ever forget to take your medication as you will be stricken with these obnoxious little shocks (which I&#039;ve recently learned were  called &#039;brain zaps&#039;.) My heart beat is erratic. My brain is unable to form the right words when I talk which causes me to pause when I speak. I zone out regularly. \\r\\nI&#039;ve been trying to taper off of this medication and am on day 9. The withdrawals are debilitating. I cannot focus. My chest and my jaw are tense. My fog has worsened significantly. Driving is dangerous as my vision is blurred. I am angry and easily agitated. I feel like crying but I can&#039;t. JUST SAY NO!!\"   \n",
       "\n",
       "        rating       date  usefulCount  \\\n",
       "147354  1      2015-08-31  17            \n",
       "195249  10     2016-05-01  3             \n",
       "86265   3      2016-08-17  17            \n",
       "44172   5      2012-01-12  26            \n",
       "90569   1      2017-05-03  29            \n",
       "\n",
       "                                                                                                                                                                                                                                                                                                                                                                                                       review_clean  \\\n",
       "147354  never never never use cream help way angri disappoint face extrem red cream finish month accutan went derm littl red blemish acn gave sampl cream appli night morn face like snow seen face like closer even face turn bright red second day cream face still red extrem disappoint cream want sue mircaso compani peopl make harm product face                                                               \n",
       "195249  switch month mononessa ask switch happen anyway not experi side effect small complaint period start mid late wednesday inconveni mononessa start monday night tuesday morn freak littl bit think made cramp less intens period lighter still last day although last two day almost noth afraid switch bad shoe think posit                                                                                    \n",
       "86265   began titrat mg dosag first love medicin complet elimin depress symptom help regul sleep howev medicin two week develop akisthesia told stop howev not experi tds ep medicin imagin solid option consid warn common side effect list restless hit hard fast                                                                                                                                                   \n",
       "44172   ativan mg calm consider within minut side effect bad continu take experienc extrem loss energi tired lazi apathi increas appetit might okay someon home tri recov panic attack not work day week past week take x mg pill day absolut worst week ever work live fog total wipe energi hard got anyth done total charact also medicin wear hour make irrit nervous                                             \n",
       "90569   thought cymbalta cymbalta left fog no feel none drive chore eye excess shifti god forbid ever forget take medic stricken obnoxi littl shock recent learn call brain zap heart beat errat brain unabl form right word talk caus paus speak zone regular tri taper medic day withdraw debilit cannot focus chest jaw tens fog worsen signific drive danger vision blur angri easili agit feel like cri say no   \n",
       "\n",
       "        sentiment  day  year  month  Predict_Sentiment  count_sent  \\\n",
       "147354  0          31   2015  8      0.116667           1            \n",
       "195249  1          1    2016  5     -0.257407           1            \n",
       "86265   0          17   2016  8      0.041667           1            \n",
       "44172   0          12   2012  1     -0.170530           1            \n",
       "90569   0          3    2017  5      0.071429           2            \n",
       "\n",
       "        count_word  count_unique_word  count_letters  count_punctuations  \\\n",
       "147354  58          41                 335            58                   \n",
       "195249  50          42                 314            27                   \n",
       "86265   41          38                 251            20                   \n",
       "44172   62          54                 353            27                   \n",
       "90569   68          61                 395            38                   \n",
       "\n",
       "        count_words_upper  count_words_title  count_stopwords  mean_word_len  \\\n",
       "147354  5                  11                 54               4.793103        \n",
       "195249  6                  14                 50               5.300000        \n",
       "86265   6                  9                  41               5.146341        \n",
       "44172   7                  8                  55               4.709677        \n",
       "90569   12                 19                 65               4.823529        \n",
       "\n",
       "        season  num_Positiv_word  num_Negativ_word  Positiv_ratio  \\\n",
       "147354  2      NaN               NaN               NaN              \n",
       "195249  1      NaN               NaN               NaN              \n",
       "86265   2      NaN               NaN               NaN              \n",
       "44172   4       0.0               4.0               0.0             \n",
       "90569   1      NaN               NaN               NaN              \n",
       "\n",
       "        sentiment_by_dic  \n",
       "147354  0.5               \n",
       "195249  0.5               \n",
       "86265   0.5               \n",
       "44172   0.0               \n",
       "90569   0.5               "
      ]
     },
     "execution_count": 76,
     "metadata": {},
     "output_type": "execute_result"
    }
   ],
   "source": [
    "df_test[\"Positiv_ratio\"] = df_test[\"num_Positiv_word\"]/(df_test[\"num_Positiv_word\"]+df_test[\"num_Negativ_word\"])\n",
    "df_test[\"sentiment_by_dic\"] = df_test[\"Positiv_ratio\"].apply(lambda x: 1 if (x>=0.5) else (0 if (x<0.5) else 0.5))\n",
    "\n",
    "df_test.head()"
   ]
  },
  {
   "cell_type": "code",
   "execution_count": null,
   "metadata": {},
   "outputs": [],
   "source": [
    "def userful_count(data):\n",
    "    grouped = data.groupby(['condition']).size().reset_index(name='user_size')\n",
    "    data = pd.merge(data,grouped,on='condition',how='left')\n",
    "    return data\n",
    "df_test =  userful_count(df_test) \n",
    "df_test['usefulCount'] = df_test['usefulCount']/df_test['user_size']"
   ]
  },
  {
   "cell_type": "code",
   "execution_count": null,
   "metadata": {},
   "outputs": [],
   "source": [
    "df_test['deep_pred'] = sub_preds_deep\n",
    "df_test['machine_pred'] = sub_preds\n",
    "\n",
    "df_test['total_pred'] = (df_test['deep_pred'] + df_test['machine_pred'] + df_test['sentiment_by_dic'])*df_test['usefulCount']"
   ]
  },
  {
   "cell_type": "code",
   "execution_count": null,
   "metadata": {},
   "outputs": [],
   "source": [
    "df_test = df_test.groupby(['condition','drugName']).agg({'total_pred' : ['mean']})\n",
    "df_test"
   ]
  },
  {
   "cell_type": "code",
   "execution_count": null,
   "metadata": {},
   "outputs": [],
   "source": []
  },
  {
   "cell_type": "code",
   "execution_count": null,
   "metadata": {},
   "outputs": [],
   "source": []
  }
 ],
 "metadata": {
  "kernelspec": {
   "display_name": "Python 3",
   "language": "python",
   "name": "python3"
  },
  "language_info": {
   "codemirror_mode": {
    "name": "ipython",
    "version": 3
   },
   "file_extension": ".py",
   "mimetype": "text/x-python",
   "name": "python",
   "nbconvert_exporter": "python",
   "pygments_lexer": "ipython3",
   "version": "3.6.4"
  }
 },
 "nbformat": 4,
 "nbformat_minor": 2
}
